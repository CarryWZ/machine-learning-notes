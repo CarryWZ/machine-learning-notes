{
 "cells": [
  {
   "cell_type": "markdown",
   "metadata": {},
   "source": [
    "# 声学模型的区分性训练\n",
    "声学模型的初始模型训练都是基于MLE（Maximum Likelihood Estimation）准则的，该方法简单，训练速度快，但是没有考虑到模型之间的区分性，导致识别中易发生混淆。解决方法为使用区分性训练准则（Discriminative training）来训练模型参数，主要的区分性准则有：\n",
    "\n",
    "* 最大互信息准则（MMI，Maximum Mutual Information）\n",
    "* 最小分类误差准则（MCE，Minimum Classification Error）\n",
    "* 最小音素误差准则（MPE，Minimum Phone Error）\n",
    "\n",
    "在进一步介绍这三个准则之前先引入相关的记号，以方便后面的叙述。"
   ]
  },
  {
   "cell_type": "markdown",
   "metadata": {},
   "source": [
    "## 相关记号\n",
    "\n",
    "假设我们有$R$个观测值序列：$\\{\\mathcal{O}_1,\\mathcal{O}_2,...,\\mathcal{O}_R\\}$，其对应的词序列为$\\{w_1,w_2,...,w_R\\}$"
   ]
  },
  {
   "cell_type": "markdown",
   "metadata": {},
   "source": [
    "## 最大互信息准则（MMI）\n",
    "最大似然估计（MLE）的目标函数为\n",
    "$$\\mathcal{F}_{MLE}(\\lambda)=\\sum_{r=1}^R ln P_{\\lambda}(\\mathcal{O}_r|M_r)$$\n",
    "其中$\\lambda$为声学模型的参数，$M_r$表示词第$r$个训练样本对应的复合HMM模型。\n",
    "最大互信息准则（MMI）的目标函数为\n",
    "$$\\mathcal{F}_{MMI}(\\lambda)=\\sum_{r=1}^R ln \\frac{P_{\\lambda}(\\mathcal{O}_r|M_r)P(w_r)}{\\sum_{\\hat{w}}P_{\\lambda}(\\mathcal{O}_r|M_{\\hat{w}})P(\\hat{w})}$$"
   ]
  },
  {
   "cell_type": "markdown",
   "metadata": {},
   "source": [
    "## 最小分类误差准则（MCE）\n",
    "\n",
    "$$d_i(X)=-g_i(X;\\Lambda)+log\\bigg[\\frac{1}{M-1}\\sum_{j\\neq i}\\exp [g_j(X;\\Lambda)\\eta]\\bigg]^{1/\\eta}$$\n",
    "\n",
    "$$\\ell(d)=\\frac{1}{1+\\exp(-\\gamma d+\\theta)}$$\n",
    "\n",
    "$$\\ell(X;\\Lambda)=\\sum_{i=1}^M \\ell_i(X;\\Lambda) 1(X\\in C_i)$$\n",
    "\n",
    "Empirical loss:\n",
    "$$ L_0(\\Lambda)=\\frac{1}{N}\\sum_{j=1}^N\\sum_{i=1}^M\\ell_i(X_j;\\Lambda)1(X_j\\in C_i)$$\n",
    "\n",
    "待续..."
   ]
  }
 ],
 "metadata": {
  "kernelspec": {
   "display_name": "Python 2",
   "language": "python",
   "name": "python2"
  },
  "language_info": {
   "codemirror_mode": {
    "name": "ipython",
    "version": 2
   },
   "file_extension": ".py",
   "mimetype": "text/x-python",
   "name": "python",
   "nbconvert_exporter": "python",
   "pygments_lexer": "ipython2",
   "version": "2.7.12"
  }
 },
 "nbformat": 4,
 "nbformat_minor": 0
}
