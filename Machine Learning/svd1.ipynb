{
 "cells": [
  {
   "cell_type": "markdown",
   "metadata": {},
   "source": [
    "# 奇异值分解系列1\n",
    "## 线性代数拾遗\n",
    "在介绍奇异值分解之前，先来回顾线性代数中的一些重要概念。\n",
    "### 线性变换\n",
    "我们考察一个线性变换\n",
    "$$\\left\\{\\begin{aligned}&x'=2x+y\\\\&y'=-x+y\\end{aligned}\\right.$$\n",
    "我们可以将这个线性变换表示为一个矩阵和一个向量的乘积：\n",
    "$$\\begin{bmatrix}x'\\\\ y'\\end{bmatrix}=\\begin{bmatrix}2 & 1\\\\-1 & 1\\end{bmatrix}\\begin{bmatrix}x\\\\ y\\end{bmatrix}$$\n",
    "于是我们可以用一个矩阵$A$来描述这样一个线性变换：\n",
    "$$A=\\begin{bmatrix}2 & 1\\\\-1 & 1\\end{bmatrix}$$\n",
    "举个例子来说明。假设我们有一个向量:\n",
    "$$ \\mathbf{x}=\\begin{bmatrix}1\\\\ 3\\end{bmatrix}$$\n",
    "经过矩阵A变换后变为\n",
    "$$ \\mathbf{x}'=A\\mathbf{x}=\\begin{bmatrix}5\\\\2\\end{bmatrix}$$\n",
    "其变换过程如下图所示：\n",
    "<img src=http://7xikew.com1.z0.glb.clouddn.com/linear-transform.png width=300px>\n",
    "从图中我们看到，一个线性变换相当于对一个向量作了两种操作：旋转和拉伸（但不包括平移）。特别地，有一种特殊的线性变换，它只对向量进行了拉伸，而不改变向量的方向，这种情况发生于当一个矩阵作用于它的特征向量时。\n",
    "### 正交矩阵\n",
    "如果一个n阶矩阵满足\n",
    "$$ U^\\top U=I\\\\U^{-1}=U^\\top$$\n",
    "则称$U$为正交矩阵。上述关系透露出两个信息：  \n",
    "1）$U$的各列间彼此正交，$u_i^\\top u_j=0(i\\neq j)$  \n",
    "2）$U$的各列由单位向量组成$\\left\\|u_i\\right\\|=1$  \n",
    "正交矩阵是一类特殊的线性变换，它具有以下性质：\n",
    "* 保长性：当正交变换作用于一个向量后，该向量的长度不变  \n",
    "对$\\mathbf{x}$作正交变换$\\mathbf{y}=U\\mathbf{x}$，则$\\mathbf{y}^T\\mathbf{y}=\\mathbf{x}^\\top U^\\top U \\mathbf{x}=\\mathbf{x}^\\top \\mathbf{x}$，即$|y|=|x|$  \n",
    "* 保角性：两个向量经过正交变换后夹角不变  \n",
    "对$\\mathbf{x}_1,\\mathbf{x}_2$作正交变换$\\mathbf{y}_1=U\\mathbf{x}_1,\\mathbf{y}_2=U\\mathbf{x}_2$，则$\\cos<\\mathbf{y}_1,\\mathbf{y}_2>=\\frac{\\mathbf{y}_1^\\top\\mathbf{y}_2}{|\\mathbf{y}_1||\\mathbf{y}_2|}=\\frac{\\mathbf{x}_1^\\top\\mathbf{x}_2}{|\\mathbf{x}_1||\\mathbf{x}_2|}=\\cos<\\mathbf{x}_1, \\mathbf{x}_2>$  \n",
    "由此可以得出，正交变换只对向量作了旋转。"
   ]
  },
  {
   "cell_type": "markdown",
   "metadata": {},
   "source": [
    "### 矩阵的对角分解\n",
    ">给定一个方阵n阶$A$，如果其有n个线性无关的特征向量，则可以将其分解为\n",
    "$$A=S\\Lambda S^{-1}$$\n",
    "其中，$\\Lambda$为对角矩阵，其对角元为$A$的各特征值，$S$为可逆矩阵，其列为$A$的各特征向量。  \n",
    "\n",
    "特别地，当$A$为对称矩阵时，可以将其分解为$A=Q\\Lambda Q^T$，$Q$为正交矩阵\n",
    "\n",
    "### 矩阵的四个基本子空间\n",
    "给定一个$m\\times n$矩阵$A$，它的四个基本子空间定义为：\n",
    "* 列空间$C(A)$，维数为$r(A)$\n",
    "* 行空间$C(A^T)$，维数为$r(A)$，等价于$A^T$的列空间\n",
    "* 零空间$N(A)$，维数为$n-r(A)$，由所有满足$Ax=0$的向量$x$组成\n",
    "* 左零空间$N(A^T)$，维数为$m-r(A)$，等价于$A^\\top$的零空间\n",
    "\n",
    "其中$r(A)$表示$A$的秩。由秩-零化度定理，$rank(A)+nullity(A)=n$，故行空间与零空间互补，构成$\\mathbb{R}^n$；列空间与左零空间互补，构成$\\mathbb{R}^m$"
   ]
  },
  {
   "cell_type": "markdown",
   "metadata": {},
   "source": [
    "## 奇异值分解\n",
    "奇异值这个词最早由法国数学家 Émile Picard提出，用于形容异常、不平凡的事物。奇异值分解（SVD）是线性代数中一种常用的矩阵分解方法，与特征值分解不同的是，它不要求被分解矩阵必须是方阵，因此具有较好的可推广性。\n",
    "\n",
    ">定理（奇异值分解-full svd）  \n",
    "给定一个矩阵$A_{m\\times n}$，则矩阵$A$的奇异值分解为：\n",
    "$$A_{m\\times n}=U_{m\\times m}\\Sigma_{m\\times n} V_{n\\times n}^\\top$$\n",
    "\n",
    "其中，$U$和$V$分别是$m\\times m$和$n\\times n$的正交矩阵，$\\Sigma$是一个$m\\times n$的“对角”矩阵，其形式是\n",
    "$$\\Sigma_{m\\times n}=\\begin{bmatrix}D_{r\\times r} & 0\\\\0& 0\\end{bmatrix}$$\n",
    "$D$表示一个$r\\times r$的对角矩阵（$r=rank(A)$），其对角元为$\\sigma_1\\geq \\sigma_2\\geq \\cdots\\geq \\sigma_r\\geq 0$，称为$A$的奇异值。$U$的列称为$A$的左奇异向量，$V$的列称为$A$的的右奇异向量。\n",
    "\n",
    "\n"
   ]
  },
  {
   "cell_type": "markdown",
   "metadata": {},
   "source": [
    "### SVD的基本思想\n",
    "设$A$是一个$m\\times n$的矩阵，$v_1,...,v_r$是其行空间的一组标准正交基，$u_1,...,u_r$是其列空间的一组标准正交基，SVD的目标是找出这样的一组正交基，使得在线性变换$A$的作用下，$v_i$与$u_i$同向，即$A v_i=\\sigma_i u_i (1\\leq i\\leq r)$  \n",
    "我们分别为这两组基作扩充，为行空间添上零空间的标准正交基（补齐为n个基向量），为列空间加上左零空间的标准正交基（补齐为m个基向量），我们有\n",
    "<img src=http://7xikew.com1.z0.glb.clouddn.com/svd1.png width=500px>\n",
    "将上式写成矩阵形式我们有：\n",
    "$$AV=U\\Sigma$$\n",
    "因为$V$是正交矩阵，于是我们得到了SVD的分解式：\n",
    "$$A=U\\Sigma V^T$$\n",
    "### Reduced-SVD\n",
    "上面的full svd中，我们需要额外存储零空间、左零空间的正交基，这实际上是没必要的，去掉它们可以提高计算效率，于是我们有了如下三种SVD的变种。\n",
    "1.thin svd\n",
    ">**定理**（奇异值分解-thin svd）  \n",
    "给定一个矩阵$A_{m\\times n}$，则矩阵$A$的奇异值分解为：\n",
    "$$A_{m\\times n}=U_{m\\times q}\\Sigma_{q\\times q} V_{q\\times n}^\\top$$\n",
    "\n",
    "其中$q=\\min(m, n)$\n",
    "\n",
    "2.compact svd \n",
    ">**定理**（奇异值分解-compact svd）  \n",
    "给定一个矩阵$A_{m\\times n}$，则矩阵$A$的奇异值分解为：\n",
    "$$A_{m\\times n}=U_{m\\times r}\\Sigma_{r\\times r} V_{r\\times n}^\\top$$\n",
    "\n",
    "其中$r=rank(A)$\n",
    "\n",
    "3.truncated svd\n",
    ">**定理**（奇异值分解-truncated svd）  \n",
    "给定一个矩阵$A_{m\\times n}$，则矩阵$A$的奇异值分解为：\n",
    "$$A_{m\\times n}\\approx U_{m\\times k}\\Sigma_{k\\times k} V_{k\\times n}^\\top$$\n",
    "\n",
    "其中$k<rank(A)$，也称为rank为k时对$A$的近似（k阶近似，rank-k approximation）\n",
    "\n",
    "### SVD的基本性质\n",
    "* $AA^\\top$与$A^\\top A$的特征值相同\n",
    "* $A$的左奇异向量是$AA^\\top$的特征向量\n",
    "$$AA^\\top = U\\Sigma V^\\top V\\Sigma U^\\top=U\\Sigma^2 U^\\top\\to AA^\\top U=U\\Sigma^2$$\n",
    "* $A$的右奇异向量是$A^\\top A$的特征向量\n",
    "$$A^\\top A=V\\Sigma U^\\top U\\Sigma V^\\top =V\\Sigma^2 V^\\top\\to A^\\top AV=V\\Sigma^2$$\n",
    "\n",
    "### SVD的几何解释\n",
    "根据奇异值分解理论，一个线性变换$A$可以拆解为连续的三个线性变换：  \n",
    "1.先用$V^\\top$进行旋转  \n",
    "2.再分别对各坐标轴按照$\\Sigma$中的奇异值进行拉伸  \n",
    "3.最后再用$U$进行旋转\n",
    "<img src=http://7xikew.com1.z0.glb.clouddn.com/svd2.png width=500px>"
   ]
  }
 ],
 "metadata": {
  "kernelspec": {
   "display_name": "Python 2",
   "language": "python",
   "name": "python2"
  },
  "language_info": {
   "codemirror_mode": {
    "name": "ipython",
    "version": 2
   },
   "file_extension": ".py",
   "mimetype": "text/x-python",
   "name": "python",
   "nbconvert_exporter": "python",
   "pygments_lexer": "ipython2",
   "version": "2.7.12"
  }
 },
 "nbformat": 4,
 "nbformat_minor": 0
}
