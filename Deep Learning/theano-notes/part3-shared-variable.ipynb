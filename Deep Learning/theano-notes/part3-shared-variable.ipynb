{
 "cells": [
  {
   "cell_type": "markdown",
   "metadata": {},
   "source": [
    "# theano共享变量\n",
    "上节介绍了theano的符号变量及计算图的运行机制，本节将介绍另一个重要概念——共享变量。与符号变量稍有不同的是，共享变量有明确的值，可以被get/set，并且在使用它的函数间共享。"
   ]
  },
  {
   "cell_type": "code",
   "execution_count": 1,
   "metadata": {
    "collapsed": false
   },
   "outputs": [
    {
     "name": "stderr",
     "output_type": "stream",
     "text": [
      "Using gpu device 0: GeForce GTX 960M (CNMeM is disabled, cuDNN not available)\n"
     ]
    }
   ],
   "source": [
    "from __future__ import print_function\n",
    "\n",
    "import numpy as np\n",
    "import theano\n",
    "import theano.tensor as T"
   ]
  },
  {
   "cell_type": "markdown",
   "metadata": {},
   "source": [
    "共享变量的类型可以根据初始化方式自动推导"
   ]
  },
  {
   "cell_type": "code",
   "execution_count": 2,
   "metadata": {
    "collapsed": false
   },
   "outputs": [
    {
     "name": "stdout",
     "output_type": "stream",
     "text": [
      "<CudaNdarrayType(float32, matrix)>\n"
     ]
    }
   ],
   "source": [
    "shared_var = theano.shared(np.array([[1, 2], [3, 4]], dtype=theano.config.floatX))\n",
    "print(shared_var.type())"
   ]
  },
  {
   "cell_type": "markdown",
   "metadata": {},
   "source": [
    "我们可以用set_value设置它的值，用get_value获取它的值"
   ]
  },
  {
   "cell_type": "code",
   "execution_count": 3,
   "metadata": {
    "collapsed": false
   },
   "outputs": [
    {
     "name": "stdout",
     "output_type": "stream",
     "text": [
      "[[ 3.  4.]\n",
      " [ 2.  1.]]\n"
     ]
    }
   ],
   "source": [
    "shared_var.set_value(np.array([[3, 4], [2, 1]], dtype=theano.config.floatX))\n",
    "print(shared_var.get_value())"
   ]
  },
  {
   "cell_type": "markdown",
   "metadata": {},
   "source": [
    "与符号变量类似的地方是，我们可以为它定义函数关系。注意到shared_var已经有确切的值，所以它不必作为函数输入参数的一部分，因为theano已经隐式地将其作使用表达式shared_squared的函数的输入。"
   ]
  },
  {
   "cell_type": "code",
   "execution_count": 4,
   "metadata": {
    "collapsed": false
   },
   "outputs": [
    {
     "name": "stdout",
     "output_type": "stream",
     "text": [
      "[[  9.  16.]\n",
      " [  4.   1.]]\n"
     ]
    }
   ],
   "source": [
    "shared_squared = shared_var**2\n",
    "function_1 = theano.function([], shared_squared)\n",
    "print(function_1())"
   ]
  },
  {
   "cell_type": "markdown",
   "metadata": {},
   "source": [
    "## updates\n",
    "可以使用`theano.function`的`updates`参数来自动更新共享变量的值"
   ]
  },
  {
   "cell_type": "code",
   "execution_count": 5,
   "metadata": {
    "collapsed": false
   },
   "outputs": [
    {
     "name": "stdout",
     "output_type": "stream",
     "text": [
      "shared_var before subtracting [[1, 1], [1, 1]] using function_2:\n",
      "[[ 3.  4.]\n",
      " [ 2.  1.]]\n",
      "shared_var after calling function_2:\n",
      "[[ 2.  3.]\n",
      " [ 1.  0.]]\n",
      "New output of function_1() (shared_var**2):\n",
      "[[ 4.  9.]\n",
      " [ 1.  0.]]\n"
     ]
    }
   ],
   "source": [
    "subtract = T.matrix('subtract')\n",
    "# updates以一个字典为输入，字典的键位共享变量，值为更新的表达式\n",
    "# 这里updates被设置为shared_var = shared_var - subtract\n",
    "function_2 = theano.function([subtract], shared_var, updates={shared_var: shared_var - subtract})\n",
    "print(\"shared_var before subtracting [[1, 1], [1, 1]] using function_2:\")\n",
    "print(shared_var.get_value())\n",
    "# 减去矩阵[[1, 1], [1, 1]]\n",
    "function_2(np.array([[1, 1], [1, 1]], dtype=theano.config.floatX))\n",
    "print(\"shared_var after calling function_2:\")\n",
    "print(shared_var.get_value())\n",
    "# 注意到共享变量被所有使用它的函数共享， 由于它的值已经改变， 因此function_1()的输出也将改变\n",
    "print(\"New output of function_1() (shared_var**2):\")\n",
    "print(function_1())"
   ]
  },
  {
   "cell_type": "markdown",
   "metadata": {},
   "source": [
    "## 如何获取共享变量的shape\n",
    "共享变量的shape是个`TensorVariable`，如果直接print的话是无法查看具体的值的"
   ]
  },
  {
   "cell_type": "code",
   "execution_count": 6,
   "metadata": {
    "collapsed": false
   },
   "outputs": [
    {
     "name": "stdout",
     "output_type": "stream",
     "text": [
      "type of shared_var:<class 'theano.tensor.var.TensorVariable'>\n",
      "shared_var.shape:Shape.0\n"
     ]
    }
   ],
   "source": [
    "print(\"type of shared_var:{}\".format(type(shared_var.shape)))\n",
    "print(\"shared_var.shape:{}\".format(shared_var.shape))"
   ]
  },
  {
   "cell_type": "markdown",
   "metadata": {},
   "source": [
    "定义一个函数来查看shape的过程太过繁琐，解决的办法是使用eval函数"
   ]
  },
  {
   "cell_type": "code",
   "execution_count": 7,
   "metadata": {
    "collapsed": false
   },
   "outputs": [
    {
     "name": "stdout",
     "output_type": "stream",
     "text": [
      "shared_var.shape.eval():[2 2]\n"
     ]
    }
   ],
   "source": [
    "print(\"shared_var.shape.eval():{}\".format(shared_var.shape.eval()))"
   ]
  },
  {
   "cell_type": "markdown",
   "metadata": {},
   "source": [
    "## 共享变量构造器参数`borrow`的作用\n",
    "borrow参数指定了在定义共享变量时是深拷贝还是浅拷贝。如果`borrow`为`False`，则是深拷贝，反之则为浅拷贝。接下来我们定义三个共享变量，分别对应`borrow`取默认值，False，True"
   ]
  },
  {
   "cell_type": "code",
   "execution_count": 8,
   "metadata": {
    "collapsed": true
   },
   "outputs": [],
   "source": [
    "np_array = np.ones(2, dtype='float32')\n",
    "\n",
    "s_default = theano.shared(np_array)\n",
    "s_false   = theano.shared(np_array, borrow=False)\n",
    "s_true    = theano.shared(np_array, borrow=True)"
   ]
  },
  {
   "cell_type": "markdown",
   "metadata": {},
   "source": [
    "接着我们改变变量`np_array`"
   ]
  },
  {
   "cell_type": "code",
   "execution_count": 9,
   "metadata": {
    "collapsed": false
   },
   "outputs": [
    {
     "name": "stdout",
     "output_type": "stream",
     "text": [
      "[ 1.  1.]\n",
      "[ 1.  1.]\n",
      "[ 1.  1.]\n"
     ]
    }
   ],
   "source": [
    "np_array += 1 # now it is an array of 2.0 s\n",
    "\n",
    "print(s_default.get_value())\n",
    "print(s_false.get_value())\n",
    "print(s_true.get_value())"
   ]
  },
  {
   "cell_type": "markdown",
   "metadata": {},
   "source": [
    "由结果我们看到，当`borrow`取默认值时，使用的初始化方式是深拷贝；当`borrow=False`时使用的方式也是深拷贝；当`borrow=True`时，要分情况来讨论，如果运行代码的设备是CPU，那么初始化方式将是浅拷贝，输出结果则是[2, 2]， 如果设备是GPU，那么`borrow`将失去作用，也就是说不管它是`True`还是`False`，初始化方式都将是深拷贝（因为需要将数据从CPU拷贝到GPU来运行）。"
   ]
  }
 ],
 "metadata": {
  "kernelspec": {
   "display_name": "Python 2",
   "language": "python",
   "name": "python2"
  },
  "language_info": {
   "codemirror_mode": {
    "name": "ipython",
    "version": 2
   },
   "file_extension": ".py",
   "mimetype": "text/x-python",
   "name": "python",
   "nbconvert_exporter": "python",
   "pygments_lexer": "ipython2",
   "version": "2.7.12"
  }
 },
 "nbformat": 4,
 "nbformat_minor": 0
}
