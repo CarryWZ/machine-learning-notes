{
 "cells": [
  {
   "cell_type": "markdown",
   "metadata": {},
   "source": [
    "# theano的dimshuffle\n",
    "theano中的dimshuffle函数用于对张量的维度进行操作，可以增加维度，也可以交换维度，删除维度。  \n",
    "以下规则总结自官方文档：    \n",
    "* 'x'表示增加一维，从0d scalar到1d vector  \n",
    "* (0, 1)表示一个与原先相同的2D向量  \n",
    "* (1, 0)表示将2D向量的两维交换  \n",
    "* (‘x’, 0) 表示将一个1d vector变为一个1xN矩阵  \n",
    "* (0, ‘x’)将一个1d vector变为一个Nx1矩阵  \n",
    "* (2, 0, 1) -> A x B x C to C x A x B （2表示第三维也就是C，0表示第一维A，1表示第二维B）  \n",
    "* (0, ‘x’, 1) -> A x B to A x 1 x B 表示A，B顺序不变在中间增加一维  \n",
    "* (1, ‘x’, 0) -> A x B to B x 1 x A 同理自己理解一下  \n",
    "* (1,) -> 删除维度0，被移除的维度必须是可广播的（broadcastable），即(1xA to A)  \n",
    "\n",
    "写了个小程序来验证一下  \n",
    "首先定义了一个[0 1 2]的1D vector：v，v.dimshuffle(0)中的0表示第一维：3，也只有一维，所以不变。因为是1D的，所以shape只有（3，）"
   ]
  },
  {
   "cell_type": "code",
   "execution_count": 1,
   "metadata": {
    "collapsed": false,
    "scrolled": true
   },
   "outputs": [
    {
     "name": "stdout",
     "output_type": "stream",
     "text": [
      "v.dimshuffle(0): [0 1 2]\n",
      "v.dimshuffle(0).shape: [3]\n"
     ]
    }
   ],
   "source": [
    "from __future__ import print_function\n",
    "import theano\n",
    "import numpy as np\n",
    "\n",
    "v = theano.shared(np.arange(3))\n",
    "# v.shape is a symbol expression, need theano.function or eval to compile it\n",
    "v_disp = v.dimshuffle(0)\n",
    "print('v.dimshuffle(0):',v_disp.eval())\n",
    "print('v.dimshuffle(0).shape:',v_disp.shape.eval())"
   ]
  },
  {
   "cell_type": "markdown",
   "metadata": {},
   "source": [
    "v.dimshuffle('x',0)表示在第一维前加入一维，只要记住加了'x'就加了一维，所以大小变成了1x3"
   ]
  },
  {
   "cell_type": "code",
   "execution_count": 2,
   "metadata": {
    "collapsed": false
   },
   "outputs": [
    {
     "name": "stdout",
     "output_type": "stream",
     "text": [
      "v.dimshuffle('x',0): [[0 1 2]]\n",
      "v.dimshuffle('x',0).shape: [1 3]\n"
     ]
    }
   ],
   "source": [
    "v_disp = v.dimshuffle('x', 0)\n",
    "print(\"v.dimshuffle('x',0):\",v_disp.eval())\n",
    "print(\"v.dimshuffle('x',0).shape:\",v_disp.shape.eval())"
   ]
  },
  {
   "cell_type": "markdown",
   "metadata": {},
   "source": [
    "在axis=0后插入一维，那么形状应该变为3 x 1"
   ]
  },
  {
   "cell_type": "code",
   "execution_count": 3,
   "metadata": {
    "collapsed": false
   },
   "outputs": [
    {
     "name": "stdout",
     "output_type": "stream",
     "text": [
      "v.dimshuffle(0,'x'): [[0]\n",
      " [1]\n",
      " [2]]\n",
      "v.dimshuffle(0,'x').shape: [3 1]\n"
     ]
    }
   ],
   "source": [
    "v_disp = v.dimshuffle(0,'x')\n",
    "print(\"v.dimshuffle(0,'x'):\",v_disp.eval())\n",
    "print(\"v.dimshuffle(0,'x').shape:\",v_disp.shape.eval())"
   ]
  },
  {
   "cell_type": "markdown",
   "metadata": {},
   "source": [
    "在axis=0后插入两个新的axis，那么形状应该变为3 x 1 x 1"
   ]
  },
  {
   "cell_type": "code",
   "execution_count": 4,
   "metadata": {
    "collapsed": false
   },
   "outputs": [
    {
     "name": "stdout",
     "output_type": "stream",
     "text": [
      "v.dimshuffle(0,'x','x'): [[[0]]\n",
      "\n",
      " [[1]]\n",
      "\n",
      " [[2]]]\n",
      "v.dimshuffle(0,'x','x').shape: [3 1 1]\n"
     ]
    }
   ],
   "source": [
    "v_disp = v.dimshuffle(0,'x','x')\n",
    "print(\"v.dimshuffle(0,'x','x'):\",v_disp.eval())\n",
    "print(\"v.dimshuffle(0,'x','x').shape:\",v_disp.shape.eval())"
   ]
  },
  {
   "cell_type": "markdown",
   "metadata": {},
   "source": [
    "在axis=0前后各插入一个新的axis，那么形状应该变为1 x 3 x 1"
   ]
  },
  {
   "cell_type": "code",
   "execution_count": 5,
   "metadata": {
    "collapsed": false
   },
   "outputs": [
    {
     "name": "stdout",
     "output_type": "stream",
     "text": [
      "v.dimshuffle('x',0,'x'): [[[0]\n",
      "  [1]\n",
      "  [2]]]\n",
      "v.dimshuffle('x',0,'x').shape: [1 3 1]\n"
     ]
    }
   ],
   "source": [
    "v_disp = v.dimshuffle('x',0,'x')\n",
    "print(\"v.dimshuffle('x',0,'x'):\",v_disp.eval())\n",
    "print(\"v.dimshuffle('x',0,'x').shape:\",v_disp.shape.eval())"
   ]
  },
  {
   "cell_type": "markdown",
   "metadata": {},
   "source": [
    "在axis=0前插入两个新的axis，那么形状应该变为1 x 1 x 3"
   ]
  },
  {
   "cell_type": "code",
   "execution_count": 6,
   "metadata": {
    "collapsed": false,
    "scrolled": true
   },
   "outputs": [
    {
     "name": "stdout",
     "output_type": "stream",
     "text": [
      "v.dimshuffle('x','x',0): [[[0 1 2]]]\n",
      "v.dimshuffle('x','x',0).shape: [1 1 3]\n"
     ]
    }
   ],
   "source": [
    "v_disp = v.dimshuffle('x','x',0)\n",
    "print(\"v.dimshuffle('x','x',0):\",v_disp.eval())\n",
    "print(\"v.dimshuffle('x','x',0).shape:\",v_disp.shape.eval())"
   ]
  },
  {
   "cell_type": "markdown",
   "metadata": {},
   "source": [
    "第二个例子，m是一个2x3矩阵"
   ]
  },
  {
   "cell_type": "code",
   "execution_count": 7,
   "metadata": {
    "collapsed": false,
    "scrolled": true
   },
   "outputs": [
    {
     "name": "stdout",
     "output_type": "stream",
     "text": [
      "m: [[0 1 2]\n",
      " [3 4 5]]\n",
      "m.shape: [2 3]\n"
     ]
    }
   ],
   "source": [
    "m = theano.shared(np.arange(6).reshape(2,3))\n",
    "print(\"m:\",m.eval())\n",
    "print(\"m.shape:\",m.shape.eval())"
   ]
  },
  {
   "cell_type": "markdown",
   "metadata": {},
   "source": [
    "先确定0,'x',1的维数,0对应第一维（2），1表示第二维（3），'x'表示新加入的维度（1），所以结果维度是2x1x3\n",
    "加括号的顺序按照从左到右（外->内)：  \n",
    "1.先加最内层3，3表示括号内有3个数，因此是[0 1 2]和[3 4 5]  \n",
    "2.再加中间层1，1表示括号内只有一个匹配的\"[]\"，因此是[[0 1 2]],[[3 4 5]]  \n",
    "3.最后加最外层2，2表示括号内有两个匹配的\"[]\"（只算最外层的匹配），于是最后结果是  \n",
    "```py\n",
    "[[[0 1 2]]\n",
    " [[3 4 5]]]\n",
    "```"
   ]
  },
  {
   "cell_type": "code",
   "execution_count": 8,
   "metadata": {
    "collapsed": false,
    "scrolled": false
   },
   "outputs": [
    {
     "name": "stdout",
     "output_type": "stream",
     "text": [
      "m.dimshuffle(0,'x',1): [[[0 1 2]]\n",
      "\n",
      " [[3 4 5]]]\n",
      "m.dimshuffle(0,'x',1).shape: [2 1 3]\n"
     ]
    }
   ],
   "source": [
    "m_disp = m.dimshuffle(0,'x',1)\n",
    "print(\"m.dimshuffle(0,'x',1):\",m_disp.eval())\n",
    "print(\"m.dimshuffle(0,'x',1).shape:\",m_disp.shape.eval())"
   ]
  },
  {
   "cell_type": "markdown",
   "metadata": {},
   "source": [
    "同理，结果应该是1 x 2 x 3的张量"
   ]
  },
  {
   "cell_type": "code",
   "execution_count": 9,
   "metadata": {
    "collapsed": false,
    "scrolled": true
   },
   "outputs": [
    {
     "name": "stdout",
     "output_type": "stream",
     "text": [
      "m.dimshuffle('x',0,1): [[[0 1 2]\n",
      "  [3 4 5]]]\n",
      "m.dimshuffle('x',0,1).shape: [1 2 3]\n"
     ]
    }
   ],
   "source": [
    "m_disp = m.dimshuffle('x', 0, 1)\n",
    "print(\"m.dimshuffle('x',0,1):\",m_disp.eval())\n",
    "print(\"m.dimshuffle('x',0,1).shape:\",m_disp.shape.eval())"
   ]
  },
  {
   "cell_type": "markdown",
   "metadata": {},
   "source": [
    "同理，结果应该是2 x 3 x 1的张量"
   ]
  },
  {
   "cell_type": "code",
   "execution_count": 10,
   "metadata": {
    "collapsed": false,
    "scrolled": true
   },
   "outputs": [
    {
     "name": "stdout",
     "output_type": "stream",
     "text": [
      "m.dimshuffle(0,1,'x'): [[[0]\n",
      "  [1]\n",
      "  [2]]\n",
      "\n",
      " [[3]\n",
      "  [4]\n",
      "  [5]]]\n",
      "m.dimshuffle(0,1,'x').shape: [2 3 1]\n"
     ]
    }
   ],
   "source": [
    "m_disp = m.dimshuffle(0, 1, 'x')\n",
    "print(\"m.dimshuffle(0,1,'x'):\",m_disp.eval())\n",
    "print(\"m.dimshuffle(0,1,'x').shape:\",m_disp.shape.eval())"
   ]
  },
  {
   "cell_type": "markdown",
   "metadata": {},
   "source": [
    "`1,'x',0`表示将axis0和axis1进行了交换，并在中间插入一个新的axis，因此结果应该是3 x 1 x 2"
   ]
  },
  {
   "cell_type": "code",
   "execution_count": 11,
   "metadata": {
    "collapsed": false,
    "scrolled": true
   },
   "outputs": [
    {
     "name": "stdout",
     "output_type": "stream",
     "text": [
      "m.dimshuffle(1,'x',0): [[[0 3]]\n",
      "\n",
      " [[1 4]]\n",
      "\n",
      " [[2 5]]]\n",
      "m.dimshuffle(1,'x',0).shape: [3 1 2]\n"
     ]
    }
   ],
   "source": [
    "# amount to transpose\n",
    "m_disp = m.dimshuffle(1,'x',0)\n",
    "print(\"m.dimshuffle(1,'x',0):\",m_disp.eval())\n",
    "print(\"m.dimshuffle(1,'x',0).shape:\",m_disp.shape.eval())"
   ]
  },
  {
   "cell_type": "markdown",
   "metadata": {},
   "source": [
    "(1,)表示删除一个第一维（axis=0），在初始化shared时要保证被删除的维度是可广播的  "
   ]
  },
  {
   "cell_type": "code",
   "execution_count": 12,
   "metadata": {
    "collapsed": false
   },
   "outputs": [
    {
     "name": "stdout",
     "output_type": "stream",
     "text": [
      "[1 3]\n",
      "[3]\n"
     ]
    }
   ],
   "source": [
    "m = theano.shared(np.array([[1,2,3]]),broadcastable=(True,False))\n",
    "print(m.shape.eval())\n",
    "print(m.dimshuffle(1,).shape.eval())"
   ]
  }
 ],
 "metadata": {
  "kernelspec": {
   "display_name": "Python 2",
   "language": "python",
   "name": "python2"
  },
  "language_info": {
   "codemirror_mode": {
    "name": "ipython",
    "version": 2
   },
   "file_extension": ".py",
   "mimetype": "text/x-python",
   "name": "python",
   "nbconvert_exporter": "python",
   "pygments_lexer": "ipython2",
   "version": "2.7.12"
  }
 },
 "nbformat": 4,
 "nbformat_minor": 0
}
