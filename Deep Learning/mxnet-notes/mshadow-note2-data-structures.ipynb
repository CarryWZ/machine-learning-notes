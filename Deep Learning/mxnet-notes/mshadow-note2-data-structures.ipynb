{
 "cells": [
  {
   "cell_type": "markdown",
   "metadata": {},
   "source": [
    "# MSHADOW代码阅读笔记2——数据结构\n",
    "\n",
    "本文主要介绍MSHADOW使用到的数据结构。  \n",
    "## Random\n",
    "位于`random.h`，定义了MSHADOW的随机数生成器\n",
    "\n",
    "### Random\n",
    "\n",
    "作用：随机数生成器的模板类  \n",
    "定义：  \n",
    "```c\n",
    "/*!\n",
    " * \\brief random number generator\n",
    " * \\tparam Device the device of random number generator\n",
    " * \\tparam DType the target data type of random number can be float for double\n",
    " */\n",
    "template<typename Device, typename DType MSHADOW_DEFAULT_DTYPE>\n",
    "class Random {};\n",
    "```\n",
    "\n",
    "### CPU Random\n",
    "作用：CPU版本的随机数生成器  \n",
    "定义：  \n",
    "```c\n",
    "/*! \\brief CPU random number generator */\n",
    "template<typename DType>\n",
    "class Random<cpu, DType>\n",
    "```\n",
    "`struct cpu`来自`tensor.h`。cpu版本的随机数生成器默认使用C++ 11提供的基于梅森旋转伪随机算法的随机数生成器mt19937。\n",
    "\n",
    "### GPU Random\n",
    "作用：GPU版本的随机数生成器  \n",
    "定义：  \n",
    "```c\n",
    "template<typename DType>\n",
    "class Random<gpu, DType>\n",
    "```\n",
    "gpu版本的随机数生成器默认使用curand库提供的接口实现。\n",
    "\n",
    "## Device\n",
    "位于tensor.h，定义所运行的设备。  \n",
    "### CPU\n",
    "\n",
    "### GPU"
   ]
  }
 ],
 "metadata": {
  "anaconda-cloud": {},
  "kernelspec": {
   "display_name": "Python [conda root]",
   "language": "python",
   "name": "conda-root-py"
  },
  "language_info": {
   "codemirror_mode": {
    "name": "ipython",
    "version": 2
   },
   "file_extension": ".py",
   "mimetype": "text/x-python",
   "name": "python",
   "nbconvert_exporter": "python",
   "pygments_lexer": "ipython2",
   "version": "2.7.12"
  }
 },
 "nbformat": 4,
 "nbformat_minor": 1
}
