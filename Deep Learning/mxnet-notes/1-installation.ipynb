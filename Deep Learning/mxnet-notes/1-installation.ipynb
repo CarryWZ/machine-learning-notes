{
 "cells": [
  {
   "cell_type": "markdown",
   "metadata": {},
   "source": [
    "# 安装MXNET\n",
    "\n",
    "由于公司需要，近期需要快速精通mxnet，接下来的几个星期会陆续更新关于mxnet的笔记，提供参考和备忘。第一篇介绍mxnet的安装，mxnet的安装过程十分蛋疼，个人也是摸索了许久才安装成功，期间也是遇到了各种奇奇怪怪的坑，为了避免新人少走弯路，遂将经验总结于此。\n",
    "\n",
    "## windows上的安装\n",
    "本人机器配置为Win10 + Cuda 7.5， 后续的安装以此为准。  \n",
    "1.mxnet需要VS2013支持C++ 11特性  \n",
    "在[Visual C++ Compiler Nov 2013 CTP](https://www.microsoft.com/en-us/download/details.aspx?id=41151)下载C++ 11版本的编译器，接着将`C:\\Program Files (x86)\\Microsoft Visual C++ Compiler Nov 2013 CTP`下所有同名目录中的文件覆盖到`C:\\Program Files (x86)\\Microsoft Visual Studio 12.0\\VC`下所有同名目录下对应的文件（覆盖前记得备份）\n",
    "![](http://7xikew.com1.z0.glb.clouddn.com/QQ%E6%88%AA%E5%9B%BE20161026092456.png)\n",
    "\n",
    "2.从github克隆源码  \n",
    "`git clone --recursive https://github.com/dmlc/mxnet`\n",
    "这里提醒注意一定不要忘记--recursive参数，因为mxnet依赖于[DMLC通用工具包](http://dmlc.ml/)，--recursive参数可以自动加载mshadow等依赖。  \n",
    "\n",
    "3.用Cmake生成项目工程文件，并编译项目  \n",
    "打开cmake，`Where is the source code`栏里打开刚才下好的mxnet源代码目录，`Where to build the binaries`栏里指定生成工程文件和编译结果的路径，这里我填的是`C:/mxnet/build`，如图所示：\n",
    "![](http://7xikew.com1.z0.glb.clouddn.com/QQ%E6%88%AA%E5%9B%BE20161026113902.png)\n",
    "接着点击configure，生成配置。\n",
    "![](http://7xikew.com1.z0.glb.clouddn.com/QQ%E6%88%AA%E5%9B%BE20161026100929.png)\n",
    "然后我们点击generate，生成`.sln`项目文件\n",
    "![](http://7xikew.com1.z0.glb.clouddn.com/QQ%E6%88%AA%E5%9B%BE20161026101950.png)\n",
    "找到生成的工程文件`mxnet.sln`，用vs2013打开\n",
    "![](http://7xikew.com1.z0.glb.clouddn.com/QQ%E6%88%AA%E5%9B%BE20161026102039.png)\n",
    "最后，我们在项目mxnet上点击右键->生成，开始编译。\n",
    "![](http://7xikew.com1.z0.glb.clouddn.com/QQ%E6%88%AA%E5%9B%BE20161026114239.png)\n",
    "经过漫长的等待后，mxnet终于编译完成。\n",
    "![](http://7xikew.com1.z0.glb.clouddn.com/QQ%E6%88%AA%E5%9B%BE20161026153134.png)\n",
    "编译完成后，在`C:\\mxnet\\build\\Release`目录下会生成三个文件：libmxnet.dll，libmxnet.exp，libmxnet.lib。"
   ]
  },
  {
   "cell_type": "markdown",
   "metadata": {},
   "source": [
    "4.安装mxnet的python接口\n",
    "接下来我们到mxnet的源代码目录：`G:\\OpenSource\\mxnet\\python`，运行\n",
    "```\n",
    "python setup.py install\n",
    "```\n",
    "来安装mxnet的python包。\n",
    "![](http://7xikew.com1.z0.glb.clouddn.com/QQ%E6%88%AA%E5%9B%BE20161026153603.png)\n",
    "我们将libmxnet.dll\n",
    "接着，导入mxnet的时候发生了如下的错误：\n",
    "![](http://7xikew.com1.z0.glb.clouddn.com/QQ%E6%88%AA%E5%9B%BE20161026171027.png)\n",
    "\n",
    "通过调试发现问题出在打开`libmxnet.dll`的时候，问题应该出在没有导入依赖的dll文件，但蛋疼的是我也不知道它到底依赖哪一些dll文件。\n",
    "\n",
    "5.安装依赖  \n",
    "通过一番搜索，我找到一个名为dependency walker的软件，用它打开`libmxnet.dll`，我们看到还缺少的dll文件有哪些（图中的问号）\n",
    "![](http://7xikew.com1.z0.glb.clouddn.com/QQ%E6%88%AA%E5%9B%BE20161026161615.png)\n",
    "这些均能dll在mxnet的release tab下找到，下载完成后将其解压到mxnet的pthon安装目录`C:\\Anaconda2\\Lib\\site-packages\\mxnet-0.7.0-py2.7.egg\\mxnet`下。将这些文件放入目录后，我们测试一下能不能导入"
   ]
  },
  {
   "cell_type": "code",
   "execution_count": 1,
   "metadata": {
    "collapsed": false
   },
   "outputs": [
    {
     "name": "stdout",
     "output_type": "stream",
     "text": [
      "mxnet version is:0.7.0\n"
     ]
    }
   ],
   "source": [
    "import ctypes\n",
    "ctypes._dlopen(r\"C:\\Anaconda2\\Lib\\site-packages\\mxnet-0.7.0-py2.7.egg\\mxnet\\cudart64_75.dll\")\n",
    "ctypes._dlopen(r\"C:\\Anaconda2\\Lib\\site-packages\\mxnet-0.7.0-py2.7.egg\\mxnet\\cublas64_75.dll\")\n",
    "ctypes._dlopen(r\"cudnn64_5.dll\")\n",
    "ctypes._dlopen(r\"C:\\Anaconda2\\Lib\\site-packages\\mxnet-0.7.0-py2.7.egg\\mxnet\\libopenblas.dll\")\n",
    "ctypes._dlopen(r\"C:\\Anaconda2\\Lib\\site-packages\\mxnet-0.7.0-py2.7.egg\\mxnet\\opencv_world300.dll\")\n",
    "ctypes._dlopen(r\"C:\\Anaconda2\\Lib\\site-packages\\mxnet-0.7.0-py2.7.egg\\mxnet\\opencv_core2413.dll\")\n",
    "ctypes._dlopen(r\"vcomp120.dll\")\n",
    "ctypes._dlopen(r\"kernel32.dll\")\n",
    "import mxnet as mx\n",
    "print \"mxnet version is:%s\"%mx.__version__"
   ]
  },
  {
   "cell_type": "markdown",
   "metadata": {},
   "source": [
    "上面的代码中，我们需要手动的载入mxnet依赖的动态链接库才能导入，目前还不清楚为什么它不会自动载入，这个问题留待以后解决，目前可以先把上段代码加入到mxnet的初始化代码中。接着我们跑一跑examples/image-classification/train_mnist这个例子"
   ]
  },
  {
   "cell_type": "code",
   "execution_count": 2,
   "metadata": {
    "collapsed": false
   },
   "outputs": [
    {
     "name": "stderr",
     "output_type": "stream",
     "text": [
      "INFO:root:start with arguments Namespace(batch_size=128, data_dir='G:/OpenSource/mxnet/example/image-classification/mnist/', gpus='0', kv_store='local', load_epoch=None, lr=0.1, lr_factor=1, lr_factor_epoch=1, model_prefix=None, network='mlp', num_epochs=10, num_examples=60000, save_model_prefix=None)\n"
     ]
    },
    {
     "name": "stdout",
     "output_type": "stream",
     "text": [
      "2016-10-26 19:37:38,994 Node[0] start with arguments Namespace(batch_size=128, data_dir='G:/OpenSource/mxnet/example/image-classification/mnist/', gpus='0', kv_store='local', load_epoch=None, lr=0.1, lr_factor=1, lr_factor_epoch=1, model_prefix=None, network='mlp', num_epochs=10, num_examples=60000, save_model_prefix=None)\n"
     ]
    },
    {
     "name": "stderr",
     "output_type": "stream",
     "text": [
      "INFO:root:Start training with [gpu(0)]\n"
     ]
    },
    {
     "name": "stdout",
     "output_type": "stream",
     "text": [
      "2016-10-26 19:37:42,038 Node[0] Start training with [gpu(0)]\n"
     ]
    },
    {
     "name": "stderr",
     "output_type": "stream",
     "text": [
      "INFO:root:Epoch[0] Batch [50]\tSpeed: 23104.70 samples/sec\tTrain-accuracy=0.687344\n"
     ]
    },
    {
     "name": "stdout",
     "output_type": "stream",
     "text": [
      "2016-10-26 19:37:45,351 Node[0] Epoch[0] Batch [50]\tSpeed: 23104.70 samples/sec\tTrain-accuracy=0.687344\n"
     ]
    },
    {
     "name": "stderr",
     "output_type": "stream",
     "text": [
      "INFO:root:Epoch[0] Batch [50]\tSpeed: 23104.70 samples/sec\tTrain-top_k_accuracy_5=0.935937\n"
     ]
    },
    {
     "name": "stdout",
     "output_type": "stream",
     "text": [
      "2016-10-26 19:37:45,354 Node[0] Epoch[0] Batch [50]\tSpeed: 23104.70 samples/sec\tTrain-top_k_accuracy_5=0.935937\n"
     ]
    },
    {
     "name": "stderr",
     "output_type": "stream",
     "text": [
      "INFO:root:Epoch[0] Batch [50]\tSpeed: 23104.70 samples/sec\tTrain-top_k_accuracy_10=1.000000\n"
     ]
    },
    {
     "name": "stdout",
     "output_type": "stream",
     "text": [
      "2016-10-26 19:37:45,357 Node[0] Epoch[0] Batch [50]\tSpeed: 23104.70 samples/sec\tTrain-top_k_accuracy_10=1.000000\n"
     ]
    },
    {
     "name": "stderr",
     "output_type": "stream",
     "text": [
      "INFO:root:Epoch[0] Batch [50]\tSpeed: 23104.70 samples/sec\tTrain-top_k_accuracy_20=1.000000\n"
     ]
    },
    {
     "name": "stdout",
     "output_type": "stream",
     "text": [
      "2016-10-26 19:37:45,361 Node[0] Epoch[0] Batch [50]\tSpeed: 23104.70 samples/sec\tTrain-top_k_accuracy_20=1.000000\n"
     ]
    },
    {
     "name": "stderr",
     "output_type": "stream",
     "text": [
      "INFO:root:Epoch[0] Batch [100]\tSpeed: 22535.22 samples/sec\tTrain-accuracy=0.897188\n"
     ]
    },
    {
     "name": "stdout",
     "output_type": "stream",
     "text": [
      "2016-10-26 19:37:45,648 Node[0] Epoch[0] Batch [100]\tSpeed: 22535.22 samples/sec\tTrain-accuracy=0.897188\n"
     ]
    },
    {
     "name": "stderr",
     "output_type": "stream",
     "text": [
      "INFO:root:Epoch[0] Batch [100]\tSpeed: 22535.22 samples/sec\tTrain-top_k_accuracy_5=0.992812\n"
     ]
    },
    {
     "name": "stdout",
     "output_type": "stream",
     "text": [
      "2016-10-26 19:37:45,650 Node[0] Epoch[0] Batch [100]\tSpeed: 22535.22 samples/sec\tTrain-top_k_accuracy_5=0.992812\n"
     ]
    },
    {
     "name": "stderr",
     "output_type": "stream",
     "text": [
      "INFO:root:Epoch[0] Batch [100]\tSpeed: 22535.22 samples/sec\tTrain-top_k_accuracy_10=1.000000\n"
     ]
    },
    {
     "name": "stdout",
     "output_type": "stream",
     "text": [
      "2016-10-26 19:37:45,651 Node[0] Epoch[0] Batch [100]\tSpeed: 22535.22 samples/sec\tTrain-top_k_accuracy_10=1.000000\n"
     ]
    },
    {
     "name": "stderr",
     "output_type": "stream",
     "text": [
      "INFO:root:Epoch[0] Batch [100]\tSpeed: 22535.22 samples/sec\tTrain-top_k_accuracy_20=1.000000\n"
     ]
    },
    {
     "name": "stdout",
     "output_type": "stream",
     "text": [
      "2016-10-26 19:37:45,654 Node[0] Epoch[0] Batch [100]\tSpeed: 22535.22 samples/sec\tTrain-top_k_accuracy_20=1.000000\n"
     ]
    },
    {
     "name": "stderr",
     "output_type": "stream",
     "text": [
      "INFO:root:Epoch[0] Batch [150]\tSpeed: 23443.22 samples/sec\tTrain-accuracy=0.919687\n"
     ]
    },
    {
     "name": "stdout",
     "output_type": "stream",
     "text": [
      "2016-10-26 19:37:45,930 Node[0] Epoch[0] Batch [150]\tSpeed: 23443.22 samples/sec\tTrain-accuracy=0.919687\n"
     ]
    },
    {
     "name": "stderr",
     "output_type": "stream",
     "text": [
      "INFO:root:Epoch[0] Batch [150]\tSpeed: 23443.22 samples/sec\tTrain-top_k_accuracy_5=0.995469\n"
     ]
    },
    {
     "name": "stdout",
     "output_type": "stream",
     "text": [
      "2016-10-26 19:37:45,930 Node[0] Epoch[0] Batch [150]\tSpeed: 23443.22 samples/sec\tTrain-top_k_accuracy_5=0.995469\n"
     ]
    },
    {
     "name": "stderr",
     "output_type": "stream",
     "text": [
      "INFO:root:Epoch[0] Batch [150]\tSpeed: 23443.22 samples/sec\tTrain-top_k_accuracy_10=1.000000\n"
     ]
    },
    {
     "name": "stdout",
     "output_type": "stream",
     "text": [
      "2016-10-26 19:37:45,933 Node[0] Epoch[0] Batch [150]\tSpeed: 23443.22 samples/sec\tTrain-top_k_accuracy_10=1.000000\n"
     ]
    },
    {
     "name": "stderr",
     "output_type": "stream",
     "text": [
      "INFO:root:Epoch[0] Batch [150]\tSpeed: 23443.22 samples/sec\tTrain-top_k_accuracy_20=1.000000\n"
     ]
    },
    {
     "name": "stdout",
     "output_type": "stream",
     "text": [
      "2016-10-26 19:37:45,934 Node[0] Epoch[0] Batch [150]\tSpeed: 23443.22 samples/sec\tTrain-top_k_accuracy_20=1.000000\n"
     ]
    },
    {
     "name": "stderr",
     "output_type": "stream",
     "text": [
      "INFO:root:Epoch[0] Batch [200]\tSpeed: 24150.96 samples/sec\tTrain-accuracy=0.927656\n"
     ]
    },
    {
     "name": "stdout",
     "output_type": "stream",
     "text": [
      "2016-10-26 19:37:46,200 Node[0] Epoch[0] Batch [200]\tSpeed: 24150.96 samples/sec\tTrain-accuracy=0.927656\n"
     ]
    },
    {
     "name": "stderr",
     "output_type": "stream",
     "text": [
      "INFO:root:Epoch[0] Batch [200]\tSpeed: 24150.96 samples/sec\tTrain-top_k_accuracy_5=0.997031\n"
     ]
    },
    {
     "name": "stdout",
     "output_type": "stream",
     "text": [
      "2016-10-26 19:37:46,203 Node[0] Epoch[0] Batch [200]\tSpeed: 24150.96 samples/sec\tTrain-top_k_accuracy_5=0.997031\n"
     ]
    },
    {
     "name": "stderr",
     "output_type": "stream",
     "text": [
      "INFO:root:Epoch[0] Batch [200]\tSpeed: 24150.96 samples/sec\tTrain-top_k_accuracy_10=1.000000\n"
     ]
    },
    {
     "name": "stdout",
     "output_type": "stream",
     "text": [
      "2016-10-26 19:37:46,206 Node[0] Epoch[0] Batch [200]\tSpeed: 24150.96 samples/sec\tTrain-top_k_accuracy_10=1.000000\n"
     ]
    },
    {
     "name": "stderr",
     "output_type": "stream",
     "text": [
      "INFO:root:Epoch[0] Batch [200]\tSpeed: 24150.96 samples/sec\tTrain-top_k_accuracy_20=1.000000\n"
     ]
    },
    {
     "name": "stdout",
     "output_type": "stream",
     "text": [
      "2016-10-26 19:37:46,210 Node[0] Epoch[0] Batch [200]\tSpeed: 24150.96 samples/sec\tTrain-top_k_accuracy_20=1.000000\n"
     ]
    },
    {
     "name": "stderr",
     "output_type": "stream",
     "text": [
      "INFO:root:Epoch[0] Batch [250]\tSpeed: 22145.33 samples/sec\tTrain-accuracy=0.942031\n"
     ]
    },
    {
     "name": "stdout",
     "output_type": "stream",
     "text": [
      "2016-10-26 19:37:46,502 Node[0] Epoch[0] Batch [250]\tSpeed: 22145.33 samples/sec\tTrain-accuracy=0.942031\n"
     ]
    },
    {
     "name": "stderr",
     "output_type": "stream",
     "text": [
      "INFO:root:Epoch[0] Batch [250]\tSpeed: 22145.33 samples/sec\tTrain-top_k_accuracy_5=0.996875\n"
     ]
    },
    {
     "name": "stdout",
     "output_type": "stream",
     "text": [
      "2016-10-26 19:37:46,503 Node[0] Epoch[0] Batch [250]\tSpeed: 22145.33 samples/sec\tTrain-top_k_accuracy_5=0.996875\n"
     ]
    },
    {
     "name": "stderr",
     "output_type": "stream",
     "text": [
      "INFO:root:Epoch[0] Batch [250]\tSpeed: 22145.33 samples/sec\tTrain-top_k_accuracy_10=1.000000\n"
     ]
    },
    {
     "name": "stdout",
     "output_type": "stream",
     "text": [
      "2016-10-26 19:37:46,509 Node[0] Epoch[0] Batch [250]\tSpeed: 22145.33 samples/sec\tTrain-top_k_accuracy_10=1.000000\n"
     ]
    },
    {
     "name": "stderr",
     "output_type": "stream",
     "text": [
      "INFO:root:Epoch[0] Batch [250]\tSpeed: 22145.33 samples/sec\tTrain-top_k_accuracy_20=1.000000\n"
     ]
    },
    {
     "name": "stdout",
     "output_type": "stream",
     "text": [
      "2016-10-26 19:37:46,513 Node[0] Epoch[0] Batch [250]\tSpeed: 22145.33 samples/sec\tTrain-top_k_accuracy_20=1.000000\n"
     ]
    },
    {
     "name": "stderr",
     "output_type": "stream",
     "text": [
      "INFO:root:Epoch[0] Batch [300]\tSpeed: 25600.00 samples/sec\tTrain-accuracy=0.940781\n"
     ]
    },
    {
     "name": "stdout",
     "output_type": "stream",
     "text": [
      "2016-10-26 19:37:46,766 Node[0] Epoch[0] Batch [300]\tSpeed: 25600.00 samples/sec\tTrain-accuracy=0.940781\n"
     ]
    },
    {
     "name": "stderr",
     "output_type": "stream",
     "text": [
      "INFO:root:Epoch[0] Batch [300]\tSpeed: 25600.00 samples/sec\tTrain-top_k_accuracy_5=0.997656\n"
     ]
    },
    {
     "name": "stdout",
     "output_type": "stream",
     "text": [
      "2016-10-26 19:37:46,767 Node[0] Epoch[0] Batch [300]\tSpeed: 25600.00 samples/sec\tTrain-top_k_accuracy_5=0.997656\n"
     ]
    },
    {
     "name": "stderr",
     "output_type": "stream",
     "text": [
      "INFO:root:Epoch[0] Batch [300]\tSpeed: 25600.00 samples/sec\tTrain-top_k_accuracy_10=1.000000\n"
     ]
    },
    {
     "name": "stdout",
     "output_type": "stream",
     "text": [
      "2016-10-26 19:37:46,769 Node[0] Epoch[0] Batch [300]\tSpeed: 25600.00 samples/sec\tTrain-top_k_accuracy_10=1.000000\n"
     ]
    },
    {
     "name": "stderr",
     "output_type": "stream",
     "text": [
      "INFO:root:Epoch[0] Batch [300]\tSpeed: 25600.00 samples/sec\tTrain-top_k_accuracy_20=1.000000\n"
     ]
    },
    {
     "name": "stdout",
     "output_type": "stream",
     "text": [
      "2016-10-26 19:37:46,770 Node[0] Epoch[0] Batch [300]\tSpeed: 25600.00 samples/sec\tTrain-top_k_accuracy_20=1.000000\n"
     ]
    },
    {
     "name": "stderr",
     "output_type": "stream",
     "text": [
      "INFO:root:Epoch[0] Batch [350]\tSpeed: 25497.99 samples/sec\tTrain-accuracy=0.943750\n"
     ]
    },
    {
     "name": "stdout",
     "output_type": "stream",
     "text": [
      "2016-10-26 19:37:47,025 Node[0] Epoch[0] Batch [350]\tSpeed: 25497.99 samples/sec\tTrain-accuracy=0.943750\n"
     ]
    },
    {
     "name": "stderr",
     "output_type": "stream",
     "text": [
      "INFO:root:Epoch[0] Batch [350]\tSpeed: 25497.99 samples/sec\tTrain-top_k_accuracy_5=0.998594\n"
     ]
    },
    {
     "name": "stdout",
     "output_type": "stream",
     "text": [
      "2016-10-26 19:37:47,026 Node[0] Epoch[0] Batch [350]\tSpeed: 25497.99 samples/sec\tTrain-top_k_accuracy_5=0.998594\n"
     ]
    },
    {
     "name": "stderr",
     "output_type": "stream",
     "text": [
      "INFO:root:Epoch[0] Batch [350]\tSpeed: 25497.99 samples/sec\tTrain-top_k_accuracy_10=1.000000\n"
     ]
    },
    {
     "name": "stdout",
     "output_type": "stream",
     "text": [
      "2016-10-26 19:37:47,028 Node[0] Epoch[0] Batch [350]\tSpeed: 25497.99 samples/sec\tTrain-top_k_accuracy_10=1.000000\n"
     ]
    },
    {
     "name": "stderr",
     "output_type": "stream",
     "text": [
      "INFO:root:Epoch[0] Batch [350]\tSpeed: 25497.99 samples/sec\tTrain-top_k_accuracy_20=1.000000\n"
     ]
    },
    {
     "name": "stdout",
     "output_type": "stream",
     "text": [
      "2016-10-26 19:37:47,029 Node[0] Epoch[0] Batch [350]\tSpeed: 25497.99 samples/sec\tTrain-top_k_accuracy_20=1.000000\n"
     ]
    },
    {
     "name": "stderr",
     "output_type": "stream",
     "text": [
      "INFO:root:Epoch[0] Batch [400]\tSpeed: 23970.04 samples/sec\tTrain-accuracy=0.952344\n"
     ]
    },
    {
     "name": "stdout",
     "output_type": "stream",
     "text": [
      "2016-10-26 19:37:47,296 Node[0] Epoch[0] Batch [400]\tSpeed: 23970.04 samples/sec\tTrain-accuracy=0.952344\n"
     ]
    },
    {
     "name": "stderr",
     "output_type": "stream",
     "text": [
      "INFO:root:Epoch[0] Batch [400]\tSpeed: 23970.04 samples/sec\tTrain-top_k_accuracy_5=0.998594\n"
     ]
    },
    {
     "name": "stdout",
     "output_type": "stream",
     "text": [
      "2016-10-26 19:37:47,298 Node[0] Epoch[0] Batch [400]\tSpeed: 23970.04 samples/sec\tTrain-top_k_accuracy_5=0.998594\n"
     ]
    },
    {
     "name": "stderr",
     "output_type": "stream",
     "text": [
      "INFO:root:Epoch[0] Batch [400]\tSpeed: 23970.04 samples/sec\tTrain-top_k_accuracy_10=1.000000\n"
     ]
    },
    {
     "name": "stdout",
     "output_type": "stream",
     "text": [
      "2016-10-26 19:37:47,299 Node[0] Epoch[0] Batch [400]\tSpeed: 23970.04 samples/sec\tTrain-top_k_accuracy_10=1.000000\n"
     ]
    },
    {
     "name": "stderr",
     "output_type": "stream",
     "text": [
      "INFO:root:Epoch[0] Batch [400]\tSpeed: 23970.04 samples/sec\tTrain-top_k_accuracy_20=1.000000\n"
     ]
    },
    {
     "name": "stdout",
     "output_type": "stream",
     "text": [
      "2016-10-26 19:37:47,302 Node[0] Epoch[0] Batch [400]\tSpeed: 23970.04 samples/sec\tTrain-top_k_accuracy_20=1.000000\n"
     ]
    },
    {
     "name": "stderr",
     "output_type": "stream",
     "text": [
      "INFO:root:Epoch[0] Batch [450]\tSpeed: 27350.40 samples/sec\tTrain-accuracy=0.952969\n"
     ]
    },
    {
     "name": "stdout",
     "output_type": "stream",
     "text": [
      "2016-10-26 19:37:47,539 Node[0] Epoch[0] Batch [450]\tSpeed: 27350.40 samples/sec\tTrain-accuracy=0.952969\n"
     ]
    },
    {
     "name": "stderr",
     "output_type": "stream",
     "text": [
      "INFO:root:Epoch[0] Batch [450]\tSpeed: 27350.40 samples/sec\tTrain-top_k_accuracy_5=0.998906\n"
     ]
    },
    {
     "name": "stdout",
     "output_type": "stream",
     "text": [
      "2016-10-26 19:37:47,542 Node[0] Epoch[0] Batch [450]\tSpeed: 27350.40 samples/sec\tTrain-top_k_accuracy_5=0.998906\n"
     ]
    },
    {
     "name": "stderr",
     "output_type": "stream",
     "text": [
      "INFO:root:Epoch[0] Batch [450]\tSpeed: 27350.40 samples/sec\tTrain-top_k_accuracy_10=1.000000\n"
     ]
    },
    {
     "name": "stdout",
     "output_type": "stream",
     "text": [
      "2016-10-26 19:37:47,546 Node[0] Epoch[0] Batch [450]\tSpeed: 27350.40 samples/sec\tTrain-top_k_accuracy_10=1.000000\n"
     ]
    },
    {
     "name": "stderr",
     "output_type": "stream",
     "text": [
      "INFO:root:Epoch[0] Batch [450]\tSpeed: 27350.40 samples/sec\tTrain-top_k_accuracy_20=1.000000\n"
     ]
    },
    {
     "name": "stdout",
     "output_type": "stream",
     "text": [
      "2016-10-26 19:37:47,548 Node[0] Epoch[0] Batch [450]\tSpeed: 27350.40 samples/sec\tTrain-top_k_accuracy_20=1.000000\n"
     ]
    },
    {
     "name": "stderr",
     "output_type": "stream",
     "text": [
      "INFO:root:Epoch[0] Resetting Data Iterator\n"
     ]
    },
    {
     "name": "stdout",
     "output_type": "stream",
     "text": [
      "2016-10-26 19:37:47,634 Node[0] Epoch[0] Resetting Data Iterator\n"
     ]
    },
    {
     "name": "stderr",
     "output_type": "stream",
     "text": [
      "INFO:root:Epoch[0] Time cost=3.100\n"
     ]
    },
    {
     "name": "stdout",
     "output_type": "stream",
     "text": [
      "2016-10-26 19:37:47,637 Node[0] Epoch[0] Time cost=3.100\n"
     ]
    },
    {
     "name": "stderr",
     "output_type": "stream",
     "text": [
      "INFO:root:Epoch[0] Validation-accuracy=0.960036\n"
     ]
    },
    {
     "name": "stdout",
     "output_type": "stream",
     "text": [
      "2016-10-26 19:37:47,826 Node[0] Epoch[0] Validation-accuracy=0.960036\n"
     ]
    },
    {
     "name": "stderr",
     "output_type": "stream",
     "text": [
      "INFO:root:Epoch[0] Validation-top_k_accuracy_5=0.998698\n"
     ]
    },
    {
     "name": "stdout",
     "output_type": "stream",
     "text": [
      "2016-10-26 19:37:47,828 Node[0] Epoch[0] Validation-top_k_accuracy_5=0.998698\n"
     ]
    },
    {
     "name": "stderr",
     "output_type": "stream",
     "text": [
      "INFO:root:Epoch[0] Validation-top_k_accuracy_10=1.000000\n"
     ]
    },
    {
     "name": "stdout",
     "output_type": "stream",
     "text": [
      "2016-10-26 19:37:47,829 Node[0] Epoch[0] Validation-top_k_accuracy_10=1.000000\n"
     ]
    },
    {
     "name": "stderr",
     "output_type": "stream",
     "text": [
      "INFO:root:Epoch[0] Validation-top_k_accuracy_20=1.000000\n"
     ]
    },
    {
     "name": "stdout",
     "output_type": "stream",
     "text": [
      "2016-10-26 19:37:47,832 Node[0] Epoch[0] Validation-top_k_accuracy_20=1.000000\n"
     ]
    },
    {
     "name": "stderr",
     "output_type": "stream",
     "text": [
      "INFO:root:Epoch[1] Batch [50]\tSpeed: 25806.46 samples/sec\tTrain-accuracy=0.955156\n"
     ]
    },
    {
     "name": "stdout",
     "output_type": "stream",
     "text": [
      "2016-10-26 19:37:48,085 Node[0] Epoch[1] Batch [50]\tSpeed: 25806.46 samples/sec\tTrain-accuracy=0.955156\n"
     ]
    },
    {
     "name": "stderr",
     "output_type": "stream",
     "text": [
      "INFO:root:Epoch[1] Batch [50]\tSpeed: 25806.46 samples/sec\tTrain-top_k_accuracy_5=0.998594\n"
     ]
    },
    {
     "name": "stdout",
     "output_type": "stream",
     "text": [
      "2016-10-26 19:37:48,088 Node[0] Epoch[1] Batch [50]\tSpeed: 25806.46 samples/sec\tTrain-top_k_accuracy_5=0.998594\n"
     ]
    },
    {
     "name": "stderr",
     "output_type": "stream",
     "text": [
      "INFO:root:Epoch[1] Batch [50]\tSpeed: 25806.46 samples/sec\tTrain-top_k_accuracy_10=1.000000\n"
     ]
    },
    {
     "name": "stdout",
     "output_type": "stream",
     "text": [
      "2016-10-26 19:37:48,091 Node[0] Epoch[1] Batch [50]\tSpeed: 25806.46 samples/sec\tTrain-top_k_accuracy_10=1.000000\n"
     ]
    },
    {
     "name": "stderr",
     "output_type": "stream",
     "text": [
      "INFO:root:Epoch[1] Batch [50]\tSpeed: 25806.46 samples/sec\tTrain-top_k_accuracy_20=1.000000\n"
     ]
    },
    {
     "name": "stdout",
     "output_type": "stream",
     "text": [
      "2016-10-26 19:37:48,095 Node[0] Epoch[1] Batch [50]\tSpeed: 25806.46 samples/sec\tTrain-top_k_accuracy_20=1.000000\n"
     ]
    },
    {
     "name": "stderr",
     "output_type": "stream",
     "text": [
      "INFO:root:Epoch[1] Batch [100]\tSpeed: 27004.19 samples/sec\tTrain-accuracy=0.957969\n"
     ]
    },
    {
     "name": "stdout",
     "output_type": "stream",
     "text": [
      "2016-10-26 19:37:48,334 Node[0] Epoch[1] Batch [100]\tSpeed: 27004.19 samples/sec\tTrain-accuracy=0.957969\n"
     ]
    },
    {
     "name": "stderr",
     "output_type": "stream",
     "text": [
      "INFO:root:Epoch[1] Batch [100]\tSpeed: 27004.19 samples/sec\tTrain-top_k_accuracy_5=0.998281\n"
     ]
    },
    {
     "name": "stdout",
     "output_type": "stream",
     "text": [
      "2016-10-26 19:37:48,335 Node[0] Epoch[1] Batch [100]\tSpeed: 27004.19 samples/sec\tTrain-top_k_accuracy_5=0.998281\n"
     ]
    },
    {
     "name": "stderr",
     "output_type": "stream",
     "text": [
      "INFO:root:Epoch[1] Batch [100]\tSpeed: 27004.19 samples/sec\tTrain-top_k_accuracy_10=1.000000\n"
     ]
    },
    {
     "name": "stdout",
     "output_type": "stream",
     "text": [
      "2016-10-26 19:37:48,336 Node[0] Epoch[1] Batch [100]\tSpeed: 27004.19 samples/sec\tTrain-top_k_accuracy_10=1.000000\n"
     ]
    },
    {
     "name": "stderr",
     "output_type": "stream",
     "text": [
      "INFO:root:Epoch[1] Batch [100]\tSpeed: 27004.19 samples/sec\tTrain-top_k_accuracy_20=1.000000\n"
     ]
    },
    {
     "name": "stdout",
     "output_type": "stream",
     "text": [
      "2016-10-26 19:37:48,338 Node[0] Epoch[1] Batch [100]\tSpeed: 27004.19 samples/sec\tTrain-top_k_accuracy_20=1.000000\n"
     ]
    },
    {
     "name": "stderr",
     "output_type": "stream",
     "text": [
      "INFO:root:Epoch[1] Batch [150]\tSpeed: 23443.22 samples/sec\tTrain-accuracy=0.962969\n"
     ]
    },
    {
     "name": "stdout",
     "output_type": "stream",
     "text": [
      "2016-10-26 19:37:48,612 Node[0] Epoch[1] Batch [150]\tSpeed: 23443.22 samples/sec\tTrain-accuracy=0.962969\n"
     ]
    },
    {
     "name": "stderr",
     "output_type": "stream",
     "text": [
      "INFO:root:Epoch[1] Batch [150]\tSpeed: 23443.22 samples/sec\tTrain-top_k_accuracy_5=0.999062\n"
     ]
    },
    {
     "name": "stdout",
     "output_type": "stream",
     "text": [
      "2016-10-26 19:37:48,615 Node[0] Epoch[1] Batch [150]\tSpeed: 23443.22 samples/sec\tTrain-top_k_accuracy_5=0.999062\n"
     ]
    },
    {
     "name": "stderr",
     "output_type": "stream",
     "text": [
      "INFO:root:Epoch[1] Batch [150]\tSpeed: 23443.22 samples/sec\tTrain-top_k_accuracy_10=1.000000\n"
     ]
    },
    {
     "name": "stdout",
     "output_type": "stream",
     "text": [
      "2016-10-26 19:37:48,618 Node[0] Epoch[1] Batch [150]\tSpeed: 23443.22 samples/sec\tTrain-top_k_accuracy_10=1.000000\n"
     ]
    },
    {
     "name": "stderr",
     "output_type": "stream",
     "text": [
      "INFO:root:Epoch[1] Batch [150]\tSpeed: 23443.22 samples/sec\tTrain-top_k_accuracy_20=1.000000\n"
     ]
    },
    {
     "name": "stdout",
     "output_type": "stream",
     "text": [
      "2016-10-26 19:37:48,619 Node[0] Epoch[1] Batch [150]\tSpeed: 23443.22 samples/sec\tTrain-top_k_accuracy_20=1.000000\n"
     ]
    },
    {
     "name": "stderr",
     "output_type": "stream",
     "text": [
      "INFO:root:Epoch[1] Batch [200]\tSpeed: 26446.27 samples/sec\tTrain-accuracy=0.964688\n"
     ]
    },
    {
     "name": "stdout",
     "output_type": "stream",
     "text": [
      "2016-10-26 19:37:48,864 Node[0] Epoch[1] Batch [200]\tSpeed: 26446.27 samples/sec\tTrain-accuracy=0.964688\n"
     ]
    },
    {
     "name": "stderr",
     "output_type": "stream",
     "text": [
      "INFO:root:Epoch[1] Batch [200]\tSpeed: 26446.27 samples/sec\tTrain-top_k_accuracy_5=0.999531\n"
     ]
    },
    {
     "name": "stdout",
     "output_type": "stream",
     "text": [
      "2016-10-26 19:37:48,865 Node[0] Epoch[1] Batch [200]\tSpeed: 26446.27 samples/sec\tTrain-top_k_accuracy_5=0.999531\n"
     ]
    },
    {
     "name": "stderr",
     "output_type": "stream",
     "text": [
      "INFO:root:Epoch[1] Batch [200]\tSpeed: 26446.27 samples/sec\tTrain-top_k_accuracy_10=1.000000\n"
     ]
    },
    {
     "name": "stdout",
     "output_type": "stream",
     "text": [
      "2016-10-26 19:37:48,867 Node[0] Epoch[1] Batch [200]\tSpeed: 26446.27 samples/sec\tTrain-top_k_accuracy_10=1.000000\n"
     ]
    },
    {
     "name": "stderr",
     "output_type": "stream",
     "text": [
      "INFO:root:Epoch[1] Batch [200]\tSpeed: 26446.27 samples/sec\tTrain-top_k_accuracy_20=1.000000\n"
     ]
    },
    {
     "name": "stdout",
     "output_type": "stream",
     "text": [
      "2016-10-26 19:37:48,868 Node[0] Epoch[1] Batch [200]\tSpeed: 26446.27 samples/sec\tTrain-top_k_accuracy_20=1.000000\n"
     ]
    },
    {
     "name": "stderr",
     "output_type": "stream",
     "text": [
      "INFO:root:Epoch[1] Batch [250]\tSpeed: 28193.83 samples/sec\tTrain-accuracy=0.967656\n"
     ]
    },
    {
     "name": "stdout",
     "output_type": "stream",
     "text": [
      "2016-10-26 19:37:49,096 Node[0] Epoch[1] Batch [250]\tSpeed: 28193.83 samples/sec\tTrain-accuracy=0.967656\n"
     ]
    },
    {
     "name": "stderr",
     "output_type": "stream",
     "text": [
      "INFO:root:Epoch[1] Batch [250]\tSpeed: 28193.83 samples/sec\tTrain-top_k_accuracy_5=0.998906\n"
     ]
    },
    {
     "name": "stdout",
     "output_type": "stream",
     "text": [
      "2016-10-26 19:37:49,098 Node[0] Epoch[1] Batch [250]\tSpeed: 28193.83 samples/sec\tTrain-top_k_accuracy_5=0.998906\n"
     ]
    },
    {
     "name": "stderr",
     "output_type": "stream",
     "text": [
      "INFO:root:Epoch[1] Batch [250]\tSpeed: 28193.83 samples/sec\tTrain-top_k_accuracy_10=1.000000\n"
     ]
    },
    {
     "name": "stdout",
     "output_type": "stream",
     "text": [
      "2016-10-26 19:37:49,101 Node[0] Epoch[1] Batch [250]\tSpeed: 28193.83 samples/sec\tTrain-top_k_accuracy_10=1.000000\n"
     ]
    },
    {
     "name": "stderr",
     "output_type": "stream",
     "text": [
      "INFO:root:Epoch[1] Batch [250]\tSpeed: 28193.83 samples/sec\tTrain-top_k_accuracy_20=1.000000\n"
     ]
    },
    {
     "name": "stdout",
     "output_type": "stream",
     "text": [
      "2016-10-26 19:37:49,102 Node[0] Epoch[1] Batch [250]\tSpeed: 28193.83 samples/sec\tTrain-top_k_accuracy_20=1.000000\n"
     ]
    },
    {
     "name": "stderr",
     "output_type": "stream",
     "text": [
      "INFO:root:Epoch[1] Batch [300]\tSpeed: 24806.19 samples/sec\tTrain-accuracy=0.962656\n"
     ]
    },
    {
     "name": "stdout",
     "output_type": "stream",
     "text": [
      "2016-10-26 19:37:49,364 Node[0] Epoch[1] Batch [300]\tSpeed: 24806.19 samples/sec\tTrain-accuracy=0.962656\n"
     ]
    },
    {
     "name": "stderr",
     "output_type": "stream",
     "text": [
      "INFO:root:Epoch[1] Batch [300]\tSpeed: 24806.19 samples/sec\tTrain-top_k_accuracy_5=0.999687\n"
     ]
    },
    {
     "name": "stdout",
     "output_type": "stream",
     "text": [
      "2016-10-26 19:37:49,365 Node[0] Epoch[1] Batch [300]\tSpeed: 24806.19 samples/sec\tTrain-top_k_accuracy_5=0.999687\n"
     ]
    },
    {
     "name": "stderr",
     "output_type": "stream",
     "text": [
      "INFO:root:Epoch[1] Batch [300]\tSpeed: 24806.19 samples/sec\tTrain-top_k_accuracy_10=1.000000\n"
     ]
    },
    {
     "name": "stdout",
     "output_type": "stream",
     "text": [
      "2016-10-26 19:37:49,368 Node[0] Epoch[1] Batch [300]\tSpeed: 24806.19 samples/sec\tTrain-top_k_accuracy_10=1.000000\n"
     ]
    },
    {
     "name": "stderr",
     "output_type": "stream",
     "text": [
      "INFO:root:Epoch[1] Batch [300]\tSpeed: 24806.19 samples/sec\tTrain-top_k_accuracy_20=1.000000\n"
     ]
    },
    {
     "name": "stdout",
     "output_type": "stream",
     "text": [
      "2016-10-26 19:37:49,369 Node[0] Epoch[1] Batch [300]\tSpeed: 24806.19 samples/sec\tTrain-top_k_accuracy_20=1.000000\n"
     ]
    },
    {
     "name": "stderr",
     "output_type": "stream",
     "text": [
      "INFO:root:Epoch[1] Batch [350]\tSpeed: 27004.22 samples/sec\tTrain-accuracy=0.966719\n"
     ]
    },
    {
     "name": "stdout",
     "output_type": "stream",
     "text": [
      "2016-10-26 19:37:49,608 Node[0] Epoch[1] Batch [350]\tSpeed: 27004.22 samples/sec\tTrain-accuracy=0.966719\n"
     ]
    },
    {
     "name": "stderr",
     "output_type": "stream",
     "text": [
      "INFO:root:Epoch[1] Batch [350]\tSpeed: 27004.22 samples/sec\tTrain-top_k_accuracy_5=0.999062\n"
     ]
    },
    {
     "name": "stdout",
     "output_type": "stream",
     "text": [
      "2016-10-26 19:37:49,609 Node[0] Epoch[1] Batch [350]\tSpeed: 27004.22 samples/sec\tTrain-top_k_accuracy_5=0.999062\n"
     ]
    },
    {
     "name": "stderr",
     "output_type": "stream",
     "text": [
      "INFO:root:Epoch[1] Batch [350]\tSpeed: 27004.22 samples/sec\tTrain-top_k_accuracy_10=1.000000\n"
     ]
    },
    {
     "name": "stdout",
     "output_type": "stream",
     "text": [
      "2016-10-26 19:37:49,611 Node[0] Epoch[1] Batch [350]\tSpeed: 27004.22 samples/sec\tTrain-top_k_accuracy_10=1.000000\n"
     ]
    },
    {
     "name": "stderr",
     "output_type": "stream",
     "text": [
      "INFO:root:Epoch[1] Batch [350]\tSpeed: 27004.22 samples/sec\tTrain-top_k_accuracy_20=1.000000\n"
     ]
    },
    {
     "name": "stdout",
     "output_type": "stream",
     "text": [
      "2016-10-26 19:37:49,612 Node[0] Epoch[1] Batch [350]\tSpeed: 27004.22 samples/sec\tTrain-top_k_accuracy_20=1.000000\n"
     ]
    },
    {
     "name": "stderr",
     "output_type": "stream",
     "text": [
      "INFO:root:Epoch[1] Batch [400]\tSpeed: 27586.22 samples/sec\tTrain-accuracy=0.970313\n"
     ]
    },
    {
     "name": "stdout",
     "output_type": "stream",
     "text": [
      "2016-10-26 19:37:49,846 Node[0] Epoch[1] Batch [400]\tSpeed: 27586.22 samples/sec\tTrain-accuracy=0.970313\n"
     ]
    },
    {
     "name": "stderr",
     "output_type": "stream",
     "text": [
      "INFO:root:Epoch[1] Batch [400]\tSpeed: 27586.22 samples/sec\tTrain-top_k_accuracy_5=0.999219\n"
     ]
    },
    {
     "name": "stdout",
     "output_type": "stream",
     "text": [
      "2016-10-26 19:37:49,848 Node[0] Epoch[1] Batch [400]\tSpeed: 27586.22 samples/sec\tTrain-top_k_accuracy_5=0.999219\n"
     ]
    },
    {
     "name": "stderr",
     "output_type": "stream",
     "text": [
      "INFO:root:Epoch[1] Batch [400]\tSpeed: 27586.22 samples/sec\tTrain-top_k_accuracy_10=1.000000\n"
     ]
    },
    {
     "name": "stdout",
     "output_type": "stream",
     "text": [
      "2016-10-26 19:37:49,851 Node[0] Epoch[1] Batch [400]\tSpeed: 27586.22 samples/sec\tTrain-top_k_accuracy_10=1.000000\n"
     ]
    },
    {
     "name": "stderr",
     "output_type": "stream",
     "text": [
      "INFO:root:Epoch[1] Batch [400]\tSpeed: 27586.22 samples/sec\tTrain-top_k_accuracy_20=1.000000\n"
     ]
    },
    {
     "name": "stdout",
     "output_type": "stream",
     "text": [
      "2016-10-26 19:37:49,852 Node[0] Epoch[1] Batch [400]\tSpeed: 27586.22 samples/sec\tTrain-top_k_accuracy_20=1.000000\n"
     ]
    },
    {
     "name": "stderr",
     "output_type": "stream",
     "text": [
      "INFO:root:Epoch[1] Batch [450]\tSpeed: 26229.51 samples/sec\tTrain-accuracy=0.969531\n"
     ]
    },
    {
     "name": "stdout",
     "output_type": "stream",
     "text": [
      "2016-10-26 19:37:50,099 Node[0] Epoch[1] Batch [450]\tSpeed: 26229.51 samples/sec\tTrain-accuracy=0.969531\n"
     ]
    },
    {
     "name": "stderr",
     "output_type": "stream",
     "text": [
      "INFO:root:Epoch[1] Batch [450]\tSpeed: 26229.51 samples/sec\tTrain-top_k_accuracy_5=0.999844\n"
     ]
    },
    {
     "name": "stdout",
     "output_type": "stream",
     "text": [
      "2016-10-26 19:37:50,101 Node[0] Epoch[1] Batch [450]\tSpeed: 26229.51 samples/sec\tTrain-top_k_accuracy_5=0.999844\n"
     ]
    },
    {
     "name": "stderr",
     "output_type": "stream",
     "text": [
      "INFO:root:Epoch[1] Batch [450]\tSpeed: 26229.51 samples/sec\tTrain-top_k_accuracy_10=1.000000\n"
     ]
    },
    {
     "name": "stdout",
     "output_type": "stream",
     "text": [
      "2016-10-26 19:37:50,105 Node[0] Epoch[1] Batch [450]\tSpeed: 26229.51 samples/sec\tTrain-top_k_accuracy_10=1.000000\n"
     ]
    },
    {
     "name": "stderr",
     "output_type": "stream",
     "text": [
      "INFO:root:Epoch[1] Batch [450]\tSpeed: 26229.51 samples/sec\tTrain-top_k_accuracy_20=1.000000\n"
     ]
    },
    {
     "name": "stdout",
     "output_type": "stream",
     "text": [
      "2016-10-26 19:37:50,109 Node[0] Epoch[1] Batch [450]\tSpeed: 26229.51 samples/sec\tTrain-top_k_accuracy_20=1.000000\n"
     ]
    },
    {
     "name": "stderr",
     "output_type": "stream",
     "text": [
      "INFO:root:Epoch[1] Resetting Data Iterator\n"
     ]
    },
    {
     "name": "stdout",
     "output_type": "stream",
     "text": [
      "2016-10-26 19:37:50,196 Node[0] Epoch[1] Resetting Data Iterator\n"
     ]
    },
    {
     "name": "stderr",
     "output_type": "stream",
     "text": [
      "INFO:root:Epoch[1] Time cost=2.364\n"
     ]
    },
    {
     "name": "stdout",
     "output_type": "stream",
     "text": [
      "2016-10-26 19:37:50,197 Node[0] Epoch[1] Time cost=2.364\n"
     ]
    },
    {
     "name": "stderr",
     "output_type": "stream",
     "text": [
      "INFO:root:Epoch[1] Validation-accuracy=0.968349\n"
     ]
    },
    {
     "name": "stdout",
     "output_type": "stream",
     "text": [
      "2016-10-26 19:37:50,381 Node[0] Epoch[1] Validation-accuracy=0.968349\n"
     ]
    },
    {
     "name": "stderr",
     "output_type": "stream",
     "text": [
      "INFO:root:Epoch[1] Validation-top_k_accuracy_5=0.999099\n"
     ]
    },
    {
     "name": "stdout",
     "output_type": "stream",
     "text": [
      "2016-10-26 19:37:50,382 Node[0] Epoch[1] Validation-top_k_accuracy_5=0.999099\n"
     ]
    },
    {
     "name": "stderr",
     "output_type": "stream",
     "text": [
      "INFO:root:Epoch[1] Validation-top_k_accuracy_10=1.000000\n"
     ]
    },
    {
     "name": "stdout",
     "output_type": "stream",
     "text": [
      "2016-10-26 19:37:50,384 Node[0] Epoch[1] Validation-top_k_accuracy_10=1.000000\n"
     ]
    },
    {
     "name": "stderr",
     "output_type": "stream",
     "text": [
      "INFO:root:Epoch[1] Validation-top_k_accuracy_20=1.000000\n"
     ]
    },
    {
     "name": "stdout",
     "output_type": "stream",
     "text": [
      "2016-10-26 19:37:50,385 Node[0] Epoch[1] Validation-top_k_accuracy_20=1.000000\n"
     ]
    },
    {
     "name": "stderr",
     "output_type": "stream",
     "text": [
      "INFO:root:Epoch[2] Batch [50]\tSpeed: 27004.22 samples/sec\tTrain-accuracy=0.971875\n"
     ]
    },
    {
     "name": "stdout",
     "output_type": "stream",
     "text": [
      "2016-10-26 19:37:50,635 Node[0] Epoch[2] Batch [50]\tSpeed: 27004.22 samples/sec\tTrain-accuracy=0.971875\n"
     ]
    },
    {
     "name": "stderr",
     "output_type": "stream",
     "text": [
      "INFO:root:Epoch[2] Batch [50]\tSpeed: 27004.22 samples/sec\tTrain-top_k_accuracy_5=0.999219\n"
     ]
    },
    {
     "name": "stdout",
     "output_type": "stream",
     "text": [
      "2016-10-26 19:37:50,638 Node[0] Epoch[2] Batch [50]\tSpeed: 27004.22 samples/sec\tTrain-top_k_accuracy_5=0.999219\n"
     ]
    },
    {
     "name": "stderr",
     "output_type": "stream",
     "text": [
      "INFO:root:Epoch[2] Batch [50]\tSpeed: 27004.22 samples/sec\tTrain-top_k_accuracy_10=1.000000\n"
     ]
    },
    {
     "name": "stdout",
     "output_type": "stream",
     "text": [
      "2016-10-26 19:37:50,644 Node[0] Epoch[2] Batch [50]\tSpeed: 27004.22 samples/sec\tTrain-top_k_accuracy_10=1.000000\n"
     ]
    },
    {
     "name": "stderr",
     "output_type": "stream",
     "text": [
      "INFO:root:Epoch[2] Batch [50]\tSpeed: 27004.22 samples/sec\tTrain-top_k_accuracy_20=1.000000\n"
     ]
    },
    {
     "name": "stdout",
     "output_type": "stream",
     "text": [
      "2016-10-26 19:37:50,644 Node[0] Epoch[2] Batch [50]\tSpeed: 27004.22 samples/sec\tTrain-top_k_accuracy_20=1.000000\n"
     ]
    },
    {
     "name": "stderr",
     "output_type": "stream",
     "text": [
      "INFO:root:Epoch[2] Batch [100]\tSpeed: 27234.05 samples/sec\tTrain-accuracy=0.971250\n"
     ]
    },
    {
     "name": "stdout",
     "output_type": "stream",
     "text": [
      "2016-10-26 19:37:50,881 Node[0] Epoch[2] Batch [100]\tSpeed: 27234.05 samples/sec\tTrain-accuracy=0.971250\n"
     ]
    },
    {
     "name": "stderr",
     "output_type": "stream",
     "text": [
      "INFO:root:Epoch[2] Batch [100]\tSpeed: 27234.05 samples/sec\tTrain-top_k_accuracy_5=0.999531\n"
     ]
    },
    {
     "name": "stdout",
     "output_type": "stream",
     "text": [
      "2016-10-26 19:37:50,882 Node[0] Epoch[2] Batch [100]\tSpeed: 27234.05 samples/sec\tTrain-top_k_accuracy_5=0.999531\n"
     ]
    },
    {
     "name": "stderr",
     "output_type": "stream",
     "text": [
      "INFO:root:Epoch[2] Batch [100]\tSpeed: 27234.05 samples/sec\tTrain-top_k_accuracy_10=1.000000\n"
     ]
    },
    {
     "name": "stdout",
     "output_type": "stream",
     "text": [
      "2016-10-26 19:37:50,884 Node[0] Epoch[2] Batch [100]\tSpeed: 27234.05 samples/sec\tTrain-top_k_accuracy_10=1.000000\n"
     ]
    },
    {
     "name": "stderr",
     "output_type": "stream",
     "text": [
      "INFO:root:Epoch[2] Batch [100]\tSpeed: 27234.05 samples/sec\tTrain-top_k_accuracy_20=1.000000\n"
     ]
    },
    {
     "name": "stdout",
     "output_type": "stream",
     "text": [
      "2016-10-26 19:37:50,887 Node[0] Epoch[2] Batch [100]\tSpeed: 27234.05 samples/sec\tTrain-top_k_accuracy_20=1.000000\n"
     ]
    },
    {
     "name": "stderr",
     "output_type": "stream",
     "text": [
      "INFO:root:Epoch[2] Batch [150]\tSpeed: 26778.23 samples/sec\tTrain-accuracy=0.970625\n"
     ]
    },
    {
     "name": "stdout",
     "output_type": "stream",
     "text": [
      "2016-10-26 19:37:51,127 Node[0] Epoch[2] Batch [150]\tSpeed: 26778.23 samples/sec\tTrain-accuracy=0.970625\n"
     ]
    },
    {
     "name": "stderr",
     "output_type": "stream",
     "text": [
      "INFO:root:Epoch[2] Batch [150]\tSpeed: 26778.23 samples/sec\tTrain-top_k_accuracy_5=0.999531\n"
     ]
    },
    {
     "name": "stdout",
     "output_type": "stream",
     "text": [
      "2016-10-26 19:37:51,128 Node[0] Epoch[2] Batch [150]\tSpeed: 26778.23 samples/sec\tTrain-top_k_accuracy_5=0.999531\n"
     ]
    },
    {
     "name": "stderr",
     "output_type": "stream",
     "text": [
      "INFO:root:Epoch[2] Batch [150]\tSpeed: 26778.23 samples/sec\tTrain-top_k_accuracy_10=1.000000\n"
     ]
    },
    {
     "name": "stdout",
     "output_type": "stream",
     "text": [
      "2016-10-26 19:37:51,130 Node[0] Epoch[2] Batch [150]\tSpeed: 26778.23 samples/sec\tTrain-top_k_accuracy_10=1.000000\n"
     ]
    },
    {
     "name": "stderr",
     "output_type": "stream",
     "text": [
      "INFO:root:Epoch[2] Batch [150]\tSpeed: 26778.23 samples/sec\tTrain-top_k_accuracy_20=1.000000\n"
     ]
    },
    {
     "name": "stdout",
     "output_type": "stream",
     "text": [
      "2016-10-26 19:37:51,131 Node[0] Epoch[2] Batch [150]\tSpeed: 26778.23 samples/sec\tTrain-top_k_accuracy_20=1.000000\n"
     ]
    },
    {
     "name": "stderr",
     "output_type": "stream",
     "text": [
      "INFO:root:Epoch[2] Batch [200]\tSpeed: 27705.61 samples/sec\tTrain-accuracy=0.974844\n"
     ]
    },
    {
     "name": "stdout",
     "output_type": "stream",
     "text": [
      "2016-10-26 19:37:51,364 Node[0] Epoch[2] Batch [200]\tSpeed: 27705.61 samples/sec\tTrain-accuracy=0.974844\n"
     ]
    },
    {
     "name": "stderr",
     "output_type": "stream",
     "text": [
      "INFO:root:Epoch[2] Batch [200]\tSpeed: 27705.61 samples/sec\tTrain-top_k_accuracy_5=0.999844\n"
     ]
    },
    {
     "name": "stdout",
     "output_type": "stream",
     "text": [
      "2016-10-26 19:37:51,367 Node[0] Epoch[2] Batch [200]\tSpeed: 27705.61 samples/sec\tTrain-top_k_accuracy_5=0.999844\n"
     ]
    },
    {
     "name": "stderr",
     "output_type": "stream",
     "text": [
      "INFO:root:Epoch[2] Batch [200]\tSpeed: 27705.61 samples/sec\tTrain-top_k_accuracy_10=1.000000\n"
     ]
    },
    {
     "name": "stdout",
     "output_type": "stream",
     "text": [
      "2016-10-26 19:37:51,368 Node[0] Epoch[2] Batch [200]\tSpeed: 27705.61 samples/sec\tTrain-top_k_accuracy_10=1.000000\n"
     ]
    },
    {
     "name": "stderr",
     "output_type": "stream",
     "text": [
      "INFO:root:Epoch[2] Batch [200]\tSpeed: 27705.61 samples/sec\tTrain-top_k_accuracy_20=1.000000\n"
     ]
    },
    {
     "name": "stdout",
     "output_type": "stream",
     "text": [
      "2016-10-26 19:37:51,371 Node[0] Epoch[2] Batch [200]\tSpeed: 27705.61 samples/sec\tTrain-top_k_accuracy_20=1.000000\n"
     ]
    },
    {
     "name": "stderr",
     "output_type": "stream",
     "text": [
      "INFO:root:Epoch[2] Batch [250]\tSpeed: 24902.73 samples/sec\tTrain-accuracy=0.975781\n"
     ]
    },
    {
     "name": "stdout",
     "output_type": "stream",
     "text": [
      "2016-10-26 19:37:51,631 Node[0] Epoch[2] Batch [250]\tSpeed: 24902.73 samples/sec\tTrain-accuracy=0.975781\n"
     ]
    },
    {
     "name": "stderr",
     "output_type": "stream",
     "text": [
      "INFO:root:Epoch[2] Batch [250]\tSpeed: 24902.73 samples/sec\tTrain-top_k_accuracy_5=0.999844\n"
     ]
    },
    {
     "name": "stdout",
     "output_type": "stream",
     "text": [
      "2016-10-26 19:37:51,631 Node[0] Epoch[2] Batch [250]\tSpeed: 24902.73 samples/sec\tTrain-top_k_accuracy_5=0.999844\n"
     ]
    },
    {
     "name": "stderr",
     "output_type": "stream",
     "text": [
      "INFO:root:Epoch[2] Batch [250]\tSpeed: 24902.73 samples/sec\tTrain-top_k_accuracy_10=1.000000\n"
     ]
    },
    {
     "name": "stdout",
     "output_type": "stream",
     "text": [
      "2016-10-26 19:37:51,634 Node[0] Epoch[2] Batch [250]\tSpeed: 24902.73 samples/sec\tTrain-top_k_accuracy_10=1.000000\n"
     ]
    },
    {
     "name": "stderr",
     "output_type": "stream",
     "text": [
      "INFO:root:Epoch[2] Batch [250]\tSpeed: 24902.73 samples/sec\tTrain-top_k_accuracy_20=1.000000\n"
     ]
    },
    {
     "name": "stdout",
     "output_type": "stream",
     "text": [
      "2016-10-26 19:37:51,635 Node[0] Epoch[2] Batch [250]\tSpeed: 24902.73 samples/sec\tTrain-top_k_accuracy_20=1.000000\n"
     ]
    },
    {
     "name": "stderr",
     "output_type": "stream",
     "text": [
      "INFO:root:Epoch[2] Batch [300]\tSpeed: 25600.00 samples/sec\tTrain-accuracy=0.973125\n"
     ]
    },
    {
     "name": "stdout",
     "output_type": "stream",
     "text": [
      "2016-10-26 19:37:51,887 Node[0] Epoch[2] Batch [300]\tSpeed: 25600.00 samples/sec\tTrain-accuracy=0.973125\n"
     ]
    },
    {
     "name": "stderr",
     "output_type": "stream",
     "text": [
      "INFO:root:Epoch[2] Batch [300]\tSpeed: 25600.00 samples/sec\tTrain-top_k_accuracy_5=0.999844\n"
     ]
    },
    {
     "name": "stdout",
     "output_type": "stream",
     "text": [
      "2016-10-26 19:37:51,890 Node[0] Epoch[2] Batch [300]\tSpeed: 25600.00 samples/sec\tTrain-top_k_accuracy_5=0.999844\n"
     ]
    },
    {
     "name": "stderr",
     "output_type": "stream",
     "text": [
      "INFO:root:Epoch[2] Batch [300]\tSpeed: 25600.00 samples/sec\tTrain-top_k_accuracy_10=1.000000\n"
     ]
    },
    {
     "name": "stdout",
     "output_type": "stream",
     "text": [
      "2016-10-26 19:37:51,894 Node[0] Epoch[2] Batch [300]\tSpeed: 25600.00 samples/sec\tTrain-top_k_accuracy_10=1.000000\n"
     ]
    },
    {
     "name": "stderr",
     "output_type": "stream",
     "text": [
      "INFO:root:Epoch[2] Batch [300]\tSpeed: 25600.00 samples/sec\tTrain-top_k_accuracy_20=1.000000\n"
     ]
    },
    {
     "name": "stdout",
     "output_type": "stream",
     "text": [
      "2016-10-26 19:37:51,895 Node[0] Epoch[2] Batch [300]\tSpeed: 25600.00 samples/sec\tTrain-top_k_accuracy_20=1.000000\n"
     ]
    },
    {
     "name": "stderr",
     "output_type": "stream",
     "text": [
      "INFO:root:Epoch[2] Batch [350]\tSpeed: 27118.64 samples/sec\tTrain-accuracy=0.975781\n"
     ]
    },
    {
     "name": "stdout",
     "output_type": "stream",
     "text": [
      "2016-10-26 19:37:52,134 Node[0] Epoch[2] Batch [350]\tSpeed: 27118.64 samples/sec\tTrain-accuracy=0.975781\n"
     ]
    },
    {
     "name": "stderr",
     "output_type": "stream",
     "text": [
      "INFO:root:Epoch[2] Batch [350]\tSpeed: 27118.64 samples/sec\tTrain-top_k_accuracy_5=0.999531\n"
     ]
    },
    {
     "name": "stdout",
     "output_type": "stream",
     "text": [
      "2016-10-26 19:37:52,137 Node[0] Epoch[2] Batch [350]\tSpeed: 27118.64 samples/sec\tTrain-top_k_accuracy_5=0.999531\n"
     ]
    },
    {
     "name": "stderr",
     "output_type": "stream",
     "text": [
      "INFO:root:Epoch[2] Batch [350]\tSpeed: 27118.64 samples/sec\tTrain-top_k_accuracy_10=1.000000\n"
     ]
    },
    {
     "name": "stdout",
     "output_type": "stream",
     "text": [
      "2016-10-26 19:37:52,140 Node[0] Epoch[2] Batch [350]\tSpeed: 27118.64 samples/sec\tTrain-top_k_accuracy_10=1.000000\n"
     ]
    },
    {
     "name": "stderr",
     "output_type": "stream",
     "text": [
      "INFO:root:Epoch[2] Batch [350]\tSpeed: 27118.64 samples/sec\tTrain-top_k_accuracy_20=1.000000\n"
     ]
    },
    {
     "name": "stdout",
     "output_type": "stream",
     "text": [
      "2016-10-26 19:37:52,141 Node[0] Epoch[2] Batch [350]\tSpeed: 27118.64 samples/sec\tTrain-top_k_accuracy_20=1.000000\n"
     ]
    },
    {
     "name": "stderr",
     "output_type": "stream",
     "text": [
      "INFO:root:Epoch[2] Batch [400]\tSpeed: 26337.45 samples/sec\tTrain-accuracy=0.977969\n"
     ]
    },
    {
     "name": "stdout",
     "output_type": "stream",
     "text": [
      "2016-10-26 19:37:52,385 Node[0] Epoch[2] Batch [400]\tSpeed: 26337.45 samples/sec\tTrain-accuracy=0.977969\n"
     ]
    },
    {
     "name": "stderr",
     "output_type": "stream",
     "text": [
      "INFO:root:Epoch[2] Batch [400]\tSpeed: 26337.45 samples/sec\tTrain-top_k_accuracy_5=0.999219\n"
     ]
    },
    {
     "name": "stdout",
     "output_type": "stream",
     "text": [
      "2016-10-26 19:37:52,387 Node[0] Epoch[2] Batch [400]\tSpeed: 26337.45 samples/sec\tTrain-top_k_accuracy_5=0.999219\n"
     ]
    },
    {
     "name": "stderr",
     "output_type": "stream",
     "text": [
      "INFO:root:Epoch[2] Batch [400]\tSpeed: 26337.45 samples/sec\tTrain-top_k_accuracy_10=1.000000\n"
     ]
    },
    {
     "name": "stdout",
     "output_type": "stream",
     "text": [
      "2016-10-26 19:37:52,390 Node[0] Epoch[2] Batch [400]\tSpeed: 26337.45 samples/sec\tTrain-top_k_accuracy_10=1.000000\n"
     ]
    },
    {
     "name": "stderr",
     "output_type": "stream",
     "text": [
      "INFO:root:Epoch[2] Batch [400]\tSpeed: 26337.45 samples/sec\tTrain-top_k_accuracy_20=1.000000\n"
     ]
    },
    {
     "name": "stdout",
     "output_type": "stream",
     "text": [
      "2016-10-26 19:37:52,391 Node[0] Epoch[2] Batch [400]\tSpeed: 26337.45 samples/sec\tTrain-top_k_accuracy_20=1.000000\n"
     ]
    },
    {
     "name": "stderr",
     "output_type": "stream",
     "text": [
      "INFO:root:Epoch[2] Batch [450]\tSpeed: 25196.83 samples/sec\tTrain-accuracy=0.977187\n"
     ]
    },
    {
     "name": "stdout",
     "output_type": "stream",
     "text": [
      "2016-10-26 19:37:52,647 Node[0] Epoch[2] Batch [450]\tSpeed: 25196.83 samples/sec\tTrain-accuracy=0.977187\n"
     ]
    },
    {
     "name": "stderr",
     "output_type": "stream",
     "text": [
      "INFO:root:Epoch[2] Batch [450]\tSpeed: 25196.83 samples/sec\tTrain-top_k_accuracy_5=0.999687\n"
     ]
    },
    {
     "name": "stdout",
     "output_type": "stream",
     "text": [
      "2016-10-26 19:37:52,648 Node[0] Epoch[2] Batch [450]\tSpeed: 25196.83 samples/sec\tTrain-top_k_accuracy_5=0.999687\n"
     ]
    },
    {
     "name": "stderr",
     "output_type": "stream",
     "text": [
      "INFO:root:Epoch[2] Batch [450]\tSpeed: 25196.83 samples/sec\tTrain-top_k_accuracy_10=1.000000\n"
     ]
    },
    {
     "name": "stdout",
     "output_type": "stream",
     "text": [
      "2016-10-26 19:37:52,650 Node[0] Epoch[2] Batch [450]\tSpeed: 25196.83 samples/sec\tTrain-top_k_accuracy_10=1.000000\n"
     ]
    },
    {
     "name": "stderr",
     "output_type": "stream",
     "text": [
      "INFO:root:Epoch[2] Batch [450]\tSpeed: 25196.83 samples/sec\tTrain-top_k_accuracy_20=1.000000\n"
     ]
    },
    {
     "name": "stdout",
     "output_type": "stream",
     "text": [
      "2016-10-26 19:37:52,651 Node[0] Epoch[2] Batch [450]\tSpeed: 25196.83 samples/sec\tTrain-top_k_accuracy_20=1.000000\n"
     ]
    },
    {
     "name": "stderr",
     "output_type": "stream",
     "text": [
      "INFO:root:Epoch[2] Resetting Data Iterator\n"
     ]
    },
    {
     "name": "stdout",
     "output_type": "stream",
     "text": [
      "2016-10-26 19:37:52,736 Node[0] Epoch[2] Resetting Data Iterator\n"
     ]
    },
    {
     "name": "stderr",
     "output_type": "stream",
     "text": [
      "INFO:root:Epoch[2] Time cost=2.345\n"
     ]
    },
    {
     "name": "stdout",
     "output_type": "stream",
     "text": [
      "2016-10-26 19:37:52,737 Node[0] Epoch[2] Time cost=2.345\n"
     ]
    },
    {
     "name": "stderr",
     "output_type": "stream",
     "text": [
      "INFO:root:Epoch[2] Validation-accuracy=0.973858\n"
     ]
    },
    {
     "name": "stdout",
     "output_type": "stream",
     "text": [
      "2016-10-26 19:37:52,903 Node[0] Epoch[2] Validation-accuracy=0.973858\n"
     ]
    },
    {
     "name": "stderr",
     "output_type": "stream",
     "text": [
      "INFO:root:Epoch[2] Validation-top_k_accuracy_5=0.999099\n"
     ]
    },
    {
     "name": "stdout",
     "output_type": "stream",
     "text": [
      "2016-10-26 19:37:52,905 Node[0] Epoch[2] Validation-top_k_accuracy_5=0.999099\n"
     ]
    },
    {
     "name": "stderr",
     "output_type": "stream",
     "text": [
      "INFO:root:Epoch[2] Validation-top_k_accuracy_10=1.000000\n"
     ]
    },
    {
     "name": "stdout",
     "output_type": "stream",
     "text": [
      "2016-10-26 19:37:52,907 Node[0] Epoch[2] Validation-top_k_accuracy_10=1.000000\n"
     ]
    },
    {
     "name": "stderr",
     "output_type": "stream",
     "text": [
      "INFO:root:Epoch[2] Validation-top_k_accuracy_20=1.000000\n"
     ]
    },
    {
     "name": "stdout",
     "output_type": "stream",
     "text": [
      "2016-10-26 19:37:52,910 Node[0] Epoch[2] Validation-top_k_accuracy_20=1.000000\n"
     ]
    },
    {
     "name": "stderr",
     "output_type": "stream",
     "text": [
      "INFO:root:Epoch[3] Batch [50]\tSpeed: 27705.61 samples/sec\tTrain-accuracy=0.977969\n"
     ]
    },
    {
     "name": "stdout",
     "output_type": "stream",
     "text": [
      "2016-10-26 19:37:53,147 Node[0] Epoch[3] Batch [50]\tSpeed: 27705.61 samples/sec\tTrain-accuracy=0.977969\n"
     ]
    },
    {
     "name": "stderr",
     "output_type": "stream",
     "text": [
      "INFO:root:Epoch[3] Batch [50]\tSpeed: 27705.61 samples/sec\tTrain-top_k_accuracy_5=0.999844\n"
     ]
    },
    {
     "name": "stdout",
     "output_type": "stream",
     "text": [
      "2016-10-26 19:37:53,148 Node[0] Epoch[3] Batch [50]\tSpeed: 27705.61 samples/sec\tTrain-top_k_accuracy_5=0.999844\n"
     ]
    },
    {
     "name": "stderr",
     "output_type": "stream",
     "text": [
      "INFO:root:Epoch[3] Batch [50]\tSpeed: 27705.61 samples/sec\tTrain-top_k_accuracy_10=1.000000\n"
     ]
    },
    {
     "name": "stdout",
     "output_type": "stream",
     "text": [
      "2016-10-26 19:37:53,151 Node[0] Epoch[3] Batch [50]\tSpeed: 27705.61 samples/sec\tTrain-top_k_accuracy_10=1.000000\n"
     ]
    },
    {
     "name": "stderr",
     "output_type": "stream",
     "text": [
      "INFO:root:Epoch[3] Batch [50]\tSpeed: 27705.61 samples/sec\tTrain-top_k_accuracy_20=1.000000\n"
     ]
    },
    {
     "name": "stdout",
     "output_type": "stream",
     "text": [
      "2016-10-26 19:37:53,151 Node[0] Epoch[3] Batch [50]\tSpeed: 27705.61 samples/sec\tTrain-top_k_accuracy_20=1.000000\n"
     ]
    },
    {
     "name": "stderr",
     "output_type": "stream",
     "text": [
      "INFO:root:Epoch[3] Batch [100]\tSpeed: 26446.30 samples/sec\tTrain-accuracy=0.978281\n"
     ]
    },
    {
     "name": "stdout",
     "output_type": "stream",
     "text": [
      "2016-10-26 19:37:53,395 Node[0] Epoch[3] Batch [100]\tSpeed: 26446.30 samples/sec\tTrain-accuracy=0.978281\n"
     ]
    },
    {
     "name": "stderr",
     "output_type": "stream",
     "text": [
      "INFO:root:Epoch[3] Batch [100]\tSpeed: 26446.30 samples/sec\tTrain-top_k_accuracy_5=0.999844\n"
     ]
    },
    {
     "name": "stdout",
     "output_type": "stream",
     "text": [
      "2016-10-26 19:37:53,398 Node[0] Epoch[3] Batch [100]\tSpeed: 26446.30 samples/sec\tTrain-top_k_accuracy_5=0.999844\n"
     ]
    },
    {
     "name": "stderr",
     "output_type": "stream",
     "text": [
      "INFO:root:Epoch[3] Batch [100]\tSpeed: 26446.30 samples/sec\tTrain-top_k_accuracy_10=1.000000\n"
     ]
    },
    {
     "name": "stdout",
     "output_type": "stream",
     "text": [
      "2016-10-26 19:37:53,400 Node[0] Epoch[3] Batch [100]\tSpeed: 26446.30 samples/sec\tTrain-top_k_accuracy_10=1.000000\n"
     ]
    },
    {
     "name": "stderr",
     "output_type": "stream",
     "text": [
      "INFO:root:Epoch[3] Batch [100]\tSpeed: 26446.30 samples/sec\tTrain-top_k_accuracy_20=1.000000\n"
     ]
    },
    {
     "name": "stdout",
     "output_type": "stream",
     "text": [
      "2016-10-26 19:37:53,401 Node[0] Epoch[3] Batch [100]\tSpeed: 26446.30 samples/sec\tTrain-top_k_accuracy_20=1.000000\n"
     ]
    },
    {
     "name": "stderr",
     "output_type": "stream",
     "text": [
      "INFO:root:Epoch[3] Batch [150]\tSpeed: 26666.69 samples/sec\tTrain-accuracy=0.977969\n"
     ]
    },
    {
     "name": "stdout",
     "output_type": "stream",
     "text": [
      "2016-10-26 19:37:53,642 Node[0] Epoch[3] Batch [150]\tSpeed: 26666.69 samples/sec\tTrain-accuracy=0.977969\n"
     ]
    },
    {
     "name": "stderr",
     "output_type": "stream",
     "text": [
      "INFO:root:Epoch[3] Batch [150]\tSpeed: 26666.69 samples/sec\tTrain-top_k_accuracy_5=0.999687\n"
     ]
    },
    {
     "name": "stdout",
     "output_type": "stream",
     "text": [
      "2016-10-26 19:37:53,644 Node[0] Epoch[3] Batch [150]\tSpeed: 26666.69 samples/sec\tTrain-top_k_accuracy_5=0.999687\n"
     ]
    },
    {
     "name": "stderr",
     "output_type": "stream",
     "text": [
      "INFO:root:Epoch[3] Batch [150]\tSpeed: 26666.69 samples/sec\tTrain-top_k_accuracy_10=1.000000\n"
     ]
    },
    {
     "name": "stdout",
     "output_type": "stream",
     "text": [
      "2016-10-26 19:37:53,647 Node[0] Epoch[3] Batch [150]\tSpeed: 26666.69 samples/sec\tTrain-top_k_accuracy_10=1.000000\n"
     ]
    },
    {
     "name": "stderr",
     "output_type": "stream",
     "text": [
      "INFO:root:Epoch[3] Batch [150]\tSpeed: 26666.69 samples/sec\tTrain-top_k_accuracy_20=1.000000\n"
     ]
    },
    {
     "name": "stdout",
     "output_type": "stream",
     "text": [
      "2016-10-26 19:37:53,648 Node[0] Epoch[3] Batch [150]\tSpeed: 26666.69 samples/sec\tTrain-top_k_accuracy_20=1.000000\n"
     ]
    },
    {
     "name": "stderr",
     "output_type": "stream",
     "text": [
      "INFO:root:Epoch[3] Batch [200]\tSpeed: 26229.51 samples/sec\tTrain-accuracy=0.980781\n"
     ]
    },
    {
     "name": "stdout",
     "output_type": "stream",
     "text": [
      "2016-10-26 19:37:53,894 Node[0] Epoch[3] Batch [200]\tSpeed: 26229.51 samples/sec\tTrain-accuracy=0.980781\n"
     ]
    },
    {
     "name": "stderr",
     "output_type": "stream",
     "text": [
      "INFO:root:Epoch[3] Batch [200]\tSpeed: 26229.51 samples/sec\tTrain-top_k_accuracy_5=1.000000\n"
     ]
    },
    {
     "name": "stdout",
     "output_type": "stream",
     "text": [
      "2016-10-26 19:37:53,895 Node[0] Epoch[3] Batch [200]\tSpeed: 26229.51 samples/sec\tTrain-top_k_accuracy_5=1.000000\n"
     ]
    },
    {
     "name": "stderr",
     "output_type": "stream",
     "text": [
      "INFO:root:Epoch[3] Batch [200]\tSpeed: 26229.51 samples/sec\tTrain-top_k_accuracy_10=1.000000\n"
     ]
    },
    {
     "name": "stdout",
     "output_type": "stream",
     "text": [
      "2016-10-26 19:37:53,898 Node[0] Epoch[3] Batch [200]\tSpeed: 26229.51 samples/sec\tTrain-top_k_accuracy_10=1.000000\n"
     ]
    },
    {
     "name": "stderr",
     "output_type": "stream",
     "text": [
      "INFO:root:Epoch[3] Batch [200]\tSpeed: 26229.51 samples/sec\tTrain-top_k_accuracy_20=1.000000\n"
     ]
    },
    {
     "name": "stdout",
     "output_type": "stream",
     "text": [
      "2016-10-26 19:37:53,900 Node[0] Epoch[3] Batch [200]\tSpeed: 26229.51 samples/sec\tTrain-top_k_accuracy_20=1.000000\n"
     ]
    },
    {
     "name": "stderr",
     "output_type": "stream",
     "text": [
      "INFO:root:Epoch[3] Batch [250]\tSpeed: 26890.77 samples/sec\tTrain-accuracy=0.979531\n"
     ]
    },
    {
     "name": "stdout",
     "output_type": "stream",
     "text": [
      "2016-10-26 19:37:54,141 Node[0] Epoch[3] Batch [250]\tSpeed: 26890.77 samples/sec\tTrain-accuracy=0.979531\n"
     ]
    },
    {
     "name": "stderr",
     "output_type": "stream",
     "text": [
      "INFO:root:Epoch[3] Batch [250]\tSpeed: 26890.77 samples/sec\tTrain-top_k_accuracy_5=0.999687\n"
     ]
    },
    {
     "name": "stdout",
     "output_type": "stream",
     "text": [
      "2016-10-26 19:37:54,142 Node[0] Epoch[3] Batch [250]\tSpeed: 26890.77 samples/sec\tTrain-top_k_accuracy_5=0.999687\n"
     ]
    },
    {
     "name": "stderr",
     "output_type": "stream",
     "text": [
      "INFO:root:Epoch[3] Batch [250]\tSpeed: 26890.77 samples/sec\tTrain-top_k_accuracy_10=1.000000\n"
     ]
    },
    {
     "name": "stdout",
     "output_type": "stream",
     "text": [
      "2016-10-26 19:37:54,144 Node[0] Epoch[3] Batch [250]\tSpeed: 26890.77 samples/sec\tTrain-top_k_accuracy_10=1.000000\n"
     ]
    },
    {
     "name": "stderr",
     "output_type": "stream",
     "text": [
      "INFO:root:Epoch[3] Batch [250]\tSpeed: 26890.77 samples/sec\tTrain-top_k_accuracy_20=1.000000\n"
     ]
    },
    {
     "name": "stdout",
     "output_type": "stream",
     "text": [
      "2016-10-26 19:37:54,145 Node[0] Epoch[3] Batch [250]\tSpeed: 26890.77 samples/sec\tTrain-top_k_accuracy_20=1.000000\n"
     ]
    },
    {
     "name": "stderr",
     "output_type": "stream",
     "text": [
      "INFO:root:Epoch[3] Batch [300]\tSpeed: 27586.22 samples/sec\tTrain-accuracy=0.979844\n"
     ]
    },
    {
     "name": "stdout",
     "output_type": "stream",
     "text": [
      "2016-10-26 19:37:54,378 Node[0] Epoch[3] Batch [300]\tSpeed: 27586.22 samples/sec\tTrain-accuracy=0.979844\n"
     ]
    },
    {
     "name": "stderr",
     "output_type": "stream",
     "text": [
      "INFO:root:Epoch[3] Batch [300]\tSpeed: 27586.22 samples/sec\tTrain-top_k_accuracy_5=0.999844\n"
     ]
    },
    {
     "name": "stdout",
     "output_type": "stream",
     "text": [
      "2016-10-26 19:37:54,380 Node[0] Epoch[3] Batch [300]\tSpeed: 27586.22 samples/sec\tTrain-top_k_accuracy_5=0.999844\n"
     ]
    },
    {
     "name": "stderr",
     "output_type": "stream",
     "text": [
      "INFO:root:Epoch[3] Batch [300]\tSpeed: 27586.22 samples/sec\tTrain-top_k_accuracy_10=1.000000\n"
     ]
    },
    {
     "name": "stdout",
     "output_type": "stream",
     "text": [
      "2016-10-26 19:37:54,381 Node[0] Epoch[3] Batch [300]\tSpeed: 27586.22 samples/sec\tTrain-top_k_accuracy_10=1.000000\n"
     ]
    },
    {
     "name": "stderr",
     "output_type": "stream",
     "text": [
      "INFO:root:Epoch[3] Batch [300]\tSpeed: 27586.22 samples/sec\tTrain-top_k_accuracy_20=1.000000\n"
     ]
    },
    {
     "name": "stdout",
     "output_type": "stream",
     "text": [
      "2016-10-26 19:37:54,384 Node[0] Epoch[3] Batch [300]\tSpeed: 27586.22 samples/sec\tTrain-top_k_accuracy_20=1.000000\n"
     ]
    },
    {
     "name": "stderr",
     "output_type": "stream",
     "text": [
      "INFO:root:Epoch[3] Batch [350]\tSpeed: 27467.81 samples/sec\tTrain-accuracy=0.979375\n"
     ]
    },
    {
     "name": "stdout",
     "output_type": "stream",
     "text": [
      "2016-10-26 19:37:54,618 Node[0] Epoch[3] Batch [350]\tSpeed: 27467.81 samples/sec\tTrain-accuracy=0.979375\n"
     ]
    },
    {
     "name": "stderr",
     "output_type": "stream",
     "text": [
      "INFO:root:Epoch[3] Batch [350]\tSpeed: 27467.81 samples/sec\tTrain-top_k_accuracy_5=0.999531\n"
     ]
    },
    {
     "name": "stdout",
     "output_type": "stream",
     "text": [
      "2016-10-26 19:37:54,621 Node[0] Epoch[3] Batch [350]\tSpeed: 27467.81 samples/sec\tTrain-top_k_accuracy_5=0.999531\n"
     ]
    },
    {
     "name": "stderr",
     "output_type": "stream",
     "text": [
      "INFO:root:Epoch[3] Batch [350]\tSpeed: 27467.81 samples/sec\tTrain-top_k_accuracy_10=1.000000\n"
     ]
    },
    {
     "name": "stdout",
     "output_type": "stream",
     "text": [
      "2016-10-26 19:37:54,621 Node[0] Epoch[3] Batch [350]\tSpeed: 27467.81 samples/sec\tTrain-top_k_accuracy_10=1.000000\n"
     ]
    },
    {
     "name": "stderr",
     "output_type": "stream",
     "text": [
      "INFO:root:Epoch[3] Batch [350]\tSpeed: 27467.81 samples/sec\tTrain-top_k_accuracy_20=1.000000\n"
     ]
    },
    {
     "name": "stdout",
     "output_type": "stream",
     "text": [
      "2016-10-26 19:37:54,622 Node[0] Epoch[3] Batch [350]\tSpeed: 27467.81 samples/sec\tTrain-top_k_accuracy_20=1.000000\n"
     ]
    },
    {
     "name": "stderr",
     "output_type": "stream",
     "text": [
      "INFO:root:Epoch[3] Batch [400]\tSpeed: 27004.22 samples/sec\tTrain-accuracy=0.982656\n"
     ]
    },
    {
     "name": "stdout",
     "output_type": "stream",
     "text": [
      "2016-10-26 19:37:54,862 Node[0] Epoch[3] Batch [400]\tSpeed: 27004.22 samples/sec\tTrain-accuracy=0.982656\n"
     ]
    },
    {
     "name": "stderr",
     "output_type": "stream",
     "text": [
      "INFO:root:Epoch[3] Batch [400]\tSpeed: 27004.22 samples/sec\tTrain-top_k_accuracy_5=0.999531\n"
     ]
    },
    {
     "name": "stdout",
     "output_type": "stream",
     "text": [
      "2016-10-26 19:37:54,865 Node[0] Epoch[3] Batch [400]\tSpeed: 27004.22 samples/sec\tTrain-top_k_accuracy_5=0.999531\n"
     ]
    },
    {
     "name": "stderr",
     "output_type": "stream",
     "text": [
      "INFO:root:Epoch[3] Batch [400]\tSpeed: 27004.22 samples/sec\tTrain-top_k_accuracy_10=1.000000\n"
     ]
    },
    {
     "name": "stdout",
     "output_type": "stream",
     "text": [
      "2016-10-26 19:37:54,867 Node[0] Epoch[3] Batch [400]\tSpeed: 27004.22 samples/sec\tTrain-top_k_accuracy_10=1.000000\n"
     ]
    },
    {
     "name": "stderr",
     "output_type": "stream",
     "text": [
      "INFO:root:Epoch[3] Batch [400]\tSpeed: 27004.22 samples/sec\tTrain-top_k_accuracy_20=1.000000\n"
     ]
    },
    {
     "name": "stdout",
     "output_type": "stream",
     "text": [
      "2016-10-26 19:37:54,868 Node[0] Epoch[3] Batch [400]\tSpeed: 27004.22 samples/sec\tTrain-top_k_accuracy_20=1.000000\n"
     ]
    },
    {
     "name": "stderr",
     "output_type": "stream",
     "text": [
      "INFO:root:Epoch[3] Batch [450]\tSpeed: 27586.19 samples/sec\tTrain-accuracy=0.981094\n"
     ]
    },
    {
     "name": "stdout",
     "output_type": "stream",
     "text": [
      "2016-10-26 19:37:55,101 Node[0] Epoch[3] Batch [450]\tSpeed: 27586.19 samples/sec\tTrain-accuracy=0.981094\n"
     ]
    },
    {
     "name": "stderr",
     "output_type": "stream",
     "text": [
      "INFO:root:Epoch[3] Batch [450]\tSpeed: 27586.19 samples/sec\tTrain-top_k_accuracy_5=1.000000\n"
     ]
    },
    {
     "name": "stdout",
     "output_type": "stream",
     "text": [
      "2016-10-26 19:37:55,104 Node[0] Epoch[3] Batch [450]\tSpeed: 27586.19 samples/sec\tTrain-top_k_accuracy_5=1.000000\n"
     ]
    },
    {
     "name": "stderr",
     "output_type": "stream",
     "text": [
      "INFO:root:Epoch[3] Batch [450]\tSpeed: 27586.19 samples/sec\tTrain-top_k_accuracy_10=1.000000\n"
     ]
    },
    {
     "name": "stdout",
     "output_type": "stream",
     "text": [
      "2016-10-26 19:37:55,105 Node[0] Epoch[3] Batch [450]\tSpeed: 27586.19 samples/sec\tTrain-top_k_accuracy_10=1.000000\n"
     ]
    },
    {
     "name": "stderr",
     "output_type": "stream",
     "text": [
      "INFO:root:Epoch[3] Batch [450]\tSpeed: 27586.19 samples/sec\tTrain-top_k_accuracy_20=1.000000\n"
     ]
    },
    {
     "name": "stdout",
     "output_type": "stream",
     "text": [
      "2016-10-26 19:37:55,107 Node[0] Epoch[3] Batch [450]\tSpeed: 27586.19 samples/sec\tTrain-top_k_accuracy_20=1.000000\n"
     ]
    },
    {
     "name": "stderr",
     "output_type": "stream",
     "text": [
      "INFO:root:Epoch[3] Resetting Data Iterator\n"
     ]
    },
    {
     "name": "stdout",
     "output_type": "stream",
     "text": [
      "2016-10-26 19:37:55,191 Node[0] Epoch[3] Resetting Data Iterator\n"
     ]
    },
    {
     "name": "stderr",
     "output_type": "stream",
     "text": [
      "INFO:root:Epoch[3] Time cost=2.283\n"
     ]
    },
    {
     "name": "stdout",
     "output_type": "stream",
     "text": [
      "2016-10-26 19:37:55,194 Node[0] Epoch[3] Time cost=2.283\n"
     ]
    },
    {
     "name": "stderr",
     "output_type": "stream",
     "text": [
      "INFO:root:Epoch[3] Validation-accuracy=0.974359\n"
     ]
    },
    {
     "name": "stdout",
     "output_type": "stream",
     "text": [
      "2016-10-26 19:37:55,359 Node[0] Epoch[3] Validation-accuracy=0.974359\n"
     ]
    },
    {
     "name": "stderr",
     "output_type": "stream",
     "text": [
      "INFO:root:Epoch[3] Validation-top_k_accuracy_5=0.999199\n"
     ]
    },
    {
     "name": "stdout",
     "output_type": "stream",
     "text": [
      "2016-10-26 19:37:55,361 Node[0] Epoch[3] Validation-top_k_accuracy_5=0.999199\n"
     ]
    },
    {
     "name": "stderr",
     "output_type": "stream",
     "text": [
      "INFO:root:Epoch[3] Validation-top_k_accuracy_10=1.000000\n"
     ]
    },
    {
     "name": "stdout",
     "output_type": "stream",
     "text": [
      "2016-10-26 19:37:55,362 Node[0] Epoch[3] Validation-top_k_accuracy_10=1.000000\n"
     ]
    },
    {
     "name": "stderr",
     "output_type": "stream",
     "text": [
      "INFO:root:Epoch[3] Validation-top_k_accuracy_20=1.000000\n"
     ]
    },
    {
     "name": "stdout",
     "output_type": "stream",
     "text": [
      "2016-10-26 19:37:55,364 Node[0] Epoch[3] Validation-top_k_accuracy_20=1.000000\n"
     ]
    },
    {
     "name": "stderr",
     "output_type": "stream",
     "text": [
      "INFO:root:Epoch[4] Batch [50]\tSpeed: 27586.19 samples/sec\tTrain-accuracy=0.980938\n"
     ]
    },
    {
     "name": "stdout",
     "output_type": "stream",
     "text": [
      "2016-10-26 19:37:55,601 Node[0] Epoch[4] Batch [50]\tSpeed: 27586.19 samples/sec\tTrain-accuracy=0.980938\n"
     ]
    },
    {
     "name": "stderr",
     "output_type": "stream",
     "text": [
      "INFO:root:Epoch[4] Batch [50]\tSpeed: 27586.19 samples/sec\tTrain-top_k_accuracy_5=0.999844\n"
     ]
    },
    {
     "name": "stdout",
     "output_type": "stream",
     "text": [
      "2016-10-26 19:37:55,605 Node[0] Epoch[4] Batch [50]\tSpeed: 27586.19 samples/sec\tTrain-top_k_accuracy_5=0.999844\n"
     ]
    },
    {
     "name": "stderr",
     "output_type": "stream",
     "text": [
      "INFO:root:Epoch[4] Batch [50]\tSpeed: 27586.19 samples/sec\tTrain-top_k_accuracy_10=1.000000\n"
     ]
    },
    {
     "name": "stdout",
     "output_type": "stream",
     "text": [
      "2016-10-26 19:37:55,608 Node[0] Epoch[4] Batch [50]\tSpeed: 27586.19 samples/sec\tTrain-top_k_accuracy_10=1.000000\n"
     ]
    },
    {
     "name": "stderr",
     "output_type": "stream",
     "text": [
      "INFO:root:Epoch[4] Batch [50]\tSpeed: 27586.19 samples/sec\tTrain-top_k_accuracy_20=1.000000\n"
     ]
    },
    {
     "name": "stdout",
     "output_type": "stream",
     "text": [
      "2016-10-26 19:37:55,611 Node[0] Epoch[4] Batch [50]\tSpeed: 27586.19 samples/sec\tTrain-top_k_accuracy_20=1.000000\n"
     ]
    },
    {
     "name": "stderr",
     "output_type": "stream",
     "text": [
      "INFO:root:Epoch[4] Batch [100]\tSpeed: 27586.19 samples/sec\tTrain-accuracy=0.981406\n"
     ]
    },
    {
     "name": "stdout",
     "output_type": "stream",
     "text": [
      "2016-10-26 19:37:55,844 Node[0] Epoch[4] Batch [100]\tSpeed: 27586.19 samples/sec\tTrain-accuracy=0.981406\n"
     ]
    },
    {
     "name": "stderr",
     "output_type": "stream",
     "text": [
      "INFO:root:Epoch[4] Batch [100]\tSpeed: 27586.19 samples/sec\tTrain-top_k_accuracy_5=0.999687\n"
     ]
    },
    {
     "name": "stdout",
     "output_type": "stream",
     "text": [
      "2016-10-26 19:37:55,845 Node[0] Epoch[4] Batch [100]\tSpeed: 27586.19 samples/sec\tTrain-top_k_accuracy_5=0.999687\n"
     ]
    },
    {
     "name": "stderr",
     "output_type": "stream",
     "text": [
      "INFO:root:Epoch[4] Batch [100]\tSpeed: 27586.19 samples/sec\tTrain-top_k_accuracy_10=1.000000\n"
     ]
    },
    {
     "name": "stdout",
     "output_type": "stream",
     "text": [
      "2016-10-26 19:37:55,846 Node[0] Epoch[4] Batch [100]\tSpeed: 27586.19 samples/sec\tTrain-top_k_accuracy_10=1.000000\n"
     ]
    },
    {
     "name": "stderr",
     "output_type": "stream",
     "text": [
      "INFO:root:Epoch[4] Batch [100]\tSpeed: 27586.19 samples/sec\tTrain-top_k_accuracy_20=1.000000\n"
     ]
    },
    {
     "name": "stdout",
     "output_type": "stream",
     "text": [
      "2016-10-26 19:37:55,848 Node[0] Epoch[4] Batch [100]\tSpeed: 27586.19 samples/sec\tTrain-top_k_accuracy_20=1.000000\n"
     ]
    },
    {
     "name": "stderr",
     "output_type": "stream",
     "text": [
      "INFO:root:Epoch[4] Batch [150]\tSpeed: 27118.64 samples/sec\tTrain-accuracy=0.981875\n"
     ]
    },
    {
     "name": "stdout",
     "output_type": "stream",
     "text": [
      "2016-10-26 19:37:56,085 Node[0] Epoch[4] Batch [150]\tSpeed: 27118.64 samples/sec\tTrain-accuracy=0.981875\n"
     ]
    },
    {
     "name": "stderr",
     "output_type": "stream",
     "text": [
      "INFO:root:Epoch[4] Batch [150]\tSpeed: 27118.64 samples/sec\tTrain-top_k_accuracy_5=0.999687\n"
     ]
    },
    {
     "name": "stdout",
     "output_type": "stream",
     "text": [
      "2016-10-26 19:37:56,088 Node[0] Epoch[4] Batch [150]\tSpeed: 27118.64 samples/sec\tTrain-top_k_accuracy_5=0.999687\n"
     ]
    },
    {
     "name": "stderr",
     "output_type": "stream",
     "text": [
      "INFO:root:Epoch[4] Batch [150]\tSpeed: 27118.64 samples/sec\tTrain-top_k_accuracy_10=1.000000\n"
     ]
    },
    {
     "name": "stdout",
     "output_type": "stream",
     "text": [
      "2016-10-26 19:37:56,089 Node[0] Epoch[4] Batch [150]\tSpeed: 27118.64 samples/sec\tTrain-top_k_accuracy_10=1.000000\n"
     ]
    },
    {
     "name": "stderr",
     "output_type": "stream",
     "text": [
      "INFO:root:Epoch[4] Batch [150]\tSpeed: 27118.64 samples/sec\tTrain-top_k_accuracy_20=1.000000\n"
     ]
    },
    {
     "name": "stdout",
     "output_type": "stream",
     "text": [
      "2016-10-26 19:37:56,091 Node[0] Epoch[4] Batch [150]\tSpeed: 27118.64 samples/sec\tTrain-top_k_accuracy_20=1.000000\n"
     ]
    },
    {
     "name": "stderr",
     "output_type": "stream",
     "text": [
      "INFO:root:Epoch[4] Batch [200]\tSpeed: 28571.43 samples/sec\tTrain-accuracy=0.987187\n"
     ]
    },
    {
     "name": "stdout",
     "output_type": "stream",
     "text": [
      "2016-10-26 19:37:56,315 Node[0] Epoch[4] Batch [200]\tSpeed: 28571.43 samples/sec\tTrain-accuracy=0.987187\n"
     ]
    },
    {
     "name": "stderr",
     "output_type": "stream",
     "text": [
      "INFO:root:Epoch[4] Batch [200]\tSpeed: 28571.43 samples/sec\tTrain-top_k_accuracy_5=1.000000\n"
     ]
    },
    {
     "name": "stdout",
     "output_type": "stream",
     "text": [
      "2016-10-26 19:37:56,318 Node[0] Epoch[4] Batch [200]\tSpeed: 28571.43 samples/sec\tTrain-top_k_accuracy_5=1.000000\n"
     ]
    },
    {
     "name": "stderr",
     "output_type": "stream",
     "text": [
      "INFO:root:Epoch[4] Batch [200]\tSpeed: 28571.43 samples/sec\tTrain-top_k_accuracy_10=1.000000\n"
     ]
    },
    {
     "name": "stdout",
     "output_type": "stream",
     "text": [
      "2016-10-26 19:37:56,319 Node[0] Epoch[4] Batch [200]\tSpeed: 28571.43 samples/sec\tTrain-top_k_accuracy_10=1.000000\n"
     ]
    },
    {
     "name": "stderr",
     "output_type": "stream",
     "text": [
      "INFO:root:Epoch[4] Batch [200]\tSpeed: 28571.43 samples/sec\tTrain-top_k_accuracy_20=1.000000\n"
     ]
    },
    {
     "name": "stdout",
     "output_type": "stream",
     "text": [
      "2016-10-26 19:37:56,321 Node[0] Epoch[4] Batch [200]\tSpeed: 28571.43 samples/sec\tTrain-top_k_accuracy_20=1.000000\n"
     ]
    },
    {
     "name": "stderr",
     "output_type": "stream",
     "text": [
      "INFO:root:Epoch[4] Batch [250]\tSpeed: 27350.43 samples/sec\tTrain-accuracy=0.982812\n"
     ]
    },
    {
     "name": "stdout",
     "output_type": "stream",
     "text": [
      "2016-10-26 19:37:56,555 Node[0] Epoch[4] Batch [250]\tSpeed: 27350.43 samples/sec\tTrain-accuracy=0.982812\n"
     ]
    },
    {
     "name": "stderr",
     "output_type": "stream",
     "text": [
      "INFO:root:Epoch[4] Batch [250]\tSpeed: 27350.43 samples/sec\tTrain-top_k_accuracy_5=0.999531\n"
     ]
    },
    {
     "name": "stdout",
     "output_type": "stream",
     "text": [
      "2016-10-26 19:37:56,558 Node[0] Epoch[4] Batch [250]\tSpeed: 27350.43 samples/sec\tTrain-top_k_accuracy_5=0.999531\n"
     ]
    },
    {
     "name": "stderr",
     "output_type": "stream",
     "text": [
      "INFO:root:Epoch[4] Batch [250]\tSpeed: 27350.43 samples/sec\tTrain-top_k_accuracy_10=1.000000\n"
     ]
    },
    {
     "name": "stdout",
     "output_type": "stream",
     "text": [
      "2016-10-26 19:37:56,559 Node[0] Epoch[4] Batch [250]\tSpeed: 27350.43 samples/sec\tTrain-top_k_accuracy_10=1.000000\n"
     ]
    },
    {
     "name": "stderr",
     "output_type": "stream",
     "text": [
      "INFO:root:Epoch[4] Batch [250]\tSpeed: 27350.43 samples/sec\tTrain-top_k_accuracy_20=1.000000\n"
     ]
    },
    {
     "name": "stdout",
     "output_type": "stream",
     "text": [
      "2016-10-26 19:37:56,559 Node[0] Epoch[4] Batch [250]\tSpeed: 27350.43 samples/sec\tTrain-top_k_accuracy_20=1.000000\n"
     ]
    },
    {
     "name": "stderr",
     "output_type": "stream",
     "text": [
      "INFO:root:Epoch[4] Batch [300]\tSpeed: 29493.09 samples/sec\tTrain-accuracy=0.982969\n"
     ]
    },
    {
     "name": "stdout",
     "output_type": "stream",
     "text": [
      "2016-10-26 19:37:56,779 Node[0] Epoch[4] Batch [300]\tSpeed: 29493.09 samples/sec\tTrain-accuracy=0.982969\n"
     ]
    },
    {
     "name": "stderr",
     "output_type": "stream",
     "text": [
      "INFO:root:Epoch[4] Batch [300]\tSpeed: 29493.09 samples/sec\tTrain-top_k_accuracy_5=1.000000\n"
     ]
    },
    {
     "name": "stdout",
     "output_type": "stream",
     "text": [
      "2016-10-26 19:37:56,780 Node[0] Epoch[4] Batch [300]\tSpeed: 29493.09 samples/sec\tTrain-top_k_accuracy_5=1.000000\n"
     ]
    },
    {
     "name": "stderr",
     "output_type": "stream",
     "text": [
      "INFO:root:Epoch[4] Batch [300]\tSpeed: 29493.09 samples/sec\tTrain-top_k_accuracy_10=1.000000\n"
     ]
    },
    {
     "name": "stdout",
     "output_type": "stream",
     "text": [
      "2016-10-26 19:37:56,782 Node[0] Epoch[4] Batch [300]\tSpeed: 29493.09 samples/sec\tTrain-top_k_accuracy_10=1.000000\n"
     ]
    },
    {
     "name": "stderr",
     "output_type": "stream",
     "text": [
      "INFO:root:Epoch[4] Batch [300]\tSpeed: 29493.09 samples/sec\tTrain-top_k_accuracy_20=1.000000\n"
     ]
    },
    {
     "name": "stdout",
     "output_type": "stream",
     "text": [
      "2016-10-26 19:37:56,786 Node[0] Epoch[4] Batch [300]\tSpeed: 29493.09 samples/sec\tTrain-top_k_accuracy_20=1.000000\n"
     ]
    },
    {
     "name": "stderr",
     "output_type": "stream",
     "text": [
      "INFO:root:Epoch[4] Batch [350]\tSpeed: 26016.25 samples/sec\tTrain-accuracy=0.981563\n"
     ]
    },
    {
     "name": "stdout",
     "output_type": "stream",
     "text": [
      "2016-10-26 19:37:57,036 Node[0] Epoch[4] Batch [350]\tSpeed: 26016.25 samples/sec\tTrain-accuracy=0.981563\n"
     ]
    },
    {
     "name": "stderr",
     "output_type": "stream",
     "text": [
      "INFO:root:Epoch[4] Batch [350]\tSpeed: 26016.25 samples/sec\tTrain-top_k_accuracy_5=0.999531\n"
     ]
    },
    {
     "name": "stdout",
     "output_type": "stream",
     "text": [
      "2016-10-26 19:37:57,039 Node[0] Epoch[4] Batch [350]\tSpeed: 26016.25 samples/sec\tTrain-top_k_accuracy_5=0.999531\n"
     ]
    },
    {
     "name": "stderr",
     "output_type": "stream",
     "text": [
      "INFO:root:Epoch[4] Batch [350]\tSpeed: 26016.25 samples/sec\tTrain-top_k_accuracy_10=1.000000\n"
     ]
    },
    {
     "name": "stdout",
     "output_type": "stream",
     "text": [
      "2016-10-26 19:37:57,040 Node[0] Epoch[4] Batch [350]\tSpeed: 26016.25 samples/sec\tTrain-top_k_accuracy_10=1.000000\n"
     ]
    },
    {
     "name": "stderr",
     "output_type": "stream",
     "text": [
      "INFO:root:Epoch[4] Batch [350]\tSpeed: 26016.25 samples/sec\tTrain-top_k_accuracy_20=1.000000\n"
     ]
    },
    {
     "name": "stdout",
     "output_type": "stream",
     "text": [
      "2016-10-26 19:37:57,042 Node[0] Epoch[4] Batch [350]\tSpeed: 26016.25 samples/sec\tTrain-top_k_accuracy_20=1.000000\n"
     ]
    },
    {
     "name": "stderr",
     "output_type": "stream",
     "text": [
      "INFO:root:Epoch[4] Batch [400]\tSpeed: 27118.66 samples/sec\tTrain-accuracy=0.985000\n"
     ]
    },
    {
     "name": "stdout",
     "output_type": "stream",
     "text": [
      "2016-10-26 19:37:57,280 Node[0] Epoch[4] Batch [400]\tSpeed: 27118.66 samples/sec\tTrain-accuracy=0.985000\n"
     ]
    },
    {
     "name": "stderr",
     "output_type": "stream",
     "text": [
      "INFO:root:Epoch[4] Batch [400]\tSpeed: 27118.66 samples/sec\tTrain-top_k_accuracy_5=0.999687\n"
     ]
    },
    {
     "name": "stdout",
     "output_type": "stream",
     "text": [
      "2016-10-26 19:37:57,282 Node[0] Epoch[4] Batch [400]\tSpeed: 27118.66 samples/sec\tTrain-top_k_accuracy_5=0.999687\n"
     ]
    },
    {
     "name": "stderr",
     "output_type": "stream",
     "text": [
      "INFO:root:Epoch[4] Batch [400]\tSpeed: 27118.66 samples/sec\tTrain-top_k_accuracy_10=1.000000\n"
     ]
    },
    {
     "name": "stdout",
     "output_type": "stream",
     "text": [
      "2016-10-26 19:37:57,285 Node[0] Epoch[4] Batch [400]\tSpeed: 27118.66 samples/sec\tTrain-top_k_accuracy_10=1.000000\n"
     ]
    },
    {
     "name": "stderr",
     "output_type": "stream",
     "text": [
      "INFO:root:Epoch[4] Batch [400]\tSpeed: 27118.66 samples/sec\tTrain-top_k_accuracy_20=1.000000\n"
     ]
    },
    {
     "name": "stdout",
     "output_type": "stream",
     "text": [
      "2016-10-26 19:37:57,286 Node[0] Epoch[4] Batch [400]\tSpeed: 27118.66 samples/sec\tTrain-top_k_accuracy_20=1.000000\n"
     ]
    },
    {
     "name": "stderr",
     "output_type": "stream",
     "text": [
      "INFO:root:Epoch[4] Batch [450]\tSpeed: 26446.30 samples/sec\tTrain-accuracy=0.983281\n"
     ]
    },
    {
     "name": "stdout",
     "output_type": "stream",
     "text": [
      "2016-10-26 19:37:57,530 Node[0] Epoch[4] Batch [450]\tSpeed: 26446.30 samples/sec\tTrain-accuracy=0.983281\n"
     ]
    },
    {
     "name": "stderr",
     "output_type": "stream",
     "text": [
      "INFO:root:Epoch[4] Batch [450]\tSpeed: 26446.30 samples/sec\tTrain-top_k_accuracy_5=1.000000\n"
     ]
    },
    {
     "name": "stdout",
     "output_type": "stream",
     "text": [
      "2016-10-26 19:37:57,532 Node[0] Epoch[4] Batch [450]\tSpeed: 26446.30 samples/sec\tTrain-top_k_accuracy_5=1.000000\n"
     ]
    },
    {
     "name": "stderr",
     "output_type": "stream",
     "text": [
      "INFO:root:Epoch[4] Batch [450]\tSpeed: 26446.30 samples/sec\tTrain-top_k_accuracy_10=1.000000\n"
     ]
    },
    {
     "name": "stdout",
     "output_type": "stream",
     "text": [
      "2016-10-26 19:37:57,533 Node[0] Epoch[4] Batch [450]\tSpeed: 26446.30 samples/sec\tTrain-top_k_accuracy_10=1.000000\n"
     ]
    },
    {
     "name": "stderr",
     "output_type": "stream",
     "text": [
      "INFO:root:Epoch[4] Batch [450]\tSpeed: 26446.30 samples/sec\tTrain-top_k_accuracy_20=1.000000\n"
     ]
    },
    {
     "name": "stdout",
     "output_type": "stream",
     "text": [
      "2016-10-26 19:37:57,535 Node[0] Epoch[4] Batch [450]\tSpeed: 26446.30 samples/sec\tTrain-top_k_accuracy_20=1.000000\n"
     ]
    },
    {
     "name": "stderr",
     "output_type": "stream",
     "text": [
      "INFO:root:Epoch[4] Resetting Data Iterator\n"
     ]
    },
    {
     "name": "stdout",
     "output_type": "stream",
     "text": [
      "2016-10-26 19:37:57,615 Node[0] Epoch[4] Resetting Data Iterator\n"
     ]
    },
    {
     "name": "stderr",
     "output_type": "stream",
     "text": [
      "INFO:root:Epoch[4] Time cost=2.251\n"
     ]
    },
    {
     "name": "stdout",
     "output_type": "stream",
     "text": [
      "2016-10-26 19:37:57,617 Node[0] Epoch[4] Time cost=2.251\n"
     ]
    },
    {
     "name": "stderr",
     "output_type": "stream",
     "text": [
      "INFO:root:Epoch[4] Validation-accuracy=0.972456\n"
     ]
    },
    {
     "name": "stdout",
     "output_type": "stream",
     "text": [
      "2016-10-26 19:37:57,776 Node[0] Epoch[4] Validation-accuracy=0.972456\n"
     ]
    },
    {
     "name": "stderr",
     "output_type": "stream",
     "text": [
      "INFO:root:Epoch[4] Validation-top_k_accuracy_5=0.999299\n"
     ]
    },
    {
     "name": "stdout",
     "output_type": "stream",
     "text": [
      "2016-10-26 19:37:57,776 Node[0] Epoch[4] Validation-top_k_accuracy_5=0.999299\n"
     ]
    },
    {
     "name": "stderr",
     "output_type": "stream",
     "text": [
      "INFO:root:Epoch[4] Validation-top_k_accuracy_10=1.000000\n"
     ]
    },
    {
     "name": "stdout",
     "output_type": "stream",
     "text": [
      "2016-10-26 19:37:57,779 Node[0] Epoch[4] Validation-top_k_accuracy_10=1.000000\n"
     ]
    },
    {
     "name": "stderr",
     "output_type": "stream",
     "text": [
      "INFO:root:Epoch[4] Validation-top_k_accuracy_20=1.000000\n"
     ]
    },
    {
     "name": "stdout",
     "output_type": "stream",
     "text": [
      "2016-10-26 19:37:57,779 Node[0] Epoch[4] Validation-top_k_accuracy_20=1.000000\n"
     ]
    },
    {
     "name": "stderr",
     "output_type": "stream",
     "text": [
      "INFO:root:Epoch[5] Batch [50]\tSpeed: 27705.63 samples/sec\tTrain-accuracy=0.984219\n"
     ]
    },
    {
     "name": "stdout",
     "output_type": "stream",
     "text": [
      "2016-10-26 19:37:58,019 Node[0] Epoch[5] Batch [50]\tSpeed: 27705.63 samples/sec\tTrain-accuracy=0.984219\n"
     ]
    },
    {
     "name": "stderr",
     "output_type": "stream",
     "text": [
      "INFO:root:Epoch[5] Batch [50]\tSpeed: 27705.63 samples/sec\tTrain-top_k_accuracy_5=0.999687\n"
     ]
    },
    {
     "name": "stdout",
     "output_type": "stream",
     "text": [
      "2016-10-26 19:37:58,022 Node[0] Epoch[5] Batch [50]\tSpeed: 27705.63 samples/sec\tTrain-top_k_accuracy_5=0.999687\n"
     ]
    },
    {
     "name": "stderr",
     "output_type": "stream",
     "text": [
      "INFO:root:Epoch[5] Batch [50]\tSpeed: 27705.63 samples/sec\tTrain-top_k_accuracy_10=1.000000\n"
     ]
    },
    {
     "name": "stdout",
     "output_type": "stream",
     "text": [
      "2016-10-26 19:37:58,023 Node[0] Epoch[5] Batch [50]\tSpeed: 27705.63 samples/sec\tTrain-top_k_accuracy_10=1.000000\n"
     ]
    },
    {
     "name": "stderr",
     "output_type": "stream",
     "text": [
      "INFO:root:Epoch[5] Batch [50]\tSpeed: 27705.63 samples/sec\tTrain-top_k_accuracy_20=1.000000\n"
     ]
    },
    {
     "name": "stdout",
     "output_type": "stream",
     "text": [
      "2016-10-26 19:37:58,025 Node[0] Epoch[5] Batch [50]\tSpeed: 27705.63 samples/sec\tTrain-top_k_accuracy_20=1.000000\n"
     ]
    },
    {
     "name": "stderr",
     "output_type": "stream",
     "text": [
      "INFO:root:Epoch[5] Batch [100]\tSpeed: 28193.83 samples/sec\tTrain-accuracy=0.987344\n"
     ]
    },
    {
     "name": "stdout",
     "output_type": "stream",
     "text": [
      "2016-10-26 19:37:58,253 Node[0] Epoch[5] Batch [100]\tSpeed: 28193.83 samples/sec\tTrain-accuracy=0.987344\n"
     ]
    },
    {
     "name": "stderr",
     "output_type": "stream",
     "text": [
      "INFO:root:Epoch[5] Batch [100]\tSpeed: 28193.83 samples/sec\tTrain-top_k_accuracy_5=1.000000\n"
     ]
    },
    {
     "name": "stdout",
     "output_type": "stream",
     "text": [
      "2016-10-26 19:37:58,255 Node[0] Epoch[5] Batch [100]\tSpeed: 28193.83 samples/sec\tTrain-top_k_accuracy_5=1.000000\n"
     ]
    },
    {
     "name": "stderr",
     "output_type": "stream",
     "text": [
      "INFO:root:Epoch[5] Batch [100]\tSpeed: 28193.83 samples/sec\tTrain-top_k_accuracy_10=1.000000\n"
     ]
    },
    {
     "name": "stdout",
     "output_type": "stream",
     "text": [
      "2016-10-26 19:37:58,256 Node[0] Epoch[5] Batch [100]\tSpeed: 28193.83 samples/sec\tTrain-top_k_accuracy_10=1.000000\n"
     ]
    },
    {
     "name": "stderr",
     "output_type": "stream",
     "text": [
      "INFO:root:Epoch[5] Batch [100]\tSpeed: 28193.83 samples/sec\tTrain-top_k_accuracy_20=1.000000\n"
     ]
    },
    {
     "name": "stdout",
     "output_type": "stream",
     "text": [
      "2016-10-26 19:37:58,257 Node[0] Epoch[5] Batch [100]\tSpeed: 28193.83 samples/sec\tTrain-top_k_accuracy_20=1.000000\n"
     ]
    },
    {
     "name": "stderr",
     "output_type": "stream",
     "text": [
      "INFO:root:Epoch[5] Batch [150]\tSpeed: 27947.62 samples/sec\tTrain-accuracy=0.986094\n"
     ]
    },
    {
     "name": "stdout",
     "output_type": "stream",
     "text": [
      "2016-10-26 19:37:58,487 Node[0] Epoch[5] Batch [150]\tSpeed: 27947.62 samples/sec\tTrain-accuracy=0.986094\n"
     ]
    },
    {
     "name": "stderr",
     "output_type": "stream",
     "text": [
      "INFO:root:Epoch[5] Batch [150]\tSpeed: 27947.62 samples/sec\tTrain-top_k_accuracy_5=0.999531\n"
     ]
    },
    {
     "name": "stdout",
     "output_type": "stream",
     "text": [
      "2016-10-26 19:37:58,489 Node[0] Epoch[5] Batch [150]\tSpeed: 27947.62 samples/sec\tTrain-top_k_accuracy_5=0.999531\n"
     ]
    },
    {
     "name": "stderr",
     "output_type": "stream",
     "text": [
      "INFO:root:Epoch[5] Batch [150]\tSpeed: 27947.62 samples/sec\tTrain-top_k_accuracy_10=1.000000\n"
     ]
    },
    {
     "name": "stdout",
     "output_type": "stream",
     "text": [
      "2016-10-26 19:37:58,490 Node[0] Epoch[5] Batch [150]\tSpeed: 27947.62 samples/sec\tTrain-top_k_accuracy_10=1.000000\n"
     ]
    },
    {
     "name": "stderr",
     "output_type": "stream",
     "text": [
      "INFO:root:Epoch[5] Batch [150]\tSpeed: 27947.62 samples/sec\tTrain-top_k_accuracy_20=1.000000\n"
     ]
    },
    {
     "name": "stdout",
     "output_type": "stream",
     "text": [
      "2016-10-26 19:37:58,492 Node[0] Epoch[5] Batch [150]\tSpeed: 27947.62 samples/sec\tTrain-top_k_accuracy_20=1.000000\n"
     ]
    },
    {
     "name": "stderr",
     "output_type": "stream",
     "text": [
      "INFO:root:Epoch[5] Batch [200]\tSpeed: 28828.84 samples/sec\tTrain-accuracy=0.987031\n"
     ]
    },
    {
     "name": "stdout",
     "output_type": "stream",
     "text": [
      "2016-10-26 19:37:58,714 Node[0] Epoch[5] Batch [200]\tSpeed: 28828.84 samples/sec\tTrain-accuracy=0.987031\n"
     ]
    },
    {
     "name": "stderr",
     "output_type": "stream",
     "text": [
      "INFO:root:Epoch[5] Batch [200]\tSpeed: 28828.84 samples/sec\tTrain-top_k_accuracy_5=1.000000\n"
     ]
    },
    {
     "name": "stdout",
     "output_type": "stream",
     "text": [
      "2016-10-26 19:37:58,717 Node[0] Epoch[5] Batch [200]\tSpeed: 28828.84 samples/sec\tTrain-top_k_accuracy_5=1.000000\n"
     ]
    },
    {
     "name": "stderr",
     "output_type": "stream",
     "text": [
      "INFO:root:Epoch[5] Batch [200]\tSpeed: 28828.84 samples/sec\tTrain-top_k_accuracy_10=1.000000\n"
     ]
    },
    {
     "name": "stdout",
     "output_type": "stream",
     "text": [
      "2016-10-26 19:37:58,719 Node[0] Epoch[5] Batch [200]\tSpeed: 28828.84 samples/sec\tTrain-top_k_accuracy_10=1.000000\n"
     ]
    },
    {
     "name": "stderr",
     "output_type": "stream",
     "text": [
      "INFO:root:Epoch[5] Batch [200]\tSpeed: 28828.84 samples/sec\tTrain-top_k_accuracy_20=1.000000\n"
     ]
    },
    {
     "name": "stdout",
     "output_type": "stream",
     "text": [
      "2016-10-26 19:37:58,720 Node[0] Epoch[5] Batch [200]\tSpeed: 28828.84 samples/sec\tTrain-top_k_accuracy_20=1.000000\n"
     ]
    },
    {
     "name": "stderr",
     "output_type": "stream",
     "text": [
      "INFO:root:Epoch[5] Batch [250]\tSpeed: 28571.40 samples/sec\tTrain-accuracy=0.984531\n"
     ]
    },
    {
     "name": "stdout",
     "output_type": "stream",
     "text": [
      "2016-10-26 19:37:58,946 Node[0] Epoch[5] Batch [250]\tSpeed: 28571.40 samples/sec\tTrain-accuracy=0.984531\n"
     ]
    },
    {
     "name": "stderr",
     "output_type": "stream",
     "text": [
      "INFO:root:Epoch[5] Batch [250]\tSpeed: 28571.40 samples/sec\tTrain-top_k_accuracy_5=0.999844\n"
     ]
    },
    {
     "name": "stdout",
     "output_type": "stream",
     "text": [
      "2016-10-26 19:37:58,947 Node[0] Epoch[5] Batch [250]\tSpeed: 28571.40 samples/sec\tTrain-top_k_accuracy_5=0.999844\n"
     ]
    },
    {
     "name": "stderr",
     "output_type": "stream",
     "text": [
      "INFO:root:Epoch[5] Batch [250]\tSpeed: 28571.40 samples/sec\tTrain-top_k_accuracy_10=1.000000\n"
     ]
    },
    {
     "name": "stdout",
     "output_type": "stream",
     "text": [
      "2016-10-26 19:37:58,950 Node[0] Epoch[5] Batch [250]\tSpeed: 28571.40 samples/sec\tTrain-top_k_accuracy_10=1.000000\n"
     ]
    },
    {
     "name": "stderr",
     "output_type": "stream",
     "text": [
      "INFO:root:Epoch[5] Batch [250]\tSpeed: 28571.40 samples/sec\tTrain-top_k_accuracy_20=1.000000\n"
     ]
    },
    {
     "name": "stdout",
     "output_type": "stream",
     "text": [
      "2016-10-26 19:37:58,953 Node[0] Epoch[5] Batch [250]\tSpeed: 28571.40 samples/sec\tTrain-top_k_accuracy_20=1.000000\n"
     ]
    },
    {
     "name": "stderr",
     "output_type": "stream",
     "text": [
      "INFO:root:Epoch[5] Batch [300]\tSpeed: 27826.08 samples/sec\tTrain-accuracy=0.985469\n"
     ]
    },
    {
     "name": "stdout",
     "output_type": "stream",
     "text": [
      "2016-10-26 19:37:59,184 Node[0] Epoch[5] Batch [300]\tSpeed: 27826.08 samples/sec\tTrain-accuracy=0.985469\n"
     ]
    },
    {
     "name": "stderr",
     "output_type": "stream",
     "text": [
      "INFO:root:Epoch[5] Batch [300]\tSpeed: 27826.08 samples/sec\tTrain-top_k_accuracy_5=1.000000\n"
     ]
    },
    {
     "name": "stdout",
     "output_type": "stream",
     "text": [
      "2016-10-26 19:37:59,187 Node[0] Epoch[5] Batch [300]\tSpeed: 27826.08 samples/sec\tTrain-top_k_accuracy_5=1.000000\n"
     ]
    },
    {
     "name": "stderr",
     "output_type": "stream",
     "text": [
      "INFO:root:Epoch[5] Batch [300]\tSpeed: 27826.08 samples/sec\tTrain-top_k_accuracy_10=1.000000\n"
     ]
    },
    {
     "name": "stdout",
     "output_type": "stream",
     "text": [
      "2016-10-26 19:37:59,187 Node[0] Epoch[5] Batch [300]\tSpeed: 27826.08 samples/sec\tTrain-top_k_accuracy_10=1.000000\n"
     ]
    },
    {
     "name": "stderr",
     "output_type": "stream",
     "text": [
      "INFO:root:Epoch[5] Batch [300]\tSpeed: 27826.08 samples/sec\tTrain-top_k_accuracy_20=1.000000\n"
     ]
    },
    {
     "name": "stdout",
     "output_type": "stream",
     "text": [
      "2016-10-26 19:37:59,188 Node[0] Epoch[5] Batch [300]\tSpeed: 27826.08 samples/sec\tTrain-top_k_accuracy_20=1.000000\n"
     ]
    },
    {
     "name": "stderr",
     "output_type": "stream",
     "text": [
      "INFO:root:Epoch[5] Batch [350]\tSpeed: 28444.46 samples/sec\tTrain-accuracy=0.983125\n"
     ]
    },
    {
     "name": "stdout",
     "output_type": "stream",
     "text": [
      "2016-10-26 19:37:59,415 Node[0] Epoch[5] Batch [350]\tSpeed: 28444.46 samples/sec\tTrain-accuracy=0.983125\n"
     ]
    },
    {
     "name": "stderr",
     "output_type": "stream",
     "text": [
      "INFO:root:Epoch[5] Batch [350]\tSpeed: 28444.46 samples/sec\tTrain-top_k_accuracy_5=0.999844\n"
     ]
    },
    {
     "name": "stdout",
     "output_type": "stream",
     "text": [
      "2016-10-26 19:37:59,417 Node[0] Epoch[5] Batch [350]\tSpeed: 28444.46 samples/sec\tTrain-top_k_accuracy_5=0.999844\n"
     ]
    },
    {
     "name": "stderr",
     "output_type": "stream",
     "text": [
      "INFO:root:Epoch[5] Batch [350]\tSpeed: 28444.46 samples/sec\tTrain-top_k_accuracy_10=1.000000\n"
     ]
    },
    {
     "name": "stdout",
     "output_type": "stream",
     "text": [
      "2016-10-26 19:37:59,418 Node[0] Epoch[5] Batch [350]\tSpeed: 28444.46 samples/sec\tTrain-top_k_accuracy_10=1.000000\n"
     ]
    },
    {
     "name": "stderr",
     "output_type": "stream",
     "text": [
      "INFO:root:Epoch[5] Batch [350]\tSpeed: 28444.46 samples/sec\tTrain-top_k_accuracy_20=1.000000\n"
     ]
    },
    {
     "name": "stdout",
     "output_type": "stream",
     "text": [
      "2016-10-26 19:37:59,421 Node[0] Epoch[5] Batch [350]\tSpeed: 28444.46 samples/sec\tTrain-top_k_accuracy_20=1.000000\n"
     ]
    },
    {
     "name": "stderr",
     "output_type": "stream",
     "text": [
      "INFO:root:Epoch[5] Batch [400]\tSpeed: 28318.58 samples/sec\tTrain-accuracy=0.987500\n"
     ]
    },
    {
     "name": "stdout",
     "output_type": "stream",
     "text": [
      "2016-10-26 19:37:59,648 Node[0] Epoch[5] Batch [400]\tSpeed: 28318.58 samples/sec\tTrain-accuracy=0.987500\n"
     ]
    },
    {
     "name": "stderr",
     "output_type": "stream",
     "text": [
      "INFO:root:Epoch[5] Batch [400]\tSpeed: 28318.58 samples/sec\tTrain-top_k_accuracy_5=0.999687\n"
     ]
    },
    {
     "name": "stdout",
     "output_type": "stream",
     "text": [
      "2016-10-26 19:37:59,650 Node[0] Epoch[5] Batch [400]\tSpeed: 28318.58 samples/sec\tTrain-top_k_accuracy_5=0.999687\n"
     ]
    },
    {
     "name": "stderr",
     "output_type": "stream",
     "text": [
      "INFO:root:Epoch[5] Batch [400]\tSpeed: 28318.58 samples/sec\tTrain-top_k_accuracy_10=1.000000\n"
     ]
    },
    {
     "name": "stdout",
     "output_type": "stream",
     "text": [
      "2016-10-26 19:37:59,651 Node[0] Epoch[5] Batch [400]\tSpeed: 28318.58 samples/sec\tTrain-top_k_accuracy_10=1.000000\n"
     ]
    },
    {
     "name": "stderr",
     "output_type": "stream",
     "text": [
      "INFO:root:Epoch[5] Batch [400]\tSpeed: 28318.58 samples/sec\tTrain-top_k_accuracy_20=1.000000\n"
     ]
    },
    {
     "name": "stdout",
     "output_type": "stream",
     "text": [
      "2016-10-26 19:37:59,653 Node[0] Epoch[5] Batch [400]\tSpeed: 28318.58 samples/sec\tTrain-top_k_accuracy_20=1.000000\n"
     ]
    },
    {
     "name": "stderr",
     "output_type": "stream",
     "text": [
      "INFO:root:Epoch[5] Batch [450]\tSpeed: 28571.40 samples/sec\tTrain-accuracy=0.987031\n"
     ]
    },
    {
     "name": "stdout",
     "output_type": "stream",
     "text": [
      "2016-10-26 19:37:59,880 Node[0] Epoch[5] Batch [450]\tSpeed: 28571.40 samples/sec\tTrain-accuracy=0.987031\n"
     ]
    },
    {
     "name": "stderr",
     "output_type": "stream",
     "text": [
      "INFO:root:Epoch[5] Batch [450]\tSpeed: 28571.40 samples/sec\tTrain-top_k_accuracy_5=1.000000\n"
     ]
    },
    {
     "name": "stdout",
     "output_type": "stream",
     "text": [
      "2016-10-26 19:37:59,881 Node[0] Epoch[5] Batch [450]\tSpeed: 28571.40 samples/sec\tTrain-top_k_accuracy_5=1.000000\n"
     ]
    },
    {
     "name": "stderr",
     "output_type": "stream",
     "text": [
      "INFO:root:Epoch[5] Batch [450]\tSpeed: 28571.40 samples/sec\tTrain-top_k_accuracy_10=1.000000\n"
     ]
    },
    {
     "name": "stdout",
     "output_type": "stream",
     "text": [
      "2016-10-26 19:37:59,882 Node[0] Epoch[5] Batch [450]\tSpeed: 28571.40 samples/sec\tTrain-top_k_accuracy_10=1.000000\n"
     ]
    },
    {
     "name": "stderr",
     "output_type": "stream",
     "text": [
      "INFO:root:Epoch[5] Batch [450]\tSpeed: 28571.40 samples/sec\tTrain-top_k_accuracy_20=1.000000\n"
     ]
    },
    {
     "name": "stdout",
     "output_type": "stream",
     "text": [
      "2016-10-26 19:37:59,884 Node[0] Epoch[5] Batch [450]\tSpeed: 28571.40 samples/sec\tTrain-top_k_accuracy_20=1.000000\n"
     ]
    },
    {
     "name": "stderr",
     "output_type": "stream",
     "text": [
      "INFO:root:Epoch[5] Resetting Data Iterator\n"
     ]
    },
    {
     "name": "stdout",
     "output_type": "stream",
     "text": [
      "2016-10-26 19:37:59,973 Node[0] Epoch[5] Resetting Data Iterator\n"
     ]
    },
    {
     "name": "stderr",
     "output_type": "stream",
     "text": [
      "INFO:root:Epoch[5] Time cost=2.194\n"
     ]
    },
    {
     "name": "stdout",
     "output_type": "stream",
     "text": [
      "2016-10-26 19:37:59,974 Node[0] Epoch[5] Time cost=2.194\n"
     ]
    },
    {
     "name": "stderr",
     "output_type": "stream",
     "text": [
      "INFO:root:Epoch[5] Validation-accuracy=0.974459\n"
     ]
    },
    {
     "name": "stdout",
     "output_type": "stream",
     "text": [
      "2016-10-26 19:38:00,132 Node[0] Epoch[5] Validation-accuracy=0.974459\n"
     ]
    },
    {
     "name": "stderr",
     "output_type": "stream",
     "text": [
      "INFO:root:Epoch[5] Validation-top_k_accuracy_5=0.999199\n"
     ]
    },
    {
     "name": "stdout",
     "output_type": "stream",
     "text": [
      "2016-10-26 19:38:00,134 Node[0] Epoch[5] Validation-top_k_accuracy_5=0.999199\n"
     ]
    },
    {
     "name": "stderr",
     "output_type": "stream",
     "text": [
      "INFO:root:Epoch[5] Validation-top_k_accuracy_10=1.000000\n"
     ]
    },
    {
     "name": "stdout",
     "output_type": "stream",
     "text": [
      "2016-10-26 19:38:00,135 Node[0] Epoch[5] Validation-top_k_accuracy_10=1.000000\n"
     ]
    },
    {
     "name": "stderr",
     "output_type": "stream",
     "text": [
      "INFO:root:Epoch[5] Validation-top_k_accuracy_20=1.000000\n"
     ]
    },
    {
     "name": "stdout",
     "output_type": "stream",
     "text": [
      "2016-10-26 19:38:00,138 Node[0] Epoch[5] Validation-top_k_accuracy_20=1.000000\n"
     ]
    },
    {
     "name": "stderr",
     "output_type": "stream",
     "text": [
      "INFO:root:Epoch[6] Batch [50]\tSpeed: 29357.81 samples/sec\tTrain-accuracy=0.990156\n"
     ]
    },
    {
     "name": "stdout",
     "output_type": "stream",
     "text": [
      "2016-10-26 19:38:00,361 Node[0] Epoch[6] Batch [50]\tSpeed: 29357.81 samples/sec\tTrain-accuracy=0.990156\n"
     ]
    },
    {
     "name": "stderr",
     "output_type": "stream",
     "text": [
      "INFO:root:Epoch[6] Batch [50]\tSpeed: 29357.81 samples/sec\tTrain-top_k_accuracy_5=1.000000\n"
     ]
    },
    {
     "name": "stdout",
     "output_type": "stream",
     "text": [
      "2016-10-26 19:38:00,364 Node[0] Epoch[6] Batch [50]\tSpeed: 29357.81 samples/sec\tTrain-top_k_accuracy_5=1.000000\n"
     ]
    },
    {
     "name": "stderr",
     "output_type": "stream",
     "text": [
      "INFO:root:Epoch[6] Batch [50]\tSpeed: 29357.81 samples/sec\tTrain-top_k_accuracy_10=1.000000\n"
     ]
    },
    {
     "name": "stdout",
     "output_type": "stream",
     "text": [
      "2016-10-26 19:38:00,365 Node[0] Epoch[6] Batch [50]\tSpeed: 29357.81 samples/sec\tTrain-top_k_accuracy_10=1.000000\n"
     ]
    },
    {
     "name": "stderr",
     "output_type": "stream",
     "text": [
      "INFO:root:Epoch[6] Batch [50]\tSpeed: 29357.81 samples/sec\tTrain-top_k_accuracy_20=1.000000\n"
     ]
    },
    {
     "name": "stdout",
     "output_type": "stream",
     "text": [
      "2016-10-26 19:38:00,367 Node[0] Epoch[6] Batch [50]\tSpeed: 29357.81 samples/sec\tTrain-top_k_accuracy_20=1.000000\n"
     ]
    },
    {
     "name": "stderr",
     "output_type": "stream",
     "text": [
      "INFO:root:Epoch[6] Batch [100]\tSpeed: 26890.77 samples/sec\tTrain-accuracy=0.989219\n"
     ]
    },
    {
     "name": "stdout",
     "output_type": "stream",
     "text": [
      "2016-10-26 19:38:00,605 Node[0] Epoch[6] Batch [100]\tSpeed: 26890.77 samples/sec\tTrain-accuracy=0.989219\n"
     ]
    },
    {
     "name": "stderr",
     "output_type": "stream",
     "text": [
      "INFO:root:Epoch[6] Batch [100]\tSpeed: 26890.77 samples/sec\tTrain-top_k_accuracy_5=1.000000\n"
     ]
    },
    {
     "name": "stdout",
     "output_type": "stream",
     "text": [
      "2016-10-26 19:38:00,607 Node[0] Epoch[6] Batch [100]\tSpeed: 26890.77 samples/sec\tTrain-top_k_accuracy_5=1.000000\n"
     ]
    },
    {
     "name": "stderr",
     "output_type": "stream",
     "text": [
      "INFO:root:Epoch[6] Batch [100]\tSpeed: 26890.77 samples/sec\tTrain-top_k_accuracy_10=1.000000\n"
     ]
    },
    {
     "name": "stdout",
     "output_type": "stream",
     "text": [
      "2016-10-26 19:38:00,608 Node[0] Epoch[6] Batch [100]\tSpeed: 26890.77 samples/sec\tTrain-top_k_accuracy_10=1.000000\n"
     ]
    },
    {
     "name": "stderr",
     "output_type": "stream",
     "text": [
      "INFO:root:Epoch[6] Batch [100]\tSpeed: 26890.77 samples/sec\tTrain-top_k_accuracy_20=1.000000\n"
     ]
    },
    {
     "name": "stdout",
     "output_type": "stream",
     "text": [
      "2016-10-26 19:38:00,609 Node[0] Epoch[6] Batch [100]\tSpeed: 26890.77 samples/sec\tTrain-top_k_accuracy_20=1.000000\n"
     ]
    },
    {
     "name": "stderr",
     "output_type": "stream",
     "text": [
      "INFO:root:Epoch[6] Batch [150]\tSpeed: 27947.62 samples/sec\tTrain-accuracy=0.989219\n"
     ]
    },
    {
     "name": "stdout",
     "output_type": "stream",
     "text": [
      "2016-10-26 19:38:00,839 Node[0] Epoch[6] Batch [150]\tSpeed: 27947.62 samples/sec\tTrain-accuracy=0.989219\n"
     ]
    },
    {
     "name": "stderr",
     "output_type": "stream",
     "text": [
      "INFO:root:Epoch[6] Batch [150]\tSpeed: 27947.62 samples/sec\tTrain-top_k_accuracy_5=1.000000\n"
     ]
    },
    {
     "name": "stdout",
     "output_type": "stream",
     "text": [
      "2016-10-26 19:38:00,842 Node[0] Epoch[6] Batch [150]\tSpeed: 27947.62 samples/sec\tTrain-top_k_accuracy_5=1.000000\n"
     ]
    },
    {
     "name": "stderr",
     "output_type": "stream",
     "text": [
      "INFO:root:Epoch[6] Batch [150]\tSpeed: 27947.62 samples/sec\tTrain-top_k_accuracy_10=1.000000\n"
     ]
    },
    {
     "name": "stdout",
     "output_type": "stream",
     "text": [
      "2016-10-26 19:38:00,842 Node[0] Epoch[6] Batch [150]\tSpeed: 27947.62 samples/sec\tTrain-top_k_accuracy_10=1.000000\n"
     ]
    },
    {
     "name": "stderr",
     "output_type": "stream",
     "text": [
      "INFO:root:Epoch[6] Batch [150]\tSpeed: 27947.62 samples/sec\tTrain-top_k_accuracy_20=1.000000\n"
     ]
    },
    {
     "name": "stdout",
     "output_type": "stream",
     "text": [
      "2016-10-26 19:38:00,845 Node[0] Epoch[6] Batch [150]\tSpeed: 27947.62 samples/sec\tTrain-top_k_accuracy_20=1.000000\n"
     ]
    },
    {
     "name": "stderr",
     "output_type": "stream",
     "text": [
      "INFO:root:Epoch[6] Batch [200]\tSpeed: 26890.74 samples/sec\tTrain-accuracy=0.988281\n"
     ]
    },
    {
     "name": "stdout",
     "output_type": "stream",
     "text": [
      "2016-10-26 19:38:01,084 Node[0] Epoch[6] Batch [200]\tSpeed: 26890.74 samples/sec\tTrain-accuracy=0.988281\n"
     ]
    },
    {
     "name": "stderr",
     "output_type": "stream",
     "text": [
      "INFO:root:Epoch[6] Batch [200]\tSpeed: 26890.74 samples/sec\tTrain-top_k_accuracy_5=0.999844\n"
     ]
    },
    {
     "name": "stdout",
     "output_type": "stream",
     "text": [
      "2016-10-26 19:38:01,088 Node[0] Epoch[6] Batch [200]\tSpeed: 26890.74 samples/sec\tTrain-top_k_accuracy_5=0.999844\n"
     ]
    },
    {
     "name": "stderr",
     "output_type": "stream",
     "text": [
      "INFO:root:Epoch[6] Batch [200]\tSpeed: 26890.74 samples/sec\tTrain-top_k_accuracy_10=1.000000\n"
     ]
    },
    {
     "name": "stdout",
     "output_type": "stream",
     "text": [
      "2016-10-26 19:38:01,088 Node[0] Epoch[6] Batch [200]\tSpeed: 26890.74 samples/sec\tTrain-top_k_accuracy_10=1.000000\n"
     ]
    },
    {
     "name": "stderr",
     "output_type": "stream",
     "text": [
      "INFO:root:Epoch[6] Batch [200]\tSpeed: 26890.74 samples/sec\tTrain-top_k_accuracy_20=1.000000\n"
     ]
    },
    {
     "name": "stdout",
     "output_type": "stream",
     "text": [
      "2016-10-26 19:38:01,089 Node[0] Epoch[6] Batch [200]\tSpeed: 26890.74 samples/sec\tTrain-top_k_accuracy_20=1.000000\n"
     ]
    },
    {
     "name": "stderr",
     "output_type": "stream",
     "text": [
      "INFO:root:Epoch[6] Batch [250]\tSpeed: 27947.59 samples/sec\tTrain-accuracy=0.987969\n"
     ]
    },
    {
     "name": "stdout",
     "output_type": "stream",
     "text": [
      "2016-10-26 19:38:01,322 Node[0] Epoch[6] Batch [250]\tSpeed: 27947.59 samples/sec\tTrain-accuracy=0.987969\n"
     ]
    },
    {
     "name": "stderr",
     "output_type": "stream",
     "text": [
      "INFO:root:Epoch[6] Batch [250]\tSpeed: 27947.59 samples/sec\tTrain-top_k_accuracy_5=1.000000\n"
     ]
    },
    {
     "name": "stdout",
     "output_type": "stream",
     "text": [
      "2016-10-26 19:38:01,323 Node[0] Epoch[6] Batch [250]\tSpeed: 27947.59 samples/sec\tTrain-top_k_accuracy_5=1.000000\n"
     ]
    },
    {
     "name": "stderr",
     "output_type": "stream",
     "text": [
      "INFO:root:Epoch[6] Batch [250]\tSpeed: 27947.59 samples/sec\tTrain-top_k_accuracy_10=1.000000\n"
     ]
    },
    {
     "name": "stdout",
     "output_type": "stream",
     "text": [
      "2016-10-26 19:38:01,325 Node[0] Epoch[6] Batch [250]\tSpeed: 27947.59 samples/sec\tTrain-top_k_accuracy_10=1.000000\n"
     ]
    },
    {
     "name": "stderr",
     "output_type": "stream",
     "text": [
      "INFO:root:Epoch[6] Batch [250]\tSpeed: 27947.59 samples/sec\tTrain-top_k_accuracy_20=1.000000\n"
     ]
    },
    {
     "name": "stdout",
     "output_type": "stream",
     "text": [
      "2016-10-26 19:38:01,326 Node[0] Epoch[6] Batch [250]\tSpeed: 27947.59 samples/sec\tTrain-top_k_accuracy_20=1.000000\n"
     ]
    },
    {
     "name": "stderr",
     "output_type": "stream",
     "text": [
      "INFO:root:Epoch[6] Batch [300]\tSpeed: 28070.18 samples/sec\tTrain-accuracy=0.987187\n"
     ]
    },
    {
     "name": "stdout",
     "output_type": "stream",
     "text": [
      "2016-10-26 19:38:01,555 Node[0] Epoch[6] Batch [300]\tSpeed: 28070.18 samples/sec\tTrain-accuracy=0.987187\n"
     ]
    },
    {
     "name": "stderr",
     "output_type": "stream",
     "text": [
      "INFO:root:Epoch[6] Batch [300]\tSpeed: 28070.18 samples/sec\tTrain-top_k_accuracy_5=1.000000\n"
     ]
    },
    {
     "name": "stdout",
     "output_type": "stream",
     "text": [
      "2016-10-26 19:38:01,558 Node[0] Epoch[6] Batch [300]\tSpeed: 28070.18 samples/sec\tTrain-top_k_accuracy_5=1.000000\n"
     ]
    },
    {
     "name": "stderr",
     "output_type": "stream",
     "text": [
      "INFO:root:Epoch[6] Batch [300]\tSpeed: 28070.18 samples/sec\tTrain-top_k_accuracy_10=1.000000\n"
     ]
    },
    {
     "name": "stdout",
     "output_type": "stream",
     "text": [
      "2016-10-26 19:38:01,559 Node[0] Epoch[6] Batch [300]\tSpeed: 28070.18 samples/sec\tTrain-top_k_accuracy_10=1.000000\n"
     ]
    },
    {
     "name": "stderr",
     "output_type": "stream",
     "text": [
      "INFO:root:Epoch[6] Batch [300]\tSpeed: 28070.18 samples/sec\tTrain-top_k_accuracy_20=1.000000\n"
     ]
    },
    {
     "name": "stdout",
     "output_type": "stream",
     "text": [
      "2016-10-26 19:38:01,561 Node[0] Epoch[6] Batch [300]\tSpeed: 28070.18 samples/sec\tTrain-top_k_accuracy_20=1.000000\n"
     ]
    },
    {
     "name": "stderr",
     "output_type": "stream",
     "text": [
      "INFO:root:Epoch[6] Batch [350]\tSpeed: 27234.03 samples/sec\tTrain-accuracy=0.981719\n"
     ]
    },
    {
     "name": "stdout",
     "output_type": "stream",
     "text": [
      "2016-10-26 19:38:01,798 Node[0] Epoch[6] Batch [350]\tSpeed: 27234.03 samples/sec\tTrain-accuracy=0.981719\n"
     ]
    },
    {
     "name": "stderr",
     "output_type": "stream",
     "text": [
      "INFO:root:Epoch[6] Batch [350]\tSpeed: 27234.03 samples/sec\tTrain-top_k_accuracy_5=0.999687\n"
     ]
    },
    {
     "name": "stdout",
     "output_type": "stream",
     "text": [
      "2016-10-26 19:38:01,799 Node[0] Epoch[6] Batch [350]\tSpeed: 27234.03 samples/sec\tTrain-top_k_accuracy_5=0.999687\n"
     ]
    },
    {
     "name": "stderr",
     "output_type": "stream",
     "text": [
      "INFO:root:Epoch[6] Batch [350]\tSpeed: 27234.03 samples/sec\tTrain-top_k_accuracy_10=1.000000\n"
     ]
    },
    {
     "name": "stdout",
     "output_type": "stream",
     "text": [
      "2016-10-26 19:38:01,802 Node[0] Epoch[6] Batch [350]\tSpeed: 27234.03 samples/sec\tTrain-top_k_accuracy_10=1.000000\n"
     ]
    },
    {
     "name": "stderr",
     "output_type": "stream",
     "text": [
      "INFO:root:Epoch[6] Batch [350]\tSpeed: 27234.03 samples/sec\tTrain-top_k_accuracy_20=1.000000\n"
     ]
    },
    {
     "name": "stdout",
     "output_type": "stream",
     "text": [
      "2016-10-26 19:38:01,803 Node[0] Epoch[6] Batch [350]\tSpeed: 27234.03 samples/sec\tTrain-top_k_accuracy_20=1.000000\n"
     ]
    },
    {
     "name": "stderr",
     "output_type": "stream",
     "text": [
      "INFO:root:Epoch[6] Batch [400]\tSpeed: 28193.83 samples/sec\tTrain-accuracy=0.987187\n"
     ]
    },
    {
     "name": "stdout",
     "output_type": "stream",
     "text": [
      "2016-10-26 19:38:02,032 Node[0] Epoch[6] Batch [400]\tSpeed: 28193.83 samples/sec\tTrain-accuracy=0.987187\n"
     ]
    },
    {
     "name": "stderr",
     "output_type": "stream",
     "text": [
      "INFO:root:Epoch[6] Batch [400]\tSpeed: 28193.83 samples/sec\tTrain-top_k_accuracy_5=0.999687\n"
     ]
    },
    {
     "name": "stdout",
     "output_type": "stream",
     "text": [
      "2016-10-26 19:38:02,035 Node[0] Epoch[6] Batch [400]\tSpeed: 28193.83 samples/sec\tTrain-top_k_accuracy_5=0.999687\n"
     ]
    },
    {
     "name": "stderr",
     "output_type": "stream",
     "text": [
      "INFO:root:Epoch[6] Batch [400]\tSpeed: 28193.83 samples/sec\tTrain-top_k_accuracy_10=1.000000\n"
     ]
    },
    {
     "name": "stdout",
     "output_type": "stream",
     "text": [
      "2016-10-26 19:38:02,036 Node[0] Epoch[6] Batch [400]\tSpeed: 28193.83 samples/sec\tTrain-top_k_accuracy_10=1.000000\n"
     ]
    },
    {
     "name": "stderr",
     "output_type": "stream",
     "text": [
      "INFO:root:Epoch[6] Batch [400]\tSpeed: 28193.83 samples/sec\tTrain-top_k_accuracy_20=1.000000\n"
     ]
    },
    {
     "name": "stdout",
     "output_type": "stream",
     "text": [
      "2016-10-26 19:38:02,038 Node[0] Epoch[6] Batch [400]\tSpeed: 28193.83 samples/sec\tTrain-top_k_accuracy_20=1.000000\n"
     ]
    },
    {
     "name": "stderr",
     "output_type": "stream",
     "text": [
      "INFO:root:Epoch[6] Batch [450]\tSpeed: 28318.58 samples/sec\tTrain-accuracy=0.988750\n"
     ]
    },
    {
     "name": "stdout",
     "output_type": "stream",
     "text": [
      "2016-10-26 19:38:02,265 Node[0] Epoch[6] Batch [450]\tSpeed: 28318.58 samples/sec\tTrain-accuracy=0.988750\n"
     ]
    },
    {
     "name": "stderr",
     "output_type": "stream",
     "text": [
      "INFO:root:Epoch[6] Batch [450]\tSpeed: 28318.58 samples/sec\tTrain-top_k_accuracy_5=1.000000\n"
     ]
    },
    {
     "name": "stdout",
     "output_type": "stream",
     "text": [
      "2016-10-26 19:38:02,266 Node[0] Epoch[6] Batch [450]\tSpeed: 28318.58 samples/sec\tTrain-top_k_accuracy_5=1.000000\n"
     ]
    },
    {
     "name": "stderr",
     "output_type": "stream",
     "text": [
      "INFO:root:Epoch[6] Batch [450]\tSpeed: 28318.58 samples/sec\tTrain-top_k_accuracy_10=1.000000\n"
     ]
    },
    {
     "name": "stdout",
     "output_type": "stream",
     "text": [
      "2016-10-26 19:38:02,269 Node[0] Epoch[6] Batch [450]\tSpeed: 28318.58 samples/sec\tTrain-top_k_accuracy_10=1.000000\n"
     ]
    },
    {
     "name": "stderr",
     "output_type": "stream",
     "text": [
      "INFO:root:Epoch[6] Batch [450]\tSpeed: 28318.58 samples/sec\tTrain-top_k_accuracy_20=1.000000\n"
     ]
    },
    {
     "name": "stdout",
     "output_type": "stream",
     "text": [
      "2016-10-26 19:38:02,270 Node[0] Epoch[6] Batch [450]\tSpeed: 28318.58 samples/sec\tTrain-top_k_accuracy_20=1.000000\n"
     ]
    },
    {
     "name": "stderr",
     "output_type": "stream",
     "text": [
      "INFO:root:Epoch[6] Resetting Data Iterator\n"
     ]
    },
    {
     "name": "stdout",
     "output_type": "stream",
     "text": [
      "2016-10-26 19:38:02,349 Node[0] Epoch[6] Resetting Data Iterator\n"
     ]
    },
    {
     "name": "stderr",
     "output_type": "stream",
     "text": [
      "INFO:root:Epoch[6] Time cost=2.214\n"
     ]
    },
    {
     "name": "stdout",
     "output_type": "stream",
     "text": [
      "2016-10-26 19:38:02,354 Node[0] Epoch[6] Time cost=2.214\n"
     ]
    },
    {
     "name": "stderr",
     "output_type": "stream",
     "text": [
      "INFO:root:Epoch[6] Validation-accuracy=0.975160\n"
     ]
    },
    {
     "name": "stdout",
     "output_type": "stream",
     "text": [
      "2016-10-26 19:38:02,510 Node[0] Epoch[6] Validation-accuracy=0.975160\n"
     ]
    },
    {
     "name": "stderr",
     "output_type": "stream",
     "text": [
      "INFO:root:Epoch[6] Validation-top_k_accuracy_5=0.999499\n"
     ]
    },
    {
     "name": "stdout",
     "output_type": "stream",
     "text": [
      "2016-10-26 19:38:02,512 Node[0] Epoch[6] Validation-top_k_accuracy_5=0.999499\n"
     ]
    },
    {
     "name": "stderr",
     "output_type": "stream",
     "text": [
      "INFO:root:Epoch[6] Validation-top_k_accuracy_10=1.000000\n"
     ]
    },
    {
     "name": "stdout",
     "output_type": "stream",
     "text": [
      "2016-10-26 19:38:02,513 Node[0] Epoch[6] Validation-top_k_accuracy_10=1.000000\n"
     ]
    },
    {
     "name": "stderr",
     "output_type": "stream",
     "text": [
      "INFO:root:Epoch[6] Validation-top_k_accuracy_20=1.000000\n"
     ]
    },
    {
     "name": "stdout",
     "output_type": "stream",
     "text": [
      "2016-10-26 19:38:02,515 Node[0] Epoch[6] Validation-top_k_accuracy_20=1.000000\n"
     ]
    },
    {
     "name": "stderr",
     "output_type": "stream",
     "text": [
      "INFO:root:Epoch[7] Batch [50]\tSpeed: 30188.69 samples/sec\tTrain-accuracy=0.989844\n"
     ]
    },
    {
     "name": "stdout",
     "output_type": "stream",
     "text": [
      "2016-10-26 19:38:02,733 Node[0] Epoch[7] Batch [50]\tSpeed: 30188.69 samples/sec\tTrain-accuracy=0.989844\n"
     ]
    },
    {
     "name": "stderr",
     "output_type": "stream",
     "text": [
      "INFO:root:Epoch[7] Batch [50]\tSpeed: 30188.69 samples/sec\tTrain-top_k_accuracy_5=0.999844\n"
     ]
    },
    {
     "name": "stdout",
     "output_type": "stream",
     "text": [
      "2016-10-26 19:38:02,736 Node[0] Epoch[7] Batch [50]\tSpeed: 30188.69 samples/sec\tTrain-top_k_accuracy_5=0.999844\n"
     ]
    },
    {
     "name": "stderr",
     "output_type": "stream",
     "text": [
      "INFO:root:Epoch[7] Batch [50]\tSpeed: 30188.69 samples/sec\tTrain-top_k_accuracy_10=1.000000\n"
     ]
    },
    {
     "name": "stdout",
     "output_type": "stream",
     "text": [
      "2016-10-26 19:38:02,736 Node[0] Epoch[7] Batch [50]\tSpeed: 30188.69 samples/sec\tTrain-top_k_accuracy_10=1.000000\n"
     ]
    },
    {
     "name": "stderr",
     "output_type": "stream",
     "text": [
      "INFO:root:Epoch[7] Batch [50]\tSpeed: 30188.69 samples/sec\tTrain-top_k_accuracy_20=1.000000\n"
     ]
    },
    {
     "name": "stdout",
     "output_type": "stream",
     "text": [
      "2016-10-26 19:38:02,739 Node[0] Epoch[7] Batch [50]\tSpeed: 30188.69 samples/sec\tTrain-top_k_accuracy_20=1.000000\n"
     ]
    },
    {
     "name": "stderr",
     "output_type": "stream",
     "text": [
      "INFO:root:Epoch[7] Batch [100]\tSpeed: 27350.43 samples/sec\tTrain-accuracy=0.990781\n"
     ]
    },
    {
     "name": "stdout",
     "output_type": "stream",
     "text": [
      "2016-10-26 19:38:02,973 Node[0] Epoch[7] Batch [100]\tSpeed: 27350.43 samples/sec\tTrain-accuracy=0.990781\n"
     ]
    },
    {
     "name": "stderr",
     "output_type": "stream",
     "text": [
      "INFO:root:Epoch[7] Batch [100]\tSpeed: 27350.43 samples/sec\tTrain-top_k_accuracy_5=1.000000\n"
     ]
    },
    {
     "name": "stdout",
     "output_type": "stream",
     "text": [
      "2016-10-26 19:38:02,974 Node[0] Epoch[7] Batch [100]\tSpeed: 27350.43 samples/sec\tTrain-top_k_accuracy_5=1.000000\n"
     ]
    },
    {
     "name": "stderr",
     "output_type": "stream",
     "text": [
      "INFO:root:Epoch[7] Batch [100]\tSpeed: 27350.43 samples/sec\tTrain-top_k_accuracy_10=1.000000\n"
     ]
    },
    {
     "name": "stdout",
     "output_type": "stream",
     "text": [
      "2016-10-26 19:38:02,976 Node[0] Epoch[7] Batch [100]\tSpeed: 27350.43 samples/sec\tTrain-top_k_accuracy_10=1.000000\n"
     ]
    },
    {
     "name": "stderr",
     "output_type": "stream",
     "text": [
      "INFO:root:Epoch[7] Batch [100]\tSpeed: 27350.43 samples/sec\tTrain-top_k_accuracy_20=1.000000\n"
     ]
    },
    {
     "name": "stdout",
     "output_type": "stream",
     "text": [
      "2016-10-26 19:38:02,977 Node[0] Epoch[7] Batch [100]\tSpeed: 27350.43 samples/sec\tTrain-top_k_accuracy_20=1.000000\n"
     ]
    },
    {
     "name": "stderr",
     "output_type": "stream",
     "text": [
      "INFO:root:Epoch[7] Batch [150]\tSpeed: 27947.62 samples/sec\tTrain-accuracy=0.988125\n"
     ]
    },
    {
     "name": "stdout",
     "output_type": "stream",
     "text": [
      "2016-10-26 19:38:03,207 Node[0] Epoch[7] Batch [150]\tSpeed: 27947.62 samples/sec\tTrain-accuracy=0.988125\n"
     ]
    },
    {
     "name": "stderr",
     "output_type": "stream",
     "text": [
      "INFO:root:Epoch[7] Batch [150]\tSpeed: 27947.62 samples/sec\tTrain-top_k_accuracy_5=0.999687\n"
     ]
    },
    {
     "name": "stdout",
     "output_type": "stream",
     "text": [
      "2016-10-26 19:38:03,210 Node[0] Epoch[7] Batch [150]\tSpeed: 27947.62 samples/sec\tTrain-top_k_accuracy_5=0.999687\n"
     ]
    },
    {
     "name": "stderr",
     "output_type": "stream",
     "text": [
      "INFO:root:Epoch[7] Batch [150]\tSpeed: 27947.62 samples/sec\tTrain-top_k_accuracy_10=1.000000\n"
     ]
    },
    {
     "name": "stdout",
     "output_type": "stream",
     "text": [
      "2016-10-26 19:38:03,210 Node[0] Epoch[7] Batch [150]\tSpeed: 27947.62 samples/sec\tTrain-top_k_accuracy_10=1.000000\n"
     ]
    },
    {
     "name": "stderr",
     "output_type": "stream",
     "text": [
      "INFO:root:Epoch[7] Batch [150]\tSpeed: 27947.62 samples/sec\tTrain-top_k_accuracy_20=1.000000\n"
     ]
    },
    {
     "name": "stdout",
     "output_type": "stream",
     "text": [
      "2016-10-26 19:38:03,211 Node[0] Epoch[7] Batch [150]\tSpeed: 27947.62 samples/sec\tTrain-top_k_accuracy_20=1.000000\n"
     ]
    },
    {
     "name": "stderr",
     "output_type": "stream",
     "text": [
      "INFO:root:Epoch[7] Batch [200]\tSpeed: 28070.18 samples/sec\tTrain-accuracy=0.985625\n"
     ]
    },
    {
     "name": "stdout",
     "output_type": "stream",
     "text": [
      "2016-10-26 19:38:03,441 Node[0] Epoch[7] Batch [200]\tSpeed: 28070.18 samples/sec\tTrain-accuracy=0.985625\n"
     ]
    },
    {
     "name": "stderr",
     "output_type": "stream",
     "text": [
      "INFO:root:Epoch[7] Batch [200]\tSpeed: 28070.18 samples/sec\tTrain-top_k_accuracy_5=1.000000\n"
     ]
    },
    {
     "name": "stdout",
     "output_type": "stream",
     "text": [
      "2016-10-26 19:38:03,444 Node[0] Epoch[7] Batch [200]\tSpeed: 28070.18 samples/sec\tTrain-top_k_accuracy_5=1.000000\n"
     ]
    },
    {
     "name": "stderr",
     "output_type": "stream",
     "text": [
      "INFO:root:Epoch[7] Batch [200]\tSpeed: 28070.18 samples/sec\tTrain-top_k_accuracy_10=1.000000\n"
     ]
    },
    {
     "name": "stdout",
     "output_type": "stream",
     "text": [
      "2016-10-26 19:38:03,444 Node[0] Epoch[7] Batch [200]\tSpeed: 28070.18 samples/sec\tTrain-top_k_accuracy_10=1.000000\n"
     ]
    },
    {
     "name": "stderr",
     "output_type": "stream",
     "text": [
      "INFO:root:Epoch[7] Batch [200]\tSpeed: 28070.18 samples/sec\tTrain-top_k_accuracy_20=1.000000\n"
     ]
    },
    {
     "name": "stdout",
     "output_type": "stream",
     "text": [
      "2016-10-26 19:38:03,446 Node[0] Epoch[7] Batch [200]\tSpeed: 28070.18 samples/sec\tTrain-top_k_accuracy_20=1.000000\n"
     ]
    },
    {
     "name": "stderr",
     "output_type": "stream",
     "text": [
      "INFO:root:Epoch[7] Batch [250]\tSpeed: 27705.63 samples/sec\tTrain-accuracy=0.989219\n"
     ]
    },
    {
     "name": "stdout",
     "output_type": "stream",
     "text": [
      "2016-10-26 19:38:03,677 Node[0] Epoch[7] Batch [250]\tSpeed: 27705.63 samples/sec\tTrain-accuracy=0.989219\n"
     ]
    },
    {
     "name": "stderr",
     "output_type": "stream",
     "text": [
      "INFO:root:Epoch[7] Batch [250]\tSpeed: 27705.63 samples/sec\tTrain-top_k_accuracy_5=1.000000\n"
     ]
    },
    {
     "name": "stdout",
     "output_type": "stream",
     "text": [
      "2016-10-26 19:38:03,680 Node[0] Epoch[7] Batch [250]\tSpeed: 27705.63 samples/sec\tTrain-top_k_accuracy_5=1.000000\n"
     ]
    },
    {
     "name": "stderr",
     "output_type": "stream",
     "text": [
      "INFO:root:Epoch[7] Batch [250]\tSpeed: 27705.63 samples/sec\tTrain-top_k_accuracy_10=1.000000\n"
     ]
    },
    {
     "name": "stdout",
     "output_type": "stream",
     "text": [
      "2016-10-26 19:38:03,680 Node[0] Epoch[7] Batch [250]\tSpeed: 27705.63 samples/sec\tTrain-top_k_accuracy_10=1.000000\n"
     ]
    },
    {
     "name": "stderr",
     "output_type": "stream",
     "text": [
      "INFO:root:Epoch[7] Batch [250]\tSpeed: 27705.63 samples/sec\tTrain-top_k_accuracy_20=1.000000\n"
     ]
    },
    {
     "name": "stdout",
     "output_type": "stream",
     "text": [
      "2016-10-26 19:38:03,683 Node[0] Epoch[7] Batch [250]\tSpeed: 27705.63 samples/sec\tTrain-top_k_accuracy_20=1.000000\n"
     ]
    },
    {
     "name": "stderr",
     "output_type": "stream",
     "text": [
      "INFO:root:Epoch[7] Batch [300]\tSpeed: 28070.18 samples/sec\tTrain-accuracy=0.988125\n"
     ]
    },
    {
     "name": "stdout",
     "output_type": "stream",
     "text": [
      "2016-10-26 19:38:03,911 Node[0] Epoch[7] Batch [300]\tSpeed: 28070.18 samples/sec\tTrain-accuracy=0.988125\n"
     ]
    },
    {
     "name": "stderr",
     "output_type": "stream",
     "text": [
      "INFO:root:Epoch[7] Batch [300]\tSpeed: 28070.18 samples/sec\tTrain-top_k_accuracy_5=1.000000\n"
     ]
    },
    {
     "name": "stdout",
     "output_type": "stream",
     "text": [
      "2016-10-26 19:38:03,914 Node[0] Epoch[7] Batch [300]\tSpeed: 28070.18 samples/sec\tTrain-top_k_accuracy_5=1.000000\n"
     ]
    },
    {
     "name": "stderr",
     "output_type": "stream",
     "text": [
      "INFO:root:Epoch[7] Batch [300]\tSpeed: 28070.18 samples/sec\tTrain-top_k_accuracy_10=1.000000\n"
     ]
    },
    {
     "name": "stdout",
     "output_type": "stream",
     "text": [
      "2016-10-26 19:38:03,915 Node[0] Epoch[7] Batch [300]\tSpeed: 28070.18 samples/sec\tTrain-top_k_accuracy_10=1.000000\n"
     ]
    },
    {
     "name": "stderr",
     "output_type": "stream",
     "text": [
      "INFO:root:Epoch[7] Batch [300]\tSpeed: 28070.18 samples/sec\tTrain-top_k_accuracy_20=1.000000\n"
     ]
    },
    {
     "name": "stdout",
     "output_type": "stream",
     "text": [
      "2016-10-26 19:38:03,917 Node[0] Epoch[7] Batch [300]\tSpeed: 28070.18 samples/sec\tTrain-top_k_accuracy_20=1.000000\n"
     ]
    },
    {
     "name": "stderr",
     "output_type": "stream",
     "text": [
      "INFO:root:Epoch[7] Batch [350]\tSpeed: 28318.58 samples/sec\tTrain-accuracy=0.989531\n"
     ]
    },
    {
     "name": "stdout",
     "output_type": "stream",
     "text": [
      "2016-10-26 19:38:04,144 Node[0] Epoch[7] Batch [350]\tSpeed: 28318.58 samples/sec\tTrain-accuracy=0.989531\n"
     ]
    },
    {
     "name": "stderr",
     "output_type": "stream",
     "text": [
      "INFO:root:Epoch[7] Batch [350]\tSpeed: 28318.58 samples/sec\tTrain-top_k_accuracy_5=1.000000\n"
     ]
    },
    {
     "name": "stdout",
     "output_type": "stream",
     "text": [
      "2016-10-26 19:38:04,144 Node[0] Epoch[7] Batch [350]\tSpeed: 28318.58 samples/sec\tTrain-top_k_accuracy_5=1.000000\n"
     ]
    },
    {
     "name": "stderr",
     "output_type": "stream",
     "text": [
      "INFO:root:Epoch[7] Batch [350]\tSpeed: 28318.58 samples/sec\tTrain-top_k_accuracy_10=1.000000\n"
     ]
    },
    {
     "name": "stdout",
     "output_type": "stream",
     "text": [
      "2016-10-26 19:38:04,147 Node[0] Epoch[7] Batch [350]\tSpeed: 28318.58 samples/sec\tTrain-top_k_accuracy_10=1.000000\n"
     ]
    },
    {
     "name": "stderr",
     "output_type": "stream",
     "text": [
      "INFO:root:Epoch[7] Batch [350]\tSpeed: 28318.58 samples/sec\tTrain-top_k_accuracy_20=1.000000\n"
     ]
    },
    {
     "name": "stdout",
     "output_type": "stream",
     "text": [
      "2016-10-26 19:38:04,148 Node[0] Epoch[7] Batch [350]\tSpeed: 28318.58 samples/sec\tTrain-top_k_accuracy_20=1.000000\n"
     ]
    },
    {
     "name": "stderr",
     "output_type": "stream",
     "text": [
      "INFO:root:Epoch[7] Batch [400]\tSpeed: 30331.76 samples/sec\tTrain-accuracy=0.987812\n"
     ]
    },
    {
     "name": "stdout",
     "output_type": "stream",
     "text": [
      "2016-10-26 19:38:04,361 Node[0] Epoch[7] Batch [400]\tSpeed: 30331.76 samples/sec\tTrain-accuracy=0.987812\n"
     ]
    },
    {
     "name": "stderr",
     "output_type": "stream",
     "text": [
      "INFO:root:Epoch[7] Batch [400]\tSpeed: 30331.76 samples/sec\tTrain-top_k_accuracy_5=0.999844\n"
     ]
    },
    {
     "name": "stdout",
     "output_type": "stream",
     "text": [
      "2016-10-26 19:38:04,362 Node[0] Epoch[7] Batch [400]\tSpeed: 30331.76 samples/sec\tTrain-top_k_accuracy_5=0.999844\n"
     ]
    },
    {
     "name": "stderr",
     "output_type": "stream",
     "text": [
      "INFO:root:Epoch[7] Batch [400]\tSpeed: 30331.76 samples/sec\tTrain-top_k_accuracy_10=1.000000\n"
     ]
    },
    {
     "name": "stdout",
     "output_type": "stream",
     "text": [
      "2016-10-26 19:38:04,365 Node[0] Epoch[7] Batch [400]\tSpeed: 30331.76 samples/sec\tTrain-top_k_accuracy_10=1.000000\n"
     ]
    },
    {
     "name": "stderr",
     "output_type": "stream",
     "text": [
      "INFO:root:Epoch[7] Batch [400]\tSpeed: 30331.76 samples/sec\tTrain-top_k_accuracy_20=1.000000\n"
     ]
    },
    {
     "name": "stdout",
     "output_type": "stream",
     "text": [
      "2016-10-26 19:38:04,367 Node[0] Epoch[7] Batch [400]\tSpeed: 30331.76 samples/sec\tTrain-top_k_accuracy_20=1.000000\n"
     ]
    },
    {
     "name": "stderr",
     "output_type": "stream",
     "text": [
      "INFO:root:Epoch[7] Batch [450]\tSpeed: 27826.08 samples/sec\tTrain-accuracy=0.990000\n"
     ]
    },
    {
     "name": "stdout",
     "output_type": "stream",
     "text": [
      "2016-10-26 19:38:04,598 Node[0] Epoch[7] Batch [450]\tSpeed: 27826.08 samples/sec\tTrain-accuracy=0.990000\n"
     ]
    },
    {
     "name": "stderr",
     "output_type": "stream",
     "text": [
      "INFO:root:Epoch[7] Batch [450]\tSpeed: 27826.08 samples/sec\tTrain-top_k_accuracy_5=1.000000\n"
     ]
    },
    {
     "name": "stdout",
     "output_type": "stream",
     "text": [
      "2016-10-26 19:38:04,599 Node[0] Epoch[7] Batch [450]\tSpeed: 27826.08 samples/sec\tTrain-top_k_accuracy_5=1.000000\n"
     ]
    },
    {
     "name": "stderr",
     "output_type": "stream",
     "text": [
      "INFO:root:Epoch[7] Batch [450]\tSpeed: 27826.08 samples/sec\tTrain-top_k_accuracy_10=1.000000\n"
     ]
    },
    {
     "name": "stdout",
     "output_type": "stream",
     "text": [
      "2016-10-26 19:38:04,601 Node[0] Epoch[7] Batch [450]\tSpeed: 27826.08 samples/sec\tTrain-top_k_accuracy_10=1.000000\n"
     ]
    },
    {
     "name": "stderr",
     "output_type": "stream",
     "text": [
      "INFO:root:Epoch[7] Batch [450]\tSpeed: 27826.08 samples/sec\tTrain-top_k_accuracy_20=1.000000\n"
     ]
    },
    {
     "name": "stdout",
     "output_type": "stream",
     "text": [
      "2016-10-26 19:38:04,604 Node[0] Epoch[7] Batch [450]\tSpeed: 27826.08 samples/sec\tTrain-top_k_accuracy_20=1.000000\n"
     ]
    },
    {
     "name": "stderr",
     "output_type": "stream",
     "text": [
      "INFO:root:Epoch[7] Resetting Data Iterator\n"
     ]
    },
    {
     "name": "stdout",
     "output_type": "stream",
     "text": [
      "2016-10-26 19:38:04,687 Node[0] Epoch[7] Resetting Data Iterator\n"
     ]
    },
    {
     "name": "stderr",
     "output_type": "stream",
     "text": [
      "INFO:root:Epoch[7] Time cost=2.172\n"
     ]
    },
    {
     "name": "stdout",
     "output_type": "stream",
     "text": [
      "2016-10-26 19:38:04,690 Node[0] Epoch[7] Time cost=2.172\n"
     ]
    },
    {
     "name": "stderr",
     "output_type": "stream",
     "text": [
      "INFO:root:Epoch[7] Validation-accuracy=0.977564\n"
     ]
    },
    {
     "name": "stdout",
     "output_type": "stream",
     "text": [
      "2016-10-26 19:38:04,842 Node[0] Epoch[7] Validation-accuracy=0.977564\n"
     ]
    },
    {
     "name": "stderr",
     "output_type": "stream",
     "text": [
      "INFO:root:Epoch[7] Validation-top_k_accuracy_5=0.999599\n"
     ]
    },
    {
     "name": "stdout",
     "output_type": "stream",
     "text": [
      "2016-10-26 19:38:04,845 Node[0] Epoch[7] Validation-top_k_accuracy_5=0.999599\n"
     ]
    },
    {
     "name": "stderr",
     "output_type": "stream",
     "text": [
      "INFO:root:Epoch[7] Validation-top_k_accuracy_10=1.000000\n"
     ]
    },
    {
     "name": "stdout",
     "output_type": "stream",
     "text": [
      "2016-10-26 19:38:04,845 Node[0] Epoch[7] Validation-top_k_accuracy_10=1.000000\n"
     ]
    },
    {
     "name": "stderr",
     "output_type": "stream",
     "text": [
      "INFO:root:Epoch[7] Validation-top_k_accuracy_20=1.000000\n"
     ]
    },
    {
     "name": "stdout",
     "output_type": "stream",
     "text": [
      "2016-10-26 19:38:04,848 Node[0] Epoch[7] Validation-top_k_accuracy_20=1.000000\n"
     ]
    },
    {
     "name": "stderr",
     "output_type": "stream",
     "text": [
      "INFO:root:Epoch[8] Batch [50]\tSpeed: 29629.65 samples/sec\tTrain-accuracy=0.990469\n"
     ]
    },
    {
     "name": "stdout",
     "output_type": "stream",
     "text": [
      "2016-10-26 19:38:05,069 Node[0] Epoch[8] Batch [50]\tSpeed: 29629.65 samples/sec\tTrain-accuracy=0.990469\n"
     ]
    },
    {
     "name": "stderr",
     "output_type": "stream",
     "text": [
      "INFO:root:Epoch[8] Batch [50]\tSpeed: 29629.65 samples/sec\tTrain-top_k_accuracy_5=1.000000\n"
     ]
    },
    {
     "name": "stdout",
     "output_type": "stream",
     "text": [
      "2016-10-26 19:38:05,072 Node[0] Epoch[8] Batch [50]\tSpeed: 29629.65 samples/sec\tTrain-top_k_accuracy_5=1.000000\n"
     ]
    },
    {
     "name": "stderr",
     "output_type": "stream",
     "text": [
      "INFO:root:Epoch[8] Batch [50]\tSpeed: 29629.65 samples/sec\tTrain-top_k_accuracy_10=1.000000\n"
     ]
    },
    {
     "name": "stdout",
     "output_type": "stream",
     "text": [
      "2016-10-26 19:38:05,072 Node[0] Epoch[8] Batch [50]\tSpeed: 29629.65 samples/sec\tTrain-top_k_accuracy_10=1.000000\n"
     ]
    },
    {
     "name": "stderr",
     "output_type": "stream",
     "text": [
      "INFO:root:Epoch[8] Batch [50]\tSpeed: 29629.65 samples/sec\tTrain-top_k_accuracy_20=1.000000\n"
     ]
    },
    {
     "name": "stdout",
     "output_type": "stream",
     "text": [
      "2016-10-26 19:38:05,075 Node[0] Epoch[8] Batch [50]\tSpeed: 29629.65 samples/sec\tTrain-top_k_accuracy_20=1.000000\n"
     ]
    },
    {
     "name": "stderr",
     "output_type": "stream",
     "text": [
      "INFO:root:Epoch[8] Batch [100]\tSpeed: 28699.55 samples/sec\tTrain-accuracy=0.988594\n"
     ]
    },
    {
     "name": "stdout",
     "output_type": "stream",
     "text": [
      "2016-10-26 19:38:05,299 Node[0] Epoch[8] Batch [100]\tSpeed: 28699.55 samples/sec\tTrain-accuracy=0.988594\n"
     ]
    },
    {
     "name": "stderr",
     "output_type": "stream",
     "text": [
      "INFO:root:Epoch[8] Batch [100]\tSpeed: 28699.55 samples/sec\tTrain-top_k_accuracy_5=1.000000\n"
     ]
    },
    {
     "name": "stdout",
     "output_type": "stream",
     "text": [
      "2016-10-26 19:38:05,299 Node[0] Epoch[8] Batch [100]\tSpeed: 28699.55 samples/sec\tTrain-top_k_accuracy_5=1.000000\n"
     ]
    },
    {
     "name": "stderr",
     "output_type": "stream",
     "text": [
      "INFO:root:Epoch[8] Batch [100]\tSpeed: 28699.55 samples/sec\tTrain-top_k_accuracy_10=1.000000\n"
     ]
    },
    {
     "name": "stdout",
     "output_type": "stream",
     "text": [
      "2016-10-26 19:38:05,302 Node[0] Epoch[8] Batch [100]\tSpeed: 28699.55 samples/sec\tTrain-top_k_accuracy_10=1.000000\n"
     ]
    },
    {
     "name": "stderr",
     "output_type": "stream",
     "text": [
      "INFO:root:Epoch[8] Batch [100]\tSpeed: 28699.55 samples/sec\tTrain-top_k_accuracy_20=1.000000\n"
     ]
    },
    {
     "name": "stdout",
     "output_type": "stream",
     "text": [
      "2016-10-26 19:38:05,303 Node[0] Epoch[8] Batch [100]\tSpeed: 28699.55 samples/sec\tTrain-top_k_accuracy_20=1.000000\n"
     ]
    },
    {
     "name": "stderr",
     "output_type": "stream",
     "text": [
      "INFO:root:Epoch[8] Batch [150]\tSpeed: 28070.18 samples/sec\tTrain-accuracy=0.990313\n"
     ]
    },
    {
     "name": "stdout",
     "output_type": "stream",
     "text": [
      "2016-10-26 19:38:05,533 Node[0] Epoch[8] Batch [150]\tSpeed: 28070.18 samples/sec\tTrain-accuracy=0.990313\n"
     ]
    },
    {
     "name": "stderr",
     "output_type": "stream",
     "text": [
      "INFO:root:Epoch[8] Batch [150]\tSpeed: 28070.18 samples/sec\tTrain-top_k_accuracy_5=1.000000\n"
     ]
    },
    {
     "name": "stdout",
     "output_type": "stream",
     "text": [
      "2016-10-26 19:38:05,536 Node[0] Epoch[8] Batch [150]\tSpeed: 28070.18 samples/sec\tTrain-top_k_accuracy_5=1.000000\n"
     ]
    },
    {
     "name": "stderr",
     "output_type": "stream",
     "text": [
      "INFO:root:Epoch[8] Batch [150]\tSpeed: 28070.18 samples/sec\tTrain-top_k_accuracy_10=1.000000\n"
     ]
    },
    {
     "name": "stdout",
     "output_type": "stream",
     "text": [
      "2016-10-26 19:38:05,538 Node[0] Epoch[8] Batch [150]\tSpeed: 28070.18 samples/sec\tTrain-top_k_accuracy_10=1.000000\n"
     ]
    },
    {
     "name": "stderr",
     "output_type": "stream",
     "text": [
      "INFO:root:Epoch[8] Batch [150]\tSpeed: 28070.18 samples/sec\tTrain-top_k_accuracy_20=1.000000\n"
     ]
    },
    {
     "name": "stdout",
     "output_type": "stream",
     "text": [
      "2016-10-26 19:38:05,539 Node[0] Epoch[8] Batch [150]\tSpeed: 28070.18 samples/sec\tTrain-top_k_accuracy_20=1.000000\n"
     ]
    },
    {
     "name": "stderr",
     "output_type": "stream",
     "text": [
      "INFO:root:Epoch[8] Batch [200]\tSpeed: 29223.73 samples/sec\tTrain-accuracy=0.991250\n"
     ]
    },
    {
     "name": "stdout",
     "output_type": "stream",
     "text": [
      "2016-10-26 19:38:05,759 Node[0] Epoch[8] Batch [200]\tSpeed: 29223.73 samples/sec\tTrain-accuracy=0.991250\n"
     ]
    },
    {
     "name": "stderr",
     "output_type": "stream",
     "text": [
      "INFO:root:Epoch[8] Batch [200]\tSpeed: 29223.73 samples/sec\tTrain-top_k_accuracy_5=1.000000\n"
     ]
    },
    {
     "name": "stdout",
     "output_type": "stream",
     "text": [
      "2016-10-26 19:38:05,762 Node[0] Epoch[8] Batch [200]\tSpeed: 29223.73 samples/sec\tTrain-top_k_accuracy_5=1.000000\n"
     ]
    },
    {
     "name": "stderr",
     "output_type": "stream",
     "text": [
      "INFO:root:Epoch[8] Batch [200]\tSpeed: 29223.73 samples/sec\tTrain-top_k_accuracy_10=1.000000\n"
     ]
    },
    {
     "name": "stdout",
     "output_type": "stream",
     "text": [
      "2016-10-26 19:38:05,763 Node[0] Epoch[8] Batch [200]\tSpeed: 29223.73 samples/sec\tTrain-top_k_accuracy_10=1.000000\n"
     ]
    },
    {
     "name": "stderr",
     "output_type": "stream",
     "text": [
      "INFO:root:Epoch[8] Batch [200]\tSpeed: 29223.73 samples/sec\tTrain-top_k_accuracy_20=1.000000\n"
     ]
    },
    {
     "name": "stdout",
     "output_type": "stream",
     "text": [
      "2016-10-26 19:38:05,766 Node[0] Epoch[8] Batch [200]\tSpeed: 29223.73 samples/sec\tTrain-top_k_accuracy_20=1.000000\n"
     ]
    },
    {
     "name": "stderr",
     "output_type": "stream",
     "text": [
      "INFO:root:Epoch[8] Batch [250]\tSpeed: 26016.25 samples/sec\tTrain-accuracy=0.987969\n"
     ]
    },
    {
     "name": "stdout",
     "output_type": "stream",
     "text": [
      "2016-10-26 19:38:06,016 Node[0] Epoch[8] Batch [250]\tSpeed: 26016.25 samples/sec\tTrain-accuracy=0.987969\n"
     ]
    },
    {
     "name": "stderr",
     "output_type": "stream",
     "text": [
      "INFO:root:Epoch[8] Batch [250]\tSpeed: 26016.25 samples/sec\tTrain-top_k_accuracy_5=0.999844\n"
     ]
    },
    {
     "name": "stdout",
     "output_type": "stream",
     "text": [
      "2016-10-26 19:38:06,017 Node[0] Epoch[8] Batch [250]\tSpeed: 26016.25 samples/sec\tTrain-top_k_accuracy_5=0.999844\n"
     ]
    },
    {
     "name": "stderr",
     "output_type": "stream",
     "text": [
      "INFO:root:Epoch[8] Batch [250]\tSpeed: 26016.25 samples/sec\tTrain-top_k_accuracy_10=1.000000\n"
     ]
    },
    {
     "name": "stdout",
     "output_type": "stream",
     "text": [
      "2016-10-26 19:38:06,019 Node[0] Epoch[8] Batch [250]\tSpeed: 26016.25 samples/sec\tTrain-top_k_accuracy_10=1.000000\n"
     ]
    },
    {
     "name": "stderr",
     "output_type": "stream",
     "text": [
      "INFO:root:Epoch[8] Batch [250]\tSpeed: 26016.25 samples/sec\tTrain-top_k_accuracy_20=1.000000\n"
     ]
    },
    {
     "name": "stdout",
     "output_type": "stream",
     "text": [
      "2016-10-26 19:38:06,022 Node[0] Epoch[8] Batch [250]\tSpeed: 26016.25 samples/sec\tTrain-top_k_accuracy_20=1.000000\n"
     ]
    },
    {
     "name": "stderr",
     "output_type": "stream",
     "text": [
      "INFO:root:Epoch[8] Batch [300]\tSpeed: 29223.73 samples/sec\tTrain-accuracy=0.990313\n"
     ]
    },
    {
     "name": "stdout",
     "output_type": "stream",
     "text": [
      "2016-10-26 19:38:06,242 Node[0] Epoch[8] Batch [300]\tSpeed: 29223.73 samples/sec\tTrain-accuracy=0.990313\n"
     ]
    },
    {
     "name": "stderr",
     "output_type": "stream",
     "text": [
      "INFO:root:Epoch[8] Batch [300]\tSpeed: 29223.73 samples/sec\tTrain-top_k_accuracy_5=1.000000\n"
     ]
    },
    {
     "name": "stdout",
     "output_type": "stream",
     "text": [
      "2016-10-26 19:38:06,243 Node[0] Epoch[8] Batch [300]\tSpeed: 29223.73 samples/sec\tTrain-top_k_accuracy_5=1.000000\n"
     ]
    },
    {
     "name": "stderr",
     "output_type": "stream",
     "text": [
      "INFO:root:Epoch[8] Batch [300]\tSpeed: 29223.73 samples/sec\tTrain-top_k_accuracy_10=1.000000\n"
     ]
    },
    {
     "name": "stdout",
     "output_type": "stream",
     "text": [
      "2016-10-26 19:38:06,244 Node[0] Epoch[8] Batch [300]\tSpeed: 29223.73 samples/sec\tTrain-top_k_accuracy_10=1.000000\n"
     ]
    },
    {
     "name": "stderr",
     "output_type": "stream",
     "text": [
      "INFO:root:Epoch[8] Batch [300]\tSpeed: 29223.73 samples/sec\tTrain-top_k_accuracy_20=1.000000\n"
     ]
    },
    {
     "name": "stdout",
     "output_type": "stream",
     "text": [
      "2016-10-26 19:38:06,246 Node[0] Epoch[8] Batch [300]\tSpeed: 29223.73 samples/sec\tTrain-top_k_accuracy_20=1.000000\n"
     ]
    },
    {
     "name": "stderr",
     "output_type": "stream",
     "text": [
      "INFO:root:Epoch[8] Batch [350]\tSpeed: 29223.73 samples/sec\tTrain-accuracy=0.988750\n"
     ]
    },
    {
     "name": "stdout",
     "output_type": "stream",
     "text": [
      "2016-10-26 19:38:06,467 Node[0] Epoch[8] Batch [350]\tSpeed: 29223.73 samples/sec\tTrain-accuracy=0.988750\n"
     ]
    },
    {
     "name": "stderr",
     "output_type": "stream",
     "text": [
      "INFO:root:Epoch[8] Batch [350]\tSpeed: 29223.73 samples/sec\tTrain-top_k_accuracy_5=1.000000\n"
     ]
    },
    {
     "name": "stdout",
     "output_type": "stream",
     "text": [
      "2016-10-26 19:38:06,469 Node[0] Epoch[8] Batch [350]\tSpeed: 29223.73 samples/sec\tTrain-top_k_accuracy_5=1.000000\n"
     ]
    },
    {
     "name": "stderr",
     "output_type": "stream",
     "text": [
      "INFO:root:Epoch[8] Batch [350]\tSpeed: 29223.73 samples/sec\tTrain-top_k_accuracy_10=1.000000\n"
     ]
    },
    {
     "name": "stdout",
     "output_type": "stream",
     "text": [
      "2016-10-26 19:38:06,470 Node[0] Epoch[8] Batch [350]\tSpeed: 29223.73 samples/sec\tTrain-top_k_accuracy_10=1.000000\n"
     ]
    },
    {
     "name": "stderr",
     "output_type": "stream",
     "text": [
      "INFO:root:Epoch[8] Batch [350]\tSpeed: 29223.73 samples/sec\tTrain-top_k_accuracy_20=1.000000\n"
     ]
    },
    {
     "name": "stdout",
     "output_type": "stream",
     "text": [
      "2016-10-26 19:38:06,471 Node[0] Epoch[8] Batch [350]\tSpeed: 29223.73 samples/sec\tTrain-top_k_accuracy_20=1.000000\n"
     ]
    },
    {
     "name": "stderr",
     "output_type": "stream",
     "text": [
      "INFO:root:Epoch[8] Batch [400]\tSpeed: 29223.73 samples/sec\tTrain-accuracy=0.991250\n"
     ]
    },
    {
     "name": "stdout",
     "output_type": "stream",
     "text": [
      "2016-10-26 19:38:06,693 Node[0] Epoch[8] Batch [400]\tSpeed: 29223.73 samples/sec\tTrain-accuracy=0.991250\n"
     ]
    },
    {
     "name": "stderr",
     "output_type": "stream",
     "text": [
      "INFO:root:Epoch[8] Batch [400]\tSpeed: 29223.73 samples/sec\tTrain-top_k_accuracy_5=1.000000\n"
     ]
    },
    {
     "name": "stdout",
     "output_type": "stream",
     "text": [
      "2016-10-26 19:38:06,694 Node[0] Epoch[8] Batch [400]\tSpeed: 29223.73 samples/sec\tTrain-top_k_accuracy_5=1.000000\n"
     ]
    },
    {
     "name": "stderr",
     "output_type": "stream",
     "text": [
      "INFO:root:Epoch[8] Batch [400]\tSpeed: 29223.73 samples/sec\tTrain-top_k_accuracy_10=1.000000\n"
     ]
    },
    {
     "name": "stdout",
     "output_type": "stream",
     "text": [
      "2016-10-26 19:38:06,696 Node[0] Epoch[8] Batch [400]\tSpeed: 29223.73 samples/sec\tTrain-top_k_accuracy_10=1.000000\n"
     ]
    },
    {
     "name": "stderr",
     "output_type": "stream",
     "text": [
      "INFO:root:Epoch[8] Batch [400]\tSpeed: 29223.73 samples/sec\tTrain-top_k_accuracy_20=1.000000\n"
     ]
    },
    {
     "name": "stdout",
     "output_type": "stream",
     "text": [
      "2016-10-26 19:38:06,697 Node[0] Epoch[8] Batch [400]\tSpeed: 29223.73 samples/sec\tTrain-top_k_accuracy_20=1.000000\n"
     ]
    },
    {
     "name": "stderr",
     "output_type": "stream",
     "text": [
      "INFO:root:Epoch[8] Batch [450]\tSpeed: 27350.43 samples/sec\tTrain-accuracy=0.989844\n"
     ]
    },
    {
     "name": "stdout",
     "output_type": "stream",
     "text": [
      "2016-10-26 19:38:06,931 Node[0] Epoch[8] Batch [450]\tSpeed: 27350.43 samples/sec\tTrain-accuracy=0.989844\n"
     ]
    },
    {
     "name": "stderr",
     "output_type": "stream",
     "text": [
      "INFO:root:Epoch[8] Batch [450]\tSpeed: 27350.43 samples/sec\tTrain-top_k_accuracy_5=1.000000\n"
     ]
    },
    {
     "name": "stdout",
     "output_type": "stream",
     "text": [
      "2016-10-26 19:38:06,934 Node[0] Epoch[8] Batch [450]\tSpeed: 27350.43 samples/sec\tTrain-top_k_accuracy_5=1.000000\n"
     ]
    },
    {
     "name": "stderr",
     "output_type": "stream",
     "text": [
      "INFO:root:Epoch[8] Batch [450]\tSpeed: 27350.43 samples/sec\tTrain-top_k_accuracy_10=1.000000\n"
     ]
    },
    {
     "name": "stdout",
     "output_type": "stream",
     "text": [
      "2016-10-26 19:38:06,934 Node[0] Epoch[8] Batch [450]\tSpeed: 27350.43 samples/sec\tTrain-top_k_accuracy_10=1.000000\n"
     ]
    },
    {
     "name": "stderr",
     "output_type": "stream",
     "text": [
      "INFO:root:Epoch[8] Batch [450]\tSpeed: 27350.43 samples/sec\tTrain-top_k_accuracy_20=1.000000\n"
     ]
    },
    {
     "name": "stdout",
     "output_type": "stream",
     "text": [
      "2016-10-26 19:38:06,937 Node[0] Epoch[8] Batch [450]\tSpeed: 27350.43 samples/sec\tTrain-top_k_accuracy_20=1.000000\n"
     ]
    },
    {
     "name": "stderr",
     "output_type": "stream",
     "text": [
      "INFO:root:Epoch[8] Resetting Data Iterator\n"
     ]
    },
    {
     "name": "stdout",
     "output_type": "stream",
     "text": [
      "2016-10-26 19:38:07,016 Node[0] Epoch[8] Resetting Data Iterator\n"
     ]
    },
    {
     "name": "stderr",
     "output_type": "stream",
     "text": [
      "INFO:root:Epoch[8] Time cost=2.169\n"
     ]
    },
    {
     "name": "stdout",
     "output_type": "stream",
     "text": [
      "2016-10-26 19:38:07,017 Node[0] Epoch[8] Time cost=2.169\n"
     ]
    },
    {
     "name": "stderr",
     "output_type": "stream",
     "text": [
      "INFO:root:Epoch[8] Validation-accuracy=0.976863\n"
     ]
    },
    {
     "name": "stdout",
     "output_type": "stream",
     "text": [
      "2016-10-26 19:38:07,174 Node[0] Epoch[8] Validation-accuracy=0.976863\n"
     ]
    },
    {
     "name": "stderr",
     "output_type": "stream",
     "text": [
      "INFO:root:Epoch[8] Validation-top_k_accuracy_5=0.999700\n"
     ]
    },
    {
     "name": "stdout",
     "output_type": "stream",
     "text": [
      "2016-10-26 19:38:07,174 Node[0] Epoch[8] Validation-top_k_accuracy_5=0.999700\n"
     ]
    },
    {
     "name": "stderr",
     "output_type": "stream",
     "text": [
      "INFO:root:Epoch[8] Validation-top_k_accuracy_10=1.000000\n"
     ]
    },
    {
     "name": "stdout",
     "output_type": "stream",
     "text": [
      "2016-10-26 19:38:07,177 Node[0] Epoch[8] Validation-top_k_accuracy_10=1.000000\n"
     ]
    },
    {
     "name": "stderr",
     "output_type": "stream",
     "text": [
      "INFO:root:Epoch[8] Validation-top_k_accuracy_20=1.000000\n"
     ]
    },
    {
     "name": "stdout",
     "output_type": "stream",
     "text": [
      "2016-10-26 19:38:07,177 Node[0] Epoch[8] Validation-top_k_accuracy_20=1.000000\n"
     ]
    },
    {
     "name": "stderr",
     "output_type": "stream",
     "text": [
      "INFO:root:Epoch[9] Batch [50]\tSpeed: 29906.54 samples/sec\tTrain-accuracy=0.990625\n"
     ]
    },
    {
     "name": "stdout",
     "output_type": "stream",
     "text": [
      "2016-10-26 19:38:07,398 Node[0] Epoch[9] Batch [50]\tSpeed: 29906.54 samples/sec\tTrain-accuracy=0.990625\n"
     ]
    },
    {
     "name": "stderr",
     "output_type": "stream",
     "text": [
      "INFO:root:Epoch[9] Batch [50]\tSpeed: 29906.54 samples/sec\tTrain-top_k_accuracy_5=1.000000\n"
     ]
    },
    {
     "name": "stdout",
     "output_type": "stream",
     "text": [
      "2016-10-26 19:38:07,400 Node[0] Epoch[9] Batch [50]\tSpeed: 29906.54 samples/sec\tTrain-top_k_accuracy_5=1.000000\n"
     ]
    },
    {
     "name": "stderr",
     "output_type": "stream",
     "text": [
      "INFO:root:Epoch[9] Batch [50]\tSpeed: 29906.54 samples/sec\tTrain-top_k_accuracy_10=1.000000\n"
     ]
    },
    {
     "name": "stdout",
     "output_type": "stream",
     "text": [
      "2016-10-26 19:38:07,403 Node[0] Epoch[9] Batch [50]\tSpeed: 29906.54 samples/sec\tTrain-top_k_accuracy_10=1.000000\n"
     ]
    },
    {
     "name": "stderr",
     "output_type": "stream",
     "text": [
      "INFO:root:Epoch[9] Batch [50]\tSpeed: 29906.54 samples/sec\tTrain-top_k_accuracy_20=1.000000\n"
     ]
    },
    {
     "name": "stdout",
     "output_type": "stream",
     "text": [
      "2016-10-26 19:38:07,404 Node[0] Epoch[9] Batch [50]\tSpeed: 29906.54 samples/sec\tTrain-top_k_accuracy_20=1.000000\n"
     ]
    },
    {
     "name": "stderr",
     "output_type": "stream",
     "text": [
      "INFO:root:Epoch[9] Batch [100]\tSpeed: 27350.43 samples/sec\tTrain-accuracy=0.987969\n"
     ]
    },
    {
     "name": "stdout",
     "output_type": "stream",
     "text": [
      "2016-10-26 19:38:07,641 Node[0] Epoch[9] Batch [100]\tSpeed: 27350.43 samples/sec\tTrain-accuracy=0.987969\n"
     ]
    },
    {
     "name": "stderr",
     "output_type": "stream",
     "text": [
      "INFO:root:Epoch[9] Batch [100]\tSpeed: 27350.43 samples/sec\tTrain-top_k_accuracy_5=1.000000\n"
     ]
    },
    {
     "name": "stdout",
     "output_type": "stream",
     "text": [
      "2016-10-26 19:38:07,641 Node[0] Epoch[9] Batch [100]\tSpeed: 27350.43 samples/sec\tTrain-top_k_accuracy_5=1.000000\n"
     ]
    },
    {
     "name": "stderr",
     "output_type": "stream",
     "text": [
      "INFO:root:Epoch[9] Batch [100]\tSpeed: 27350.43 samples/sec\tTrain-top_k_accuracy_10=1.000000\n"
     ]
    },
    {
     "name": "stdout",
     "output_type": "stream",
     "text": [
      "2016-10-26 19:38:07,644 Node[0] Epoch[9] Batch [100]\tSpeed: 27350.43 samples/sec\tTrain-top_k_accuracy_10=1.000000\n"
     ]
    },
    {
     "name": "stderr",
     "output_type": "stream",
     "text": [
      "INFO:root:Epoch[9] Batch [100]\tSpeed: 27350.43 samples/sec\tTrain-top_k_accuracy_20=1.000000\n"
     ]
    },
    {
     "name": "stdout",
     "output_type": "stream",
     "text": [
      "2016-10-26 19:38:07,644 Node[0] Epoch[9] Batch [100]\tSpeed: 27350.43 samples/sec\tTrain-top_k_accuracy_20=1.000000\n"
     ]
    },
    {
     "name": "stderr",
     "output_type": "stream",
     "text": [
      "INFO:root:Epoch[9] Batch [150]\tSpeed: 28444.46 samples/sec\tTrain-accuracy=0.990469\n"
     ]
    },
    {
     "name": "stdout",
     "output_type": "stream",
     "text": [
      "2016-10-26 19:38:07,871 Node[0] Epoch[9] Batch [150]\tSpeed: 28444.46 samples/sec\tTrain-accuracy=0.990469\n"
     ]
    },
    {
     "name": "stderr",
     "output_type": "stream",
     "text": [
      "INFO:root:Epoch[9] Batch [150]\tSpeed: 28444.46 samples/sec\tTrain-top_k_accuracy_5=1.000000\n"
     ]
    },
    {
     "name": "stdout",
     "output_type": "stream",
     "text": [
      "2016-10-26 19:38:07,874 Node[0] Epoch[9] Batch [150]\tSpeed: 28444.46 samples/sec\tTrain-top_k_accuracy_5=1.000000\n"
     ]
    },
    {
     "name": "stderr",
     "output_type": "stream",
     "text": [
      "INFO:root:Epoch[9] Batch [150]\tSpeed: 28444.46 samples/sec\tTrain-top_k_accuracy_10=1.000000\n"
     ]
    },
    {
     "name": "stdout",
     "output_type": "stream",
     "text": [
      "2016-10-26 19:38:07,875 Node[0] Epoch[9] Batch [150]\tSpeed: 28444.46 samples/sec\tTrain-top_k_accuracy_10=1.000000\n"
     ]
    },
    {
     "name": "stderr",
     "output_type": "stream",
     "text": [
      "INFO:root:Epoch[9] Batch [150]\tSpeed: 28444.46 samples/sec\tTrain-top_k_accuracy_20=1.000000\n"
     ]
    },
    {
     "name": "stdout",
     "output_type": "stream",
     "text": [
      "2016-10-26 19:38:07,877 Node[0] Epoch[9] Batch [150]\tSpeed: 28444.46 samples/sec\tTrain-top_k_accuracy_20=1.000000\n"
     ]
    },
    {
     "name": "stderr",
     "output_type": "stream",
     "text": [
      "INFO:root:Epoch[9] Batch [200]\tSpeed: 28070.18 samples/sec\tTrain-accuracy=0.992969\n"
     ]
    },
    {
     "name": "stdout",
     "output_type": "stream",
     "text": [
      "2016-10-26 19:38:08,105 Node[0] Epoch[9] Batch [200]\tSpeed: 28070.18 samples/sec\tTrain-accuracy=0.992969\n"
     ]
    },
    {
     "name": "stderr",
     "output_type": "stream",
     "text": [
      "INFO:root:Epoch[9] Batch [200]\tSpeed: 28070.18 samples/sec\tTrain-top_k_accuracy_5=1.000000\n"
     ]
    },
    {
     "name": "stdout",
     "output_type": "stream",
     "text": [
      "2016-10-26 19:38:08,108 Node[0] Epoch[9] Batch [200]\tSpeed: 28070.18 samples/sec\tTrain-top_k_accuracy_5=1.000000\n"
     ]
    },
    {
     "name": "stderr",
     "output_type": "stream",
     "text": [
      "INFO:root:Epoch[9] Batch [200]\tSpeed: 28070.18 samples/sec\tTrain-top_k_accuracy_10=1.000000\n"
     ]
    },
    {
     "name": "stdout",
     "output_type": "stream",
     "text": [
      "2016-10-26 19:38:08,111 Node[0] Epoch[9] Batch [200]\tSpeed: 28070.18 samples/sec\tTrain-top_k_accuracy_10=1.000000\n"
     ]
    },
    {
     "name": "stderr",
     "output_type": "stream",
     "text": [
      "INFO:root:Epoch[9] Batch [200]\tSpeed: 28070.18 samples/sec\tTrain-top_k_accuracy_20=1.000000\n"
     ]
    },
    {
     "name": "stdout",
     "output_type": "stream",
     "text": [
      "2016-10-26 19:38:08,111 Node[0] Epoch[9] Batch [200]\tSpeed: 28070.18 samples/sec\tTrain-top_k_accuracy_20=1.000000\n"
     ]
    },
    {
     "name": "stderr",
     "output_type": "stream",
     "text": [
      "INFO:root:Epoch[9] Batch [250]\tSpeed: 27586.22 samples/sec\tTrain-accuracy=0.992344\n"
     ]
    },
    {
     "name": "stdout",
     "output_type": "stream",
     "text": [
      "2016-10-26 19:38:08,345 Node[0] Epoch[9] Batch [250]\tSpeed: 27586.22 samples/sec\tTrain-accuracy=0.992344\n"
     ]
    },
    {
     "name": "stderr",
     "output_type": "stream",
     "text": [
      "INFO:root:Epoch[9] Batch [250]\tSpeed: 27586.22 samples/sec\tTrain-top_k_accuracy_5=1.000000\n"
     ]
    },
    {
     "name": "stdout",
     "output_type": "stream",
     "text": [
      "2016-10-26 19:38:08,348 Node[0] Epoch[9] Batch [250]\tSpeed: 27586.22 samples/sec\tTrain-top_k_accuracy_5=1.000000\n"
     ]
    },
    {
     "name": "stderr",
     "output_type": "stream",
     "text": [
      "INFO:root:Epoch[9] Batch [250]\tSpeed: 27586.22 samples/sec\tTrain-top_k_accuracy_10=1.000000\n"
     ]
    },
    {
     "name": "stdout",
     "output_type": "stream",
     "text": [
      "2016-10-26 19:38:08,349 Node[0] Epoch[9] Batch [250]\tSpeed: 27586.22 samples/sec\tTrain-top_k_accuracy_10=1.000000\n"
     ]
    },
    {
     "name": "stderr",
     "output_type": "stream",
     "text": [
      "INFO:root:Epoch[9] Batch [250]\tSpeed: 27586.22 samples/sec\tTrain-top_k_accuracy_20=1.000000\n"
     ]
    },
    {
     "name": "stdout",
     "output_type": "stream",
     "text": [
      "2016-10-26 19:38:08,351 Node[0] Epoch[9] Batch [250]\tSpeed: 27586.22 samples/sec\tTrain-top_k_accuracy_20=1.000000\n"
     ]
    },
    {
     "name": "stderr",
     "output_type": "stream",
     "text": [
      "INFO:root:Epoch[9] Batch [300]\tSpeed: 28070.16 samples/sec\tTrain-accuracy=0.989062\n"
     ]
    },
    {
     "name": "stdout",
     "output_type": "stream",
     "text": [
      "2016-10-26 19:38:08,581 Node[0] Epoch[9] Batch [300]\tSpeed: 28070.16 samples/sec\tTrain-accuracy=0.989062\n"
     ]
    },
    {
     "name": "stderr",
     "output_type": "stream",
     "text": [
      "INFO:root:Epoch[9] Batch [300]\tSpeed: 28070.16 samples/sec\tTrain-top_k_accuracy_5=1.000000\n"
     ]
    },
    {
     "name": "stdout",
     "output_type": "stream",
     "text": [
      "2016-10-26 19:38:08,582 Node[0] Epoch[9] Batch [300]\tSpeed: 28070.16 samples/sec\tTrain-top_k_accuracy_5=1.000000\n"
     ]
    },
    {
     "name": "stderr",
     "output_type": "stream",
     "text": [
      "INFO:root:Epoch[9] Batch [300]\tSpeed: 28070.16 samples/sec\tTrain-top_k_accuracy_10=1.000000\n"
     ]
    },
    {
     "name": "stdout",
     "output_type": "stream",
     "text": [
      "2016-10-26 19:38:08,584 Node[0] Epoch[9] Batch [300]\tSpeed: 28070.16 samples/sec\tTrain-top_k_accuracy_10=1.000000\n"
     ]
    },
    {
     "name": "stderr",
     "output_type": "stream",
     "text": [
      "INFO:root:Epoch[9] Batch [300]\tSpeed: 28070.16 samples/sec\tTrain-top_k_accuracy_20=1.000000\n"
     ]
    },
    {
     "name": "stdout",
     "output_type": "stream",
     "text": [
      "2016-10-26 19:38:08,585 Node[0] Epoch[9] Batch [300]\tSpeed: 28070.16 samples/sec\tTrain-top_k_accuracy_20=1.000000\n"
     ]
    },
    {
     "name": "stderr",
     "output_type": "stream",
     "text": [
      "INFO:root:Epoch[9] Batch [350]\tSpeed: 28699.55 samples/sec\tTrain-accuracy=0.989531\n"
     ]
    },
    {
     "name": "stdout",
     "output_type": "stream",
     "text": [
      "2016-10-26 19:38:08,809 Node[0] Epoch[9] Batch [350]\tSpeed: 28699.55 samples/sec\tTrain-accuracy=0.989531\n"
     ]
    },
    {
     "name": "stderr",
     "output_type": "stream",
     "text": [
      "INFO:root:Epoch[9] Batch [350]\tSpeed: 28699.55 samples/sec\tTrain-top_k_accuracy_5=1.000000\n"
     ]
    },
    {
     "name": "stdout",
     "output_type": "stream",
     "text": [
      "2016-10-26 19:38:08,812 Node[0] Epoch[9] Batch [350]\tSpeed: 28699.55 samples/sec\tTrain-top_k_accuracy_5=1.000000\n"
     ]
    },
    {
     "name": "stderr",
     "output_type": "stream",
     "text": [
      "INFO:root:Epoch[9] Batch [350]\tSpeed: 28699.55 samples/sec\tTrain-top_k_accuracy_10=1.000000\n"
     ]
    },
    {
     "name": "stdout",
     "output_type": "stream",
     "text": [
      "2016-10-26 19:38:08,813 Node[0] Epoch[9] Batch [350]\tSpeed: 28699.55 samples/sec\tTrain-top_k_accuracy_10=1.000000\n"
     ]
    },
    {
     "name": "stderr",
     "output_type": "stream",
     "text": [
      "INFO:root:Epoch[9] Batch [350]\tSpeed: 28699.55 samples/sec\tTrain-top_k_accuracy_20=1.000000\n"
     ]
    },
    {
     "name": "stdout",
     "output_type": "stream",
     "text": [
      "2016-10-26 19:38:08,815 Node[0] Epoch[9] Batch [350]\tSpeed: 28699.55 samples/sec\tTrain-top_k_accuracy_20=1.000000\n"
     ]
    },
    {
     "name": "stderr",
     "output_type": "stream",
     "text": [
      "INFO:root:Epoch[9] Batch [400]\tSpeed: 28571.43 samples/sec\tTrain-accuracy=0.989375\n"
     ]
    },
    {
     "name": "stdout",
     "output_type": "stream",
     "text": [
      "2016-10-26 19:38:09,040 Node[0] Epoch[9] Batch [400]\tSpeed: 28571.43 samples/sec\tTrain-accuracy=0.989375\n"
     ]
    },
    {
     "name": "stderr",
     "output_type": "stream",
     "text": [
      "INFO:root:Epoch[9] Batch [400]\tSpeed: 28571.43 samples/sec\tTrain-top_k_accuracy_5=0.999687\n"
     ]
    },
    {
     "name": "stdout",
     "output_type": "stream",
     "text": [
      "2016-10-26 19:38:09,042 Node[0] Epoch[9] Batch [400]\tSpeed: 28571.43 samples/sec\tTrain-top_k_accuracy_5=0.999687\n"
     ]
    },
    {
     "name": "stderr",
     "output_type": "stream",
     "text": [
      "INFO:root:Epoch[9] Batch [400]\tSpeed: 28571.43 samples/sec\tTrain-top_k_accuracy_10=1.000000\n"
     ]
    },
    {
     "name": "stdout",
     "output_type": "stream",
     "text": [
      "2016-10-26 19:38:09,043 Node[0] Epoch[9] Batch [400]\tSpeed: 28571.43 samples/sec\tTrain-top_k_accuracy_10=1.000000\n"
     ]
    },
    {
     "name": "stderr",
     "output_type": "stream",
     "text": [
      "INFO:root:Epoch[9] Batch [400]\tSpeed: 28571.43 samples/sec\tTrain-top_k_accuracy_20=1.000000\n"
     ]
    },
    {
     "name": "stdout",
     "output_type": "stream",
     "text": [
      "2016-10-26 19:38:09,046 Node[0] Epoch[9] Batch [400]\tSpeed: 28571.43 samples/sec\tTrain-top_k_accuracy_20=1.000000\n"
     ]
    },
    {
     "name": "stderr",
     "output_type": "stream",
     "text": [
      "INFO:root:Epoch[9] Batch [450]\tSpeed: 28828.81 samples/sec\tTrain-accuracy=0.991406\n"
     ]
    },
    {
     "name": "stdout",
     "output_type": "stream",
     "text": [
      "2016-10-26 19:38:09,269 Node[0] Epoch[9] Batch [450]\tSpeed: 28828.81 samples/sec\tTrain-accuracy=0.991406\n"
     ]
    },
    {
     "name": "stderr",
     "output_type": "stream",
     "text": [
      "INFO:root:Epoch[9] Batch [450]\tSpeed: 28828.81 samples/sec\tTrain-top_k_accuracy_5=1.000000\n"
     ]
    },
    {
     "name": "stdout",
     "output_type": "stream",
     "text": [
      "2016-10-26 19:38:09,270 Node[0] Epoch[9] Batch [450]\tSpeed: 28828.81 samples/sec\tTrain-top_k_accuracy_5=1.000000\n"
     ]
    },
    {
     "name": "stderr",
     "output_type": "stream",
     "text": [
      "INFO:root:Epoch[9] Batch [450]\tSpeed: 28828.81 samples/sec\tTrain-top_k_accuracy_10=1.000000\n"
     ]
    },
    {
     "name": "stdout",
     "output_type": "stream",
     "text": [
      "2016-10-26 19:38:09,272 Node[0] Epoch[9] Batch [450]\tSpeed: 28828.81 samples/sec\tTrain-top_k_accuracy_10=1.000000\n"
     ]
    },
    {
     "name": "stderr",
     "output_type": "stream",
     "text": [
      "INFO:root:Epoch[9] Batch [450]\tSpeed: 28828.81 samples/sec\tTrain-top_k_accuracy_20=1.000000\n"
     ]
    },
    {
     "name": "stdout",
     "output_type": "stream",
     "text": [
      "2016-10-26 19:38:09,273 Node[0] Epoch[9] Batch [450]\tSpeed: 28828.81 samples/sec\tTrain-top_k_accuracy_20=1.000000\n"
     ]
    },
    {
     "name": "stderr",
     "output_type": "stream",
     "text": [
      "INFO:root:Epoch[9] Resetting Data Iterator\n"
     ]
    },
    {
     "name": "stdout",
     "output_type": "stream",
     "text": [
      "2016-10-26 19:38:09,355 Node[0] Epoch[9] Resetting Data Iterator\n"
     ]
    },
    {
     "name": "stderr",
     "output_type": "stream",
     "text": [
      "INFO:root:Epoch[9] Time cost=2.179\n"
     ]
    },
    {
     "name": "stdout",
     "output_type": "stream",
     "text": [
      "2016-10-26 19:38:09,358 Node[0] Epoch[9] Time cost=2.179\n"
     ]
    },
    {
     "name": "stderr",
     "output_type": "stream",
     "text": [
      "INFO:root:Epoch[9] Validation-accuracy=0.973958\n"
     ]
    },
    {
     "name": "stdout",
     "output_type": "stream",
     "text": [
      "2016-10-26 19:38:09,522 Node[0] Epoch[9] Validation-accuracy=0.973958\n"
     ]
    },
    {
     "name": "stderr",
     "output_type": "stream",
     "text": [
      "INFO:root:Epoch[9] Validation-top_k_accuracy_5=0.999299\n"
     ]
    },
    {
     "name": "stdout",
     "output_type": "stream",
     "text": [
      "2016-10-26 19:38:09,523 Node[0] Epoch[9] Validation-top_k_accuracy_5=0.999299\n"
     ]
    },
    {
     "name": "stderr",
     "output_type": "stream",
     "text": [
      "INFO:root:Epoch[9] Validation-top_k_accuracy_10=1.000000\n"
     ]
    },
    {
     "name": "stdout",
     "output_type": "stream",
     "text": [
      "2016-10-26 19:38:09,525 Node[0] Epoch[9] Validation-top_k_accuracy_10=1.000000\n"
     ]
    },
    {
     "name": "stderr",
     "output_type": "stream",
     "text": [
      "INFO:root:Epoch[9] Validation-top_k_accuracy_20=1.000000\n"
     ]
    },
    {
     "name": "stdout",
     "output_type": "stream",
     "text": [
      "2016-10-26 19:38:09,526 Node[0] Epoch[9] Validation-top_k_accuracy_20=1.000000\n"
     ]
    }
   ],
   "source": [
    "import ctypes\n",
    "ctypes._dlopen(r\"C:\\Anaconda2\\Lib\\site-packages\\mxnet-0.7.0-py2.7.egg\\mxnet\\cudart64_75.dll\")\n",
    "ctypes._dlopen(r\"C:\\Anaconda2\\Lib\\site-packages\\mxnet-0.7.0-py2.7.egg\\mxnet\\cublas64_75.dll\")\n",
    "ctypes._dlopen(r\"cudnn64_5.dll\")\n",
    "ctypes._dlopen(r\"C:\\Anaconda2\\Lib\\site-packages\\mxnet-0.7.0-py2.7.egg\\mxnet\\libopenblas.dll\")\n",
    "ctypes._dlopen(r\"C:\\Anaconda2\\Lib\\site-packages\\mxnet-0.7.0-py2.7.egg\\mxnet\\opencv_world300.dll\")\n",
    "ctypes._dlopen(r\"C:\\Anaconda2\\Lib\\site-packages\\mxnet-0.7.0-py2.7.egg\\mxnet\\opencv_core2413.dll\")\n",
    "ctypes._dlopen(r\"vcomp120.dll\")\n",
    "ctypes._dlopen(r\"kernel32.dll\")\n",
    "import mxnet as mx\n",
    "import argparse\n",
    "import os, sys\n",
    "import logging\n",
    "\n",
    "def _download(data_dir):\n",
    "    if not os.path.isdir(data_dir):\n",
    "        os.system(\"mkdir \" + data_dir)\n",
    "    os.chdir(data_dir)\n",
    "    if (not os.path.exists('train-images-idx3-ubyte')) or \\\n",
    "       (not os.path.exists('train-labels-idx1-ubyte')) or \\\n",
    "       (not os.path.exists('t10k-images-idx3-ubyte')) or \\\n",
    "       (not os.path.exists('t10k-labels-idx1-ubyte')):\n",
    "        os.system(\"wget http://data.dmlc.ml/mxnet/data/mnist.zip\")\n",
    "        os.system(\"unzip -u mnist.zip; rm mnist.zip\")\n",
    "    os.chdir(\"..\")\n",
    "\n",
    "def get_loc(data, attr={'lr_mult':'0.01'}):\n",
    "    \"\"\"\n",
    "    the localisation network in lenet-stn, it will increase acc about more than 1%,\n",
    "    when num-epoch >=15\n",
    "    \"\"\"\n",
    "    loc = mx.symbol.Convolution(data=data, num_filter=30, kernel=(5, 5), stride=(2,2))\n",
    "    loc = mx.symbol.Activation(data = loc, act_type='relu')\n",
    "    loc = mx.symbol.Pooling(data=loc, kernel=(2, 2), stride=(2, 2), pool_type='max')\n",
    "    loc = mx.symbol.Convolution(data=loc, num_filter=60, kernel=(3, 3), stride=(1,1), pad=(1, 1))\n",
    "    loc = mx.symbol.Activation(data = loc, act_type='relu')\n",
    "    loc = mx.symbol.Pooling(data=loc, global_pool=True, kernel=(2, 2), pool_type='avg')\n",
    "    loc = mx.symbol.Flatten(data=loc)\n",
    "    loc = mx.symbol.FullyConnected(data=loc, num_hidden=6, name=\"stn_loc\", attr=attr)\n",
    "    return loc\n",
    "\n",
    "def get_mlp():\n",
    "    \"\"\"\n",
    "    multi-layer perceptron\n",
    "    \"\"\"\n",
    "    data = mx.symbol.Variable('data')\n",
    "    fc1  = mx.symbol.FullyConnected(data = data, name='fc1', num_hidden=128)\n",
    "    act1 = mx.symbol.Activation(data = fc1, name='relu1', act_type=\"relu\")\n",
    "    fc2  = mx.symbol.FullyConnected(data = act1, name = 'fc2', num_hidden = 64)\n",
    "    act2 = mx.symbol.Activation(data = fc2, name='relu2', act_type=\"relu\")\n",
    "    fc3  = mx.symbol.FullyConnected(data = act2, name='fc3', num_hidden=10)\n",
    "    mlp  = mx.symbol.SoftmaxOutput(data = fc3, name = 'softmax')\n",
    "    return mlp\n",
    "\n",
    "def get_lenet(add_stn=False):\n",
    "    \"\"\"\n",
    "    LeCun, Yann, Leon Bottou, Yoshua Bengio, and Patrick\n",
    "    Haffner. \"Gradient-based learning applied to document recognition.\"\n",
    "    Proceedings of the IEEE (1998)\n",
    "    \"\"\"\n",
    "    data = mx.symbol.Variable('data')\n",
    "    if(add_stn):\n",
    "        data = mx.sym.SpatialTransformer(data=data, loc=get_loc(data), target_shape = (28,28),\n",
    "                                         transform_type=\"affine\", sampler_type=\"bilinear\")\n",
    "    # first conv\n",
    "    conv1 = mx.symbol.Convolution(data=data, kernel=(5,5), num_filter=20)\n",
    "    tanh1 = mx.symbol.Activation(data=conv1, act_type=\"tanh\")\n",
    "    pool1 = mx.symbol.Pooling(data=tanh1, pool_type=\"max\",\n",
    "                              kernel=(2,2), stride=(2,2))\n",
    "    # second conv\n",
    "    conv2 = mx.symbol.Convolution(data=pool1, kernel=(5,5), num_filter=50)\n",
    "    tanh2 = mx.symbol.Activation(data=conv2, act_type=\"tanh\")\n",
    "    pool2 = mx.symbol.Pooling(data=tanh2, pool_type=\"max\",\n",
    "                              kernel=(2,2), stride=(2,2))\n",
    "    # first fullc\n",
    "    flatten = mx.symbol.Flatten(data=pool2)\n",
    "    fc1 = mx.symbol.FullyConnected(data=flatten, num_hidden=500)\n",
    "    tanh3 = mx.symbol.Activation(data=fc1, act_type=\"tanh\")\n",
    "    # second fullc\n",
    "    fc2 = mx.symbol.FullyConnected(data=tanh3, num_hidden=10)\n",
    "    # loss\n",
    "    lenet = mx.symbol.SoftmaxOutput(data=fc2, name='softmax')\n",
    "    return lenet\n",
    "\n",
    "def get_iterator(data_shape):\n",
    "    def get_iterator_impl(args, kv):\n",
    "        data_dir = args.data_dir\n",
    "        \"\"\"\n",
    "        if '://' not in args.data_dir:\n",
    "            _download(args.data_dir)\n",
    "        \"\"\"\n",
    "        flat = False if len(data_shape) == 3 else True\n",
    "\n",
    "        train           = mx.io.MNISTIter(\n",
    "            image       = data_dir + \"train-images-idx3-ubyte\",\n",
    "            label       = data_dir + \"train-labels-idx1-ubyte\",\n",
    "            input_shape = data_shape,\n",
    "            batch_size  = args.batch_size,\n",
    "            shuffle     = True,\n",
    "            flat        = flat,\n",
    "            num_parts   = kv.num_workers,\n",
    "            part_index  = kv.rank)\n",
    "\n",
    "        val = mx.io.MNISTIter(\n",
    "            image       = data_dir + \"t10k-images-idx3-ubyte\",\n",
    "            label       = data_dir + \"t10k-labels-idx1-ubyte\",\n",
    "            input_shape = data_shape,\n",
    "            batch_size  = args.batch_size,\n",
    "            flat        = flat,\n",
    "            num_parts   = kv.num_workers,\n",
    "            part_index  = kv.rank)\n",
    "\n",
    "        return (train, val)\n",
    "    return get_iterator_impl\n",
    "\n",
    "def parse_args():\n",
    "    parser = argparse.ArgumentParser(description='train an image classifer on mnist')\n",
    "    parser.add_argument('--network', type=str, default='mlp',\n",
    "                        choices = ['mlp', 'lenet', 'lenet-stn'],\n",
    "                        help = 'the cnn to use')\n",
    "    parser.add_argument('--data-dir', type=str, default='mnist/',\n",
    "                        help='the input data directory')\n",
    "    parser.add_argument('--gpus', type=str,\n",
    "                        help='the gpus will be used, e.g \"0,1,2,3\"')\n",
    "    parser.add_argument('--num-examples', type=int, default=60000,\n",
    "                        help='the number of training examples')\n",
    "    parser.add_argument('--batch-size', type=int, default=128,\n",
    "                        help='the batch size')\n",
    "    parser.add_argument('--lr', type=float, default=.1,\n",
    "                        help='the initial learning rate')\n",
    "    parser.add_argument('--model-prefix', type=str,\n",
    "                        help='the prefix of the model to load/save')\n",
    "    parser.add_argument('--save-model-prefix', type=str,\n",
    "                        help='the prefix of the model to save')\n",
    "    parser.add_argument('--num-epochs', type=int, default=10,\n",
    "                        help='the number of training epochs')\n",
    "    parser.add_argument('--load-epoch', type=int,\n",
    "                        help=\"load the model on an epoch using the model-prefix\")\n",
    "    parser.add_argument('--kv-store', type=str, default='local',\n",
    "                        help='the kvstore type')\n",
    "    parser.add_argument('--lr-factor', type=float, default=1,\n",
    "                        help='times the lr with a factor for every lr-factor-epoch epoch')\n",
    "    parser.add_argument('--lr-factor-epoch', type=float, default=1,\n",
    "                        help='the number of epoch to factor the lr, could be .5')\n",
    "    return parser.parse_args(['--gpus', '0', '--data-dir', 'G:/OpenSource/mxnet/example/image-classification/mnist/'])\n",
    "\n",
    "if __name__ == '__main__':\n",
    "    args = parse_args()\n",
    "\n",
    "    if args.network == 'mlp':\n",
    "        data_shape = (784, )\n",
    "        net = get_mlp()\n",
    "    elif args.network == 'lenet-stn':\n",
    "        data_shape = (1, 28, 28)\n",
    "        net = get_lenet(True)\n",
    "    else:\n",
    "        data_shape = (1, 28, 28)\n",
    "        net = get_lenet()\n",
    "\n",
    "    # kvstore\n",
    "    kv = mx.kvstore.create(args.kv_store)\n",
    "\n",
    "    # logging\n",
    "    head = '%(asctime)-15s Node[' + str(kv.rank) + '] %(message)s'\n",
    "    \n",
    "    logger = logging.getLogger()\n",
    "    formatter = logging.Formatter(head)\n",
    "    stdout_handler = logging.StreamHandler(sys.stdout)\n",
    "    stdout_handler.setFormatter(formatter)\n",
    "\n",
    "    logger.addHandler(stdout_handler)\n",
    "\n",
    "    logger.setLevel(logging.INFO)\n",
    "    logger.info('start with arguments %s', args)\n",
    "    \n",
    "    # load model\n",
    "    model_prefix = args.model_prefix\n",
    "    if model_prefix is not None:\n",
    "        model_prefix += \"-%d\" % (kv.rank)\n",
    "    model_args = {}\n",
    "    if args.load_epoch is not None:\n",
    "        assert model_prefix is not None\n",
    "        tmp = mx.model.FeedForward.load(model_prefix, args.load_epoch)\n",
    "        model_args = {'arg_params' : tmp.arg_params,\n",
    "                      'aux_params' : tmp.aux_params,\n",
    "                      'begin_epoch' : args.load_epoch}\n",
    "    # save model\n",
    "    save_model_prefix = args.save_model_prefix\n",
    "    if save_model_prefix is None:\n",
    "        save_model_prefix = model_prefix\n",
    "    checkpoint = None if save_model_prefix is None else mx.callback.do_checkpoint(save_model_prefix)\n",
    "\n",
    "    # data\n",
    "    (train, val) = get_iterator(data_shape)(args, kv)\n",
    "\n",
    "    # train\n",
    "    devs = mx.cpu() if args.gpus is None else [\n",
    "        mx.gpu(int(i)) for i in args.gpus.split(',')]\n",
    "\n",
    "    epoch_size = args.num_examples / args.batch_size\n",
    "\n",
    "    if args.kv_store == 'dist_sync':\n",
    "        epoch_size /= kv.num_workers\n",
    "        model_args['epoch_size'] = epoch_size\n",
    "\n",
    "    if 'lr_factor' in args and args.lr_factor < 1:\n",
    "        model_args['lr_scheduler'] = mx.lr_scheduler.FactorScheduler(\n",
    "            step = max(int(epoch_size * args.lr_factor_epoch), 1),\n",
    "            factor = args.lr_factor)\n",
    "\n",
    "    if 'clip_gradient' in args and args.clip_gradient is not None:\n",
    "        model_args['clip_gradient'] = args.clip_gradient\n",
    "\n",
    "    # disable kvstore for single device\n",
    "    if 'local' in kv.type and (\n",
    "            args.gpus is None or len(args.gpus.split(',')) is 1):\n",
    "        kv = None\n",
    "\n",
    "    model = mx.model.FeedForward(\n",
    "        ctx                = devs,\n",
    "        symbol             = net,\n",
    "        num_epoch          = args.num_epochs,\n",
    "        learning_rate      = args.lr,\n",
    "        momentum           = 0.9,\n",
    "        wd                 = 0.00001,\n",
    "        initializer        = mx.init.Xavier(factor_type=\"in\", magnitude=2.34),\n",
    "        **model_args)\n",
    "\n",
    "    eval_metrics = ['accuracy']\n",
    "    ## TopKAccuracy only allows top_k > 1\n",
    "    for top_k in [5, 10, 20]:\n",
    "        eval_metrics.append(mx.metric.create('top_k_accuracy', top_k = top_k))\n",
    "\n",
    "    model.fit(\n",
    "        X                  = train,\n",
    "        eval_data          = val,\n",
    "        eval_metric        = eval_metrics,\n",
    "        kvstore            = kv,\n",
    "        batch_end_callback = [mx.callback.Speedometer(args.batch_size, 50)],\n",
    "        epoch_end_callback = checkpoint)\n",
    "\n"
   ]
  },
  {
   "cell_type": "markdown",
   "metadata": {},
   "source": [
    "可以看到，验证集上的准确率接近于1，这说明我们的安装过程是成功的。"
   ]
  },
  {
   "cell_type": "markdown",
   "metadata": {},
   "source": [
    "总结一下期间遇到的错误：  \n",
    "1.\n",
    ">CMake Error: The following variables are used in this project, but they are set to NOTFOUND.  \n",
    "Please set them or make sure they are set and tested correctly in the CMake files:  \n",
    "CUDA_cublas_LIBRARY (ADVANCED)  \n",
    "    linked by target \"mxnet\" in directory G:/OpenSource/mxnet  \n",
    "    linked by target \"mxnet\" in directory G:/OpenSource/mxnet  \n",
    "CUDA_cublas_device_LIBRARY (ADVANCED)  \n",
    "    linked by target \"mxnet\" in directory G:/OpenSource/mxnet  \n",
    "    linked by target \"mxnet\" in directory G:/OpenSource/mxnet  \n",
    "CUDA_curand_LIBRARY (ADVANCED)  \n",
    "    linked by target \"mxnet\" in directory G:/OpenSource/mxnet  \n",
    "    linked by target \"mxnet\" in directory G:/OpenSource/mxnet  \n",
    "    \n",
    "解决方法：\n",
    "参考[github](https://github.com/dmlc/mxnet/issues/2521)上的issue，换成64位编译器。  \n",
    "\n",
    "2.无法打开包括文件:opencv2\\opencv.hpp\n",
    "解决方法：  \n",
    "在项目属性页的VC++标签页中的包含目录选项中加入opencv的头文件路径`G:\\opencv\\build\\include`即可。  \n",
    "\n",
    "3.错误\t5373\terror LNK2001: 无法解析的外部符号 \"int __cdecl cv::_interlockedExchangeAdd(int *,int)\"(?_interlockedExchangeAdd@cv@@YAHPEAHH@Z)  \n",
    "解决方法：  \n",
    "在项目属性页的标签页中的链接器下的附加依赖项属性中加入opencv的库文件`G:\\opencv\\build\\x64\\vc12\\lib\\opencv_core2413.lib`\n"
   ]
  },
  {
   "cell_type": "markdown",
   "metadata": {},
   "source": [
    "## 参考\n",
    "[mxnet配置安装](https://github.com/zhubuntu/MXNet-Learning-Note/blob/master/mxnet%E5%AE%89%E8%A3%85%E9%85%8D%E7%BD%AE.md)  \n",
    "https://github.com/dmlc/mxnet/issues/655"
   ]
  }
 ],
 "metadata": {
  "kernelspec": {
   "display_name": "Python 2",
   "language": "python",
   "name": "python2"
  },
  "language_info": {
   "codemirror_mode": {
    "name": "ipython",
    "version": 2
   },
   "file_extension": ".py",
   "mimetype": "text/x-python",
   "name": "python",
   "nbconvert_exporter": "python",
   "pygments_lexer": "ipython2",
   "version": "2.7.12"
  }
 },
 "nbformat": 4,
 "nbformat_minor": 0
}
