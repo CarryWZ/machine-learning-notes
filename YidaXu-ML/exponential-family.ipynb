{
 "cells": [
  {
   "cell_type": "markdown",
   "metadata": {},
   "source": [
    "## 指数分布族\n",
    "具有如下形式的分布族称为指数分布族（exponential family）：\n",
    "$$ p(x|\\eta)=b(x)\\exp(T(x)^T\\eta-a(\\eta))$$\n",
    "其中$\\eta$是分布的自然参数（natural parameter，比如高斯分布的自然参数就是$\\eta=(\\mu,\\sigma^2)^T$），$T(x)$是充分统计量（sufficient statistic，大多数情况$T(x)=x$），$a(\\eta)$是log normalizer，之所以这么叫是因为$a(\\eta)=ln\\ (\\int b(x)\\exp(T(x)^T\\eta)dx)$。\n",
    "确定$a,b,T$即确定了一个分布族，而$\\eta$是此分布族的参数。当$\\eta$变化时，我们得到这个分布族里不同的分布。\n",
    "指数分布族是个大家族，家族成员有正态分布，指数分布，gamma分布，卡方分布，beta分布，狄利克雷分布，多项式分布，伯努利分布，泊松分布等。\n",
    "\n",
    "## 多项式分布\n",
    "假设天上有n个球以概率$p_1,p_2,...,p_k$落到地上摆放的k个桶里，根据n和k的不同，我们可以将四种分布区分开来\n",
    "\n",
    "* 多项式分布（multinomial）：n个球落到k个桶，参数为$n,p_1,...,p_k$\n",
    "* 二项式分布（binomial）：n个球落到2个桶，参数为$n,p$\n",
    "* 分类分布（categorical）：1个球落到k个桶，参数为$p_1,...,p_k$\n",
    "* 伯努利分布（bernoulli）：1个球落到2个桶，参数为$p$\n",
    "\n",
    "## 指数族的MLE估计\n",
    "使用指数分布族我们可以大大简化最大似然的估计的计算过程\n",
    "$$ ln\\  p(\\mathbf{X}|\\eta)=ln\\ \\prod_{i=1}^N p(x_i|\\eta)=ln\\  \\prod_{i=1}^N b(x_i)\\exp\\bigg(\\Big(\\sum_{i=1}^N T(x_i)\\Big)^T\\eta-N a(\\eta)\\bigg)$$\n",
    "因为$\\mathbf{X}=\\{x_1,...,x_N\\}$已知，于是$ \\prod_{i=1}^N b(x_i)$可以看作常数我们可以将其省略，于是我们的目标函数变成\n",
    "$$ \\eta_{ML}=\\arg\\max_{\\eta}ln\\ \\exp\\bigg(\\Big(\\sum_{i=1}^N T(x_i)\\Big)^T\\eta-N a(\\eta)\\bigg)=\\arg\\max_{\\eta}\\Bigg\\{\\Big(\\sum_{i=1}^N T(x_i)\\Big)^T\\eta-N a(\\eta)\\Bigg\\}$$\n",
    "令$\\mathcal{L}=\\Big(\\sum_{i=1}^N T(x_i)\\Big)^T\\eta-N a(\\eta)$，对$\\eta$求梯度\n",
    "$$\\nabla{\\mathcal{L}}(\\eta)=\\sum_{i=1}^N T(x_i)-N\\nabla a(\\eta)=0\\to \\nabla a(\\eta)=\\frac{1}{N}\\sum_{i=1}^N T(x_i)$$\n",
    "这个结论告诉我们只要令$a(\\eta)$的梯度等于充分统计量的均值并求解这个方程组我们就能得到最大似然估计\n",
    "\n",
    "举个高斯分布的例子，高斯分布的pdf写为\n",
    "$$ p(x|\\mu,\\sigma^2)=\\frac{1}{\\sqrt{2\\pi}\\sigma}\\exp(-\\frac{1}{2\\sigma^2}(x-\\mu)^2)$$\n",
    "我们要将这个pdf  $p(x|\\theta)$写为指数家族的形式$p(x|\\eta)$，由于高斯分布有两个参数$\\theta=(\\mu,\\sigma)^T$，因此在表示为指数分布族时也对应有两个自然参数$\\eta=(\\eta_1,\\eta_2)^T$，所不同的是需要在这两组参数之间作一个变换，那么接下来我们来看这个变换怎么得到。\n",
    "$$\\frac{1}{\\sqrt{2\\pi}\\sigma}\\exp(-\\frac{1}{2\\sigma^2}(x-\\mu)^2)=\\exp\\big(-\\frac{1}{2\\sigma^2}x^2+\\frac{\\mu}{\\sigma^2}x-\\frac{\\mu^2}{2\\sigma^2}-\\frac{1}{2}ln\\ (2\\pi\\sigma^2)\\big)\\\\=\\exp(-\\frac{1}{2}ln\\ (2\\pi))\\exp\\big(-\\frac{1}{2\\sigma^2}x^2+\\frac{\\mu}{\\sigma^2}x-\\frac{\\mu^2}{2\\sigma^2}-\\frac{1}{2}ln\\ \\sigma^2\\big)$$\n",
    "通过类比可得\n",
    "$$T(x)=(x,x^2)^T,\\eta=(\\eta_1,\\eta_2)^T=(\\frac{\\mu}{\\sigma^2},-\\frac{1}{2\\sigma^2})^T\\\\b(x)=\\exp(-\\frac{1}{2}ln\\ (2\\pi))\\\\a(\\eta)=\\frac{\\mu^2}{2\\sigma^2}+\\frac{1}{2}ln\\ \\sigma^2$$\n",
    "接下来我们要将$(\\mu,\\sigma)$用$(\\eta_1,\\eta_2)$表示，通过解方程\n",
    "$$ \\left\\{\\begin{aligned}&\\eta_1=\\frac{\\mu}{\\sigma^2}\\\\&\\eta_2=-\\frac{1}{2\\sigma^2}\\end{aligned}\\right.$$\n",
    "得到\n",
    "$$\\left\\{\\begin{aligned}&\\mu=-\\frac{\\eta_1}{2\\eta_2}\\\\&\\sigma^2=-\\frac{1}{2\\eta_2}\\end{aligned}\\right.$$\n",
    "于是\n",
    "$$a(\\eta)=-\\frac{\\eta_1^2}{4\\eta_2}-\\frac{1}{2}ln\\ (-2\\eta_2)$$\n",
    "其梯度为\n",
    "$$\\nabla a(\\eta)=\\begin{bmatrix}&-\\frac{\\eta_1}{2\\eta_2}\\\\&\\frac{\\eta_1^2}{4\\eta_2^2}-\\frac{1}{2\\eta_2}\\end{bmatrix}=\\begin{bmatrix}&\\mu\\\\&\\mu^2+\\sigma^2\\end{bmatrix}=\\begin{bmatrix}&\\frac{1}{N}\\sum_{i=1}^N x_i\\\\&\\frac{1}{N}\\sum_{i=1}^N x_i^2\\end{bmatrix}$$\n",
    "得到\n",
    "$$\\mu_{ML}=\\frac{1}{N}\\sum_{i=1}^N x_i\\\\\\sigma^2_{ML}=\\frac{1}{N}\\sum_{i=1}^N x_i^2-\\mu_{ML}^2=\\frac{1}{N}\\sum_{i=1}^N x_i^2-(\\frac{1}{N}\\sum_{i=1}^N x_i)^2=\\frac{1}{N}\\sum_{i=1}^N x_i^2-2(\\frac{1}{N}\\sum_{i=1}^N x_i)^2+(\\frac{1}{N}\\sum_{i=1}^N x_i)^2\\\\=\\frac{1}{N}\\sum_{i=1}^N x_i^2-2\\frac{1}{N}\\sum_{i=1}^Nx_i \\bar{x}+\\frac{1}{N}N\\bar{x}^2\\\\=\\frac{1}{N}\\sum_{i=1}^N(x_i^2-2 x_i\\bar{x}+\\bar{x}^2)=\\frac{1}{N}\\sum_{i=1}^N(x_i-\\bar{x})^2$$\n",
    "\n",
    "## log-normalizer的性质\n",
    "可以证明以下结论：\n",
    "$$ \\frac{\\partial a(\\eta)}{\\partial \\eta}=E_{p(x|\\eta)}[T(x)]$$\n",
    "证明过程如下：\n",
    "首先我们将log-normalizer表示出来：\n",
    "$$ a(\\eta)=ln\\ (\\int b(x)\\exp(T(x)^T\\eta)dx)$$\n",
    "接着对$\\eta$求导，这里利用莱布尼茨微积分的一个性质：\n",
    "$$\\frac{d\\ \\int_x f(x,y)dx}{d y}=\\int_x\\frac{\\partial\\  f(x,y)}{\\partial y}dx$$\n",
    "利用这个结论我们有\n",
    "$$ \\frac{da(\\eta)}{d \\eta}=\\int_x\\frac{\\partial\\  a(\\eta)}{\\partial \\eta}dx$$"
   ]
  }
 ],
 "metadata": {
  "kernelspec": {
   "display_name": "Python 2",
   "language": "python",
   "name": "python2"
  },
  "language_info": {
   "codemirror_mode": {
    "name": "ipython",
    "version": 2
   },
   "file_extension": ".py",
   "mimetype": "text/x-python",
   "name": "python",
   "nbconvert_exporter": "python",
   "pygments_lexer": "ipython2",
   "version": "2.7.12"
  }
 },
 "nbformat": 4,
 "nbformat_minor": 0
}
