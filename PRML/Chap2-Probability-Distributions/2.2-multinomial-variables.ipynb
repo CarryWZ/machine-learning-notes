{
 "cells": [
  {
   "cell_type": "markdown",
   "metadata": {},
   "source": [
    "# 2.2 多元变量\n",
    "\n",
    "上一节我们学习了二元变量的分布，其特点是结果只能有2种取值。但有时我们遇到的问题的结果数目不局限于两种，例如掷骰子就有6种互斥的可能结果。这一节我们将研究多元随机变量及其分布。  \n",
    "\n",
    "为了数学上方便，我们通常将多元变量表示为一个one-hot向量。假设随机变量的结果共有K种可能性，那么one-hot向量是一个K维向量，且其中只有一个元素$x_k=1$，其余位置上的元素均为0，以表示随机变量的结果为第k个状态。举个例子，比如$K=4$，且$x_2=1$，那么结果可以表示为：\n",
    "$$\\mathbf{x}=(0,1,0,0)^T$$\n",
    "## 分类分布\n",
    "我们用一个参数向量$\\boldsymbol{\\mu}=(\\mu_1,\\mu_2,...,\\mu_K)^T$来表示每一种可能状态的概率，则一个样本的离散概率分布为\n",
    "$$p(\\mathbf{x}|\\boldsymbol{\\mu})=\\prod_{k=1}^K \\mu_k^{x_k}$$\n",
    "其中$\\mu_k\\geq 0且\\sum_{k=1}^K\\mu_k=1$。我们将这样的分布称为分类分布（Categorical Distribution）。分类分布可以看做伯努利分布在多于2个结果情况下的推广。很容易证明这个分布已经是归一化的\n",
    "$$\\sum_{\\mathbf{x}}p(\\mathbf{x}|\\boldsymbol{\\mu})=\\sum_{k=1}^K\\mu_k=1$$\n",
    "并且\n",
    "$$\\mathbb{E}[\\mathbf{x}|\\boldsymbol{\\mu}]=\\sum_{\\mathbf{x}}p(\\mathbf{x}|\\boldsymbol{\\mu})\\mathbf{x}=(\\mu_1,...,\\mu_K)^T=\\boldsymbol{\\mu}$$\n",
    "\n",
    "## 多项式分布\n",
    "\n",
    "分类分布是多项式分布在样本数$N=1$时的特殊情况，当样本数$N>1$且各样本之间服从独立同分布假设时，记每种可能状态发生次数之和组成的向量为$\\boldsymbol{m}=(m_1,m_2,...,m_K)^T$，则$\\boldsymbol{m}$服从多项式分布，其概率分布为\n",
    "$$ Multi(m_1,m_2,...,m_K|\\boldsymbol{\\mu},N)=\\binom N {m_1m_2...m_K}\\prod_{k=1}^K \\mu_k^{m_k}$$\n",
    "其中$\\binom N {m_1m_2...m_K}=\\frac{N!}{m_1!m_2!...m_K!}$，注意到$m_k$满足约束\n",
    "$$ \\sum_{k=1}^K m_k=N$$\n",
    "\n",
    "我们目前学习了伯努利分布、二项式分布、分类分布、多项式分布，他们之间的区别可能有些容易混淆，因此我以一个例子来说明它们的区别：  \n",
    "假设天上有$N$个球以概率$\\mu_1,\\mu_2,...,\\mu_K$独立且随机地掉落到地上的$K$个桶内，那么  \n",
    "- 当$N=1,K=2$时，我们得到伯努利分布\n",
    "- 当$N>1,K=2$时，我们得到二项式分布\n",
    "- 当$N=1,K>2$时，我们得到分类分布\n",
    "- 当$N>1,K>2$时，我们得到多项式分布  \n",
    "\n",
    "或者更直观点理解，就是：\n",
    "- 1个球落到2个桶——伯努利分布\n",
    "- N个球落到2个桶——二项式分布\n",
    "- 1个球落到K个桶——分类分布\n",
    "- N个球落到K个桶——多项式分布"
   ]
  },
  {
   "cell_type": "markdown",
   "metadata": {},
   "source": [
    "### 多项式分布的最大似然估计\n",
    "现在让我们考虑一个由$N$个独立同分布样本组成的数据集$\\mathcal{D}=\\{\\mathbf{x}_1,...,\\mathbf{x}_N\\}$，则$\\mathcal{D}$的似然函数可以写为：\n",
    "$$p(\\mathcal{D}|\\boldsymbol{\\mu})=\\prod_{i=1}^N p(\\mathbf{x}_i|\\boldsymbol{\\mu})=\\prod_{i=1}^N \\prod_{k=1}^K \\mu_k^{x_{i,k}}= \\prod_{k=1}^K \\mu_k^{\\sum_{i=1}^N x_{i,k}}=\\prod_{k=1}^K \\mu_k^{m_k}$$\n",
    "其中$m_k=\\sum_{i=1}^N x_{i,k}$，表示第$k$个事件发生的次数。其对数似然为\n",
    "$$\\mathcal{L}(\\mathcal{D})=\\ln p(\\mathcal{D}|\\boldsymbol{\\mu})=\\sum_{k=1}^K m_k\\ln \\mu_k$$\n",
    "其中$\\sum_{k=1}^K \\mu_k=1$。  \n",
    "这是一个等式约束的优化问题，应用拉格朗日乘数法，写出拉格朗日目标函数\n",
    "$$\\mathcal{L}(\\boldsymbol{\\mu})=\\sum_{k=1}^K m_k\\ln \\mu_k-\\lambda(\\sum_{k=1}^K \\mu_k-1)$$\n",
    "关于$\\mu_k$求导\n",
    "$$\\frac{\\partial \\mathcal{L}(\\boldsymbol{\\mu})}{\\partial \\mu_k}=\\frac{m_k}{\\mu_k}-\\lambda =0$$\n",
    "得\n",
    "$$\\mu_k=\\frac{m_k}{\\lambda},(k=1,2,...,K)$$\n",
    "结合$\\sum_{k=1}^K \\mu_k=1$的事实，我们有\n",
    "$$\\frac{1}{\\lambda}\\sum_{k=1}^K m_k=\\frac{N}{\\lambda}=1\\rightarrow \\lambda=N$$\n",
    "因此$\\mu_k$的最大似然估计为\n",
    "$$\\mu^{ML}_k=\\frac{m_k}{N}$$"
   ]
  },
  {
   "cell_type": "markdown",
   "metadata": {},
   "source": [
    "### 狄利克雷分布\n",
    "通过观察多项式分布的形式，我们可以看出共轭先验具有如下形式\n",
    "$$p(\\boldsymbol{\\mu}|\\boldsymbol{\\alpha})\\propto \\prod_{k=1}^K \\mu_{k}^{\\alpha_k-1}$$\n",
    "其中$\\alpha_k$是该分布的参数，且$\\boldsymbol{\\alpha}=(\\alpha_1,...,\\alpha_K)^T$，必须注意的是$\\alpha_k$的和不一定为1。我们将其归一化，得到\n",
    "$$Dir(\\boldsymbol{\\mu}|\\boldsymbol{\\alpha})=\\frac{\\Gamma(\\alpha_0)}{\\Gamma(\\alpha_1)\\cdots\\Gamma(\\alpha_K)}\\prod_{k=1}^K \\mu_{k}^{\\alpha_k-1}=\\frac{1}{Z}\\prod_{k=1}^K \\mu_{k}^{\\alpha_k-1}$$\n",
    "这个分布称为狄利克雷分布（Dirichlet distribution）。其中$\\Gamma(x)$是伽马函数，$\\alpha_0=\\sum_{k=1}^K \\alpha_k$，$Z=\\frac{\\Gamma(\\alpha_1)\\cdots\\Gamma(\\alpha_K)}{\\Gamma(\\alpha_0)}$。"
   ]
  },
  {
   "cell_type": "markdown",
   "metadata": {},
   "source": [
    "狄利克雷分布的期望为\n",
    "$$\\mathbb{E}[\\mu_k]=\\frac{\\alpha_k}{\\alpha_0}$$\n",
    "证明过程见末尾的附录。  \n",
    "### 共轭后验分布\n",
    "我们将$\\boldsymbol{\\mu}$的先验$Dir(\\boldsymbol{\\mu}|\\boldsymbol{\\alpha})$乘以似然函数$p(\\mathcal{D}|\\boldsymbol{\\mu})$，得到$\\boldsymbol{\\mu}$的后验分布：\n",
    "$$p(\\boldsymbol{\\mu}|\\mathcal{D})\\propto Dir(\\boldsymbol{\\mu}|\\boldsymbol{\\alpha}) \\cdot p(\\mathcal{D}|\\boldsymbol{\\mu})\\propto \\prod_{k=1}^K \\mu_k^{(\\alpha_k+m_k)-1}$$\n",
    "$\\boldsymbol{\\mu}$的后验分布与先验具有相同的形式，经过类比可得\n",
    "$$\\begin{aligned}p(\\boldsymbol{\\mu}|\\mathcal{D})&=Dir(\\boldsymbol{\\mu}|\\boldsymbol{\\alpha}+\\boldsymbol{m})\\\\&=\\frac{\\Gamma(\\alpha_0+N)}{\\Gamma(\\alpha_1+m_1)\\cdots\\Gamma(\\alpha_K+m_K)}\\prod_{k=1}^K \\mu_{k}^{\\alpha_k+m_k-1}\\end{aligned}$$"
   ]
  },
  {
   "cell_type": "markdown",
   "metadata": {},
   "source": [
    "## 附录\n",
    "\n",
    "$$\\begin{aligned}\\mathbb{E}[\\mu_j]&=\\int_{\\boldsymbol{\\mu}\\in A}\\mu_j Dir(\\boldsymbol{\\mu}|\\boldsymbol{\\alpha})d\\boldsymbol{\\mu}\\\\&=\\frac{\\Gamma(\\alpha_0)}{\\Gamma(\\alpha_1)\\cdots\\Gamma(\\alpha_K)}\\int_{\\boldsymbol{\\mu}\\in A}\\mu_j^{(\\alpha_j+1)-1}\\prod_{k=1,k\\neq j}^K\\mu_k^{\\alpha_k-1} d\\mu_k \\\\&=\\frac{\\Gamma(\\alpha_0)}{\\Gamma(\\alpha_1)\\cdots\\Gamma(\\alpha_K)}\\frac{\\Gamma(\\alpha_1)\\cdots\\Gamma(\\alpha_{j-1})\\Gamma(\\alpha_j+1)\\Gamma(\\alpha_{j+1})\\cdots\\Gamma(\\alpha_K)}{\\Gamma(\\alpha_0+1)}\\\\&=\\frac{\\Gamma(\\alpha_0)\\Gamma(\\alpha_j+1)}{\\Gamma(\\alpha_0+1)\\Gamma(\\alpha_j)}\\\\&=\\frac{\\alpha_j}{\\alpha_0}\\end{aligned}$$\n"
   ]
  }
 ],
 "metadata": {
  "anaconda-cloud": {},
  "kernelspec": {
   "display_name": "Python [default]",
   "language": "python",
   "name": "python2"
  },
  "language_info": {
   "codemirror_mode": {
    "name": "ipython",
    "version": 2
   },
   "file_extension": ".py",
   "mimetype": "text/x-python",
   "name": "python",
   "nbconvert_exporter": "python",
   "pygments_lexer": "ipython2",
   "version": "2.7.12"
  }
 },
 "nbformat": 4,
 "nbformat_minor": 1
}
