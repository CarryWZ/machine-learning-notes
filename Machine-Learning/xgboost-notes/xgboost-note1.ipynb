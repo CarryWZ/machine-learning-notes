{
 "cells": [
  {
   "cell_type": "markdown",
   "metadata": {},
   "source": [
    "# xgboost的安装\n",
    "首先将xgboost的源代码从github上下载到本地：\n",
    "```\n",
    "git clone --recursive https://github.com/dmlc/xgboost\n",
    "```\n",
    "别忘了加上`--recursive`参数，以下载依赖的`dmlc-core`等模块。\n",
    "接着，编译xgboost的源代码  \n",
    "```\n",
    "cd xgboost  \n",
    "make -j4 #开4个线程编译\n",
    "```\n",
    "编译完成后，将在`xgboost/lib`目录下生成文件`libxgboost.so`。  \n",
    "接下来我们需要安装xgboost的python接口，具体步骤如下：  \n",
    "1.进入`xgboost/python-packages`，执行\n",
    "```\n",
    "python setup.py install\n",
    "```\n",
    "安装过程顺便会将`xgboost/lib/libxgboost.so`拷贝到`/home/little-prince/anaconda2/lib/python2.7/site-packages/xgboost-0.6-py2.7.egg/xgboost`目录下。  \n",
    "2.可以运行以下代码验证是否安装成功"
   ]
  },
  {
   "cell_type": "code",
   "execution_count": 1,
   "metadata": {
    "collapsed": false
   },
   "outputs": [
    {
     "name": "stdout",
     "output_type": "stream",
     "text": [
      "0.6\n"
     ]
    }
   ],
   "source": [
    "import xgboost as xgb\n",
    "print xgb.__version__"
   ]
  },
  {
   "cell_type": "markdown",
   "metadata": {},
   "source": [
    "## 安装过程中遇到的错误及解决\n",
    "1.`/home/little-prince/anaconda2/lib/python2.7/site-packages/scipy/sparse/../../../../libstdc++.so.6: version 'GLIBCXX_3.4.20' not found`  \n",
    "原因：  \n",
    "GLIBCXX的版本太老。执行\n",
    "```\n",
    "sudo  find / -name  libstdc++.so.6*\n",
    "```\n",
    "返回结果：  \n",
    "```\n",
    "/usr/share/gdb/auto-load/usr/lib/x86_64-linux-gnu/libstdc++.so.6.0.21-gdb.py\n",
    "/usr/lib/vmware-tools/lib32/libstdc++.so.6\n",
    "/usr/lib/vmware-tools/lib32/libstdc++.so.6/libstdc++.so.6\n",
    "/usr/lib/vmware-tools/lib64/libstdc++.so.6\n",
    "/usr/lib/vmware-tools/lib64/libstdc++.so.6/libstdc++.so.6\n",
    "/usr/lib/x86_64-linux-gnu/libstdc++.so.6\n",
    "/usr/lib/x86_64-linux-gnu/libstdc++.so.6.0.21\n",
    "find: ‘/run/user/1000/gvfs’: Permission denied\n",
    "/home/little-prince/anaconda2/lib/libstdc++.so.6\n",
    "/home/little-prince/anaconda2/lib/libstdc++.so.6.0.19\n",
    "/home/little-prince/anaconda2/pkgs/libgcc-4.8.5-2/lib/libstdc++.so.6\n",
    "/home/little-prince/anaconda2/pkgs/libgcc-4.8.5-2/lib/libstdc++.so.6.0.19\n",
    "/home/little-prince/文档/vmware-tools-distrib/lib/lib32/libstdc++.so.6\n",
    "/home/little-prince/文档/vmware-tools-distrib/lib/lib32/libstdc++.so.6/libstdc++.so.6\n",
    "/home/little-prince/文档/vmware-tools-distrib/lib/lib64/libstdc++.so.6\n",
    "/home/little-prince/文档/vmware-tools-distrib/lib/lib64/libstdc++.so.6/libstdc++.so.6\n",
    "```\n",
    "其中，`/usr/lib/x86_64-linux-gnu/libstdc++.so.6.0.21`就是我们需要的。接下来执行如下步骤：  \n",
    "1）`rm /home/little-prince/anaconda2/lib/libstdc++.so.6`  \n",
    "2)`cp /usr/lib/x86_64-linux-gnu/libstdc++.so.6.0.21 /home/little-prince/anaconda2/lib/libstdc++.so.6`  \n",
    "\n",
    "2.`/home/little-prince/anaconda2/bin/../lib/libgomp.so.1: version `GOMP_4.0' not found`  \n",
    "原因：  \n",
    "同上，版本太老。  \n",
    "执行\n",
    "```\n",
    "sudo find / -name libgomp.so.1*\n",
    "```\n",
    "找到  \n",
    "```\n",
    "/usr/lib/x86_64-linux-gnu/libgomp.so.1.0.0\n",
    "/usr/lib/x86_64-linux-gnu/libgomp.so.1\n",
    "find: ‘/run/user/1000/gvfs’: Permission denied\n",
    "/home/little-prince/anaconda2/lib/libgomp.so.1.0.0\n",
    "/home/little-prince/anaconda2/lib/libgomp.so.1\n",
    "/home/little-prince/anaconda2/pkgs/libgcc-4.8.5-2/lib/libgomp.so.1.0.0\n",
    "/home/little-prince/anaconda2/pkgs/libgcc-4.8.5-2/lib/libgomp.so.1\n",
    "```\n",
    "运行  \n",
    "```\n",
    "strings /usr/lib/x86_64-linux-gnu/libgomp.so.1 | grep GOMP_4.0\n",
    "```\n",
    "得到  \n",
    "```\n",
    "GOMP_4.0\n",
    "GOMP_4.0.1\n",
    "```\n",
    "说明此文件就是我们想要的。接着执行\n",
    "```\n",
    "rm /home/little-prince/anaconda2/bin/../lib/libgomp.so.1\n",
    "cp /usr/lib/x86_64-linux-gnu/libgomp.so.1 /home/little-prince/anaconda2/bin/../lib/libgomp.so.1\n",
    "```\n"
   ]
  },
  {
   "cell_type": "markdown",
   "metadata": {},
   "source": [
    "## 用xgboost训练分类模型\n",
    "\n",
    "下段代码演示了如何用xgboost训练一个分类器并完成预测：\n"
   ]
  },
  {
   "cell_type": "code",
   "execution_count": 2,
   "metadata": {
    "collapsed": false
   },
   "outputs": [
    {
     "name": "stdout",
     "output_type": "stream",
     "text": [
      "accuracy is: 0.98\n"
     ]
    }
   ],
   "source": [
    "from sklearn.datasets import load_iris\n",
    "from sklearn.model_selection import train_test_split\n",
    "from sklearn.metrics import accuracy_score\n",
    "import xgboost as xgb\n",
    "\n",
    "# loading database\n",
    "iris = load_iris()\n",
    "# split data into train set and test set\n",
    "iris_train, iris_test, y_train, y_test = train_test_split(iris['data'], iris['target'], test_size=0.33, random_state=42)\n",
    "# doing all the XGBoost magic\n",
    "xgb_model = xgb.XGBClassifier().fit(iris_train, y_train)\n",
    "# make predicts on test set\n",
    "y_pred = xgb_model.predict(iris_test)\n",
    "# show accuracy\n",
    "print \"accuracy is:\",accuracy_score(y_test, y_pred)"
   ]
  }
 ],
 "metadata": {
  "kernelspec": {
   "display_name": "Python 2",
   "language": "python",
   "name": "python2"
  },
  "language_info": {
   "codemirror_mode": {
    "name": "ipython",
    "version": 2
   },
   "file_extension": ".py",
   "mimetype": "text/x-python",
   "name": "python",
   "nbconvert_exporter": "python",
   "pygments_lexer": "ipython2",
   "version": "2.7.13"
  }
 },
 "nbformat": 4,
 "nbformat_minor": 2
}
