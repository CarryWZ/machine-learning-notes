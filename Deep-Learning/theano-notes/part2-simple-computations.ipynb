{
 "cells": [
  {
   "cell_type": "markdown",
   "metadata": {},
   "source": [
    "# theano简单计算\n",
    "Theano的核心思想是用符号来定义数学表达式，并采用图的结构来对数学表达式进行建模。这一节将以简单的标量、向量、矩阵运算为例，介绍theano符号图的运作机制。\n"
   ]
  },
  {
   "cell_type": "markdown",
   "metadata": {},
   "source": [
    "## 标量加法\n",
    "让我们先来看一个简单的theano程序，这个程序实现了对任意两个浮点数求和的功能："
   ]
  },
  {
   "cell_type": "code",
   "execution_count": 1,
   "metadata": {
    "collapsed": false
   },
   "outputs": [
    {
     "name": "stdout",
     "output_type": "stream",
     "text": [
      "True\n"
     ]
    },
    {
     "name": "stderr",
     "output_type": "stream",
     "text": [
      "Using gpu device 0: GeForce GTX 960M (CNMeM is disabled, cuDNN not available)\n"
     ]
    }
   ],
   "source": [
    "%matplotlib inline\n",
    "import matplotlib.pyplot as plt\n",
    "import numpy as np\n",
    "import theano \n",
    "import theano.tensor as T\n",
    "from theano import function\n",
    "x = T.dscalar('x') \n",
    "y = T.dscalar('y')\n",
    "z = x + y\n",
    "f = function([x, y], z)\n",
    "print np.allclose(f(1.5, 2.5), 4.0)\n"
   ]
  },
  {
   "cell_type": "markdown",
   "metadata": {},
   "source": [
    "上面的程序主要可以分为三个步骤：声明变量、符号表达式和编译函数\n",
    "## 声明变量\n",
    "声明计算图所要使用的符号以及它们的类型，程序通过`T.dscalar`声明了一个浮点类型的标量符号（以下统称变量），传入的字符串参数作为这个变量的名字。名字不是必须的，即未命名的变量，但是为了便于调试，最好在声明的时候为其命名。注意到`dscalar`并不是一个类，因此`x`和`y`都不是`dscalar`的实例，它们是TensorVariable类的实例对象，然而变量x的type域是`dscalar`类型。"
   ]
  },
  {
   "cell_type": "code",
   "execution_count": 2,
   "metadata": {
    "collapsed": false
   },
   "outputs": [
    {
     "name": "stdout",
     "output_type": "stream",
     "text": [
      "<class 'theano.tensor.var.TensorVariable'>\n",
      "TensorType(float64, scalar)\n",
      "TensorType(float64, scalar)\n",
      "True\n"
     ]
    }
   ],
   "source": [
    "print type(x)\n",
    "print x.type\n",
    "print T.dscalar\n",
    "print x.type is T.dscalar"
   ]
  },
  {
   "cell_type": "markdown",
   "metadata": {},
   "source": [
    "## 建立符号表达式  \n",
    "\n",
    "```\n",
    "z = x + y\n",
    "```\n",
    "\n",
    "`z`是另一个变量，它代表变量x，y的和。我们可以用`pp`函数(pretty-print)输出z的表达式："
   ]
  },
  {
   "cell_type": "code",
   "execution_count": 3,
   "metadata": {
    "collapsed": false
   },
   "outputs": [
    {
     "name": "stdout",
     "output_type": "stream",
     "text": [
      "<class 'theano.tensor.var.TensorVariable'>\n",
      "(x + y)\n"
     ]
    }
   ],
   "source": [
    "from theano import pp\n",
    "print type(z)\n",
    "print pp(z)"
   ]
  },
  {
   "cell_type": "markdown",
   "metadata": {},
   "source": [
    "## 编译函数\n",
    "利用`function`函数将符号表达式编译为可供调用的C函数。function的第一个参数必须是一个变量的列表（即使只有一个变量），作为函数的输入；第二个参数可以是单个变量也可以是变量的列表，无论哪种情况，它都表示要求解的表达式的输出。"
   ]
  },
  {
   "cell_type": "markdown",
   "metadata": {},
   "source": [
    "## eval函数\n",
    "\n",
    "我们可以跳过步骤3，直接使用变量的eval()函数来计算表达式的值，它的好处是不必导入function，同时可以在调试过程中计算表达式的值。以下演示了eval()函数的用法"
   ]
  },
  {
   "cell_type": "code",
   "execution_count": 4,
   "metadata": {
    "collapsed": false
   },
   "outputs": [
    {
     "data": {
      "text/plain": [
       "array(28.4)"
      ]
     },
     "execution_count": 4,
     "metadata": {},
     "output_type": "execute_result"
    }
   ],
   "source": [
    "import theano.tensor as T\n",
    "x = T.dscalar('x')\n",
    "y = T.dscalar('y')\n",
    "z = x + y\n",
    "z.eval({x : 16.3, y : 12.1})"
   ]
  },
  {
   "cell_type": "markdown",
   "metadata": {},
   "source": [
    "我们给eval传入一个将符号映射到具体取值的字典，接着返回表达式的数值。eval()第一次使用会有些慢，因为它需要调用function()来编译表达式。后续对eval()的调用将变得很快，因为编译结果已经被缓存下来。"
   ]
  },
  {
   "cell_type": "markdown",
   "metadata": {},
   "source": [
    "## 矩阵加法\n",
    "只要将前面例子中x，y的类型改变为矩阵即可"
   ]
  },
  {
   "cell_type": "code",
   "execution_count": 5,
   "metadata": {
    "collapsed": true
   },
   "outputs": [],
   "source": [
    "x = T.dmatrix('x')\n",
    "y = T.dmatrix('y')\n",
    "z = x + y\n",
    "f = function([x, y], z)"
   ]
  },
  {
   "cell_type": "markdown",
   "metadata": {},
   "source": [
    "其中`dmatrix`表示浮点矩阵类型，调用新定义的函数计算两个矩阵的和："
   ]
  },
  {
   "cell_type": "code",
   "execution_count": 6,
   "metadata": {
    "collapsed": false
   },
   "outputs": [
    {
     "data": {
      "text/plain": [
       "array([[ 11.,  22.],\n",
       "       [ 33.,  44.]])"
      ]
     },
     "execution_count": 6,
     "metadata": {},
     "output_type": "execute_result"
    }
   ],
   "source": [
    "f([[1, 2], [3, 4]], [[10, 20], [30, 40]])"
   ]
  },
  {
   "cell_type": "markdown",
   "metadata": {},
   "source": [
    "我们也可以将numpy.array直接作为输入："
   ]
  },
  {
   "cell_type": "code",
   "execution_count": 7,
   "metadata": {
    "collapsed": false
   },
   "outputs": [
    {
     "data": {
      "text/plain": [
       "array([[ 11.,  22.],\n",
       "       [ 33.,  44.]])"
      ]
     },
     "execution_count": 7,
     "metadata": {},
     "output_type": "execute_result"
    }
   ],
   "source": [
    "import numpy as np\n",
    "f(np.array([[1, 2], [3, 4]]), np.array([[10, 20], [30, 40]]))"
   ]
  },
  {
   "cell_type": "markdown",
   "metadata": {},
   "source": [
    "使用广播（broadcasting）技术，我们可以拓展标量与矩阵、向量与矩阵，标量与向量的运算，关于这部分内容，请移步[broadcasting in NumPy and Theano](http://deeplearning.net/software/theano/library/tensor/basic.html#broadcasting-in-theano-vs-numpy)"
   ]
  },
  {
   "cell_type": "markdown",
   "metadata": {},
   "source": [
    "## 多个变量的情形\n",
    "我们也可以用T.dscalars函数声明多个变量，完成多个变量的加法，我们还可以用In类给变量设定初始值"
   ]
  },
  {
   "cell_type": "code",
   "execution_count": 8,
   "metadata": {
    "collapsed": false
   },
   "outputs": [
    {
     "name": "stdout",
     "output_type": "stream",
     "text": [
      "4.0\n",
      "12.0\n"
     ]
    }
   ],
   "source": [
    "from theano import In\n",
    "x, y, z = T.dscalars('x', 'y', 'z')\n",
    "s = x + y + z\n",
    "f = theano.function([x, In(y, value=1), In(z, value=2, name='z_by_name')], s)\n",
    "print f(1)\n",
    "print f(1, z_by_name=10)"
   ]
  },
  {
   "cell_type": "markdown",
   "metadata": {},
   "source": [
    "注意到In类并不知道变量z的名字，因此在函数内为z定义了一个新名字，使得我们能够在调用函数时跳过y指定z的值。"
   ]
  },
  {
   "cell_type": "markdown",
   "metadata": {},
   "source": [
    "## theano的Tensor类型\n",
    "theano支持的张量类型总结如下：\n",
    "\n",
    "* byte: bscalar, bvector, bmatrix, brow, bcol, btensor3, btensor4\n",
    "* 16-bit integers: wscalar, wvector, wmatrix, wrow, wcol, wtensor3, wtensor4\n",
    "* 32-bit integers: iscalar, ivector, imatrix, irow, icol, itensor3, itensor4\n",
    "* 64-bit integers: lscalar, lvector, lmatrix, lrow, lcol, ltensor3, ltensor4\n",
    "* float: fscalar, fvector, fmatrix, frow, fcol, ftensor3, ftensor4\n",
    "* double: dscalar, dvector, dmatrix, drow, dcol, dtensor3, dtensor4\n",
    "* complex: cscalar, cvector, cmatrix, crow, ccol, ctensor3, ctensor4\n"
   ]
  },
  {
   "cell_type": "markdown",
   "metadata": {},
   "source": [
    "## 实现sigmoid函数\n",
    "下面我们再来看一个sigmoid函数的例子。sigmoid函数是神经网络中最常用的激活函数之一，它的数学表达式定义为：  \n",
    "$$ \\sigma(x)=\\frac{1}{1+\\exp(-x)}$$\n",
    "\n",
    "其中$x$既可以是一个标量也可以是一个向量（甚至矩阵），当它是向量时$\\sigma(x)$相当于element-wise的sigmoid。  \n"
   ]
  },
  {
   "cell_type": "code",
   "execution_count": 9,
   "metadata": {
    "collapsed": false,
    "scrolled": true
   },
   "outputs": [
    {
     "name": "stdout",
     "output_type": "stream",
     "text": [
      "[ 0.5         0.62245933  0.73105858  0.81757448]\n"
     ]
    },
    {
     "data": {
      "image/png": "[encoded data removed]",
      "text/plain": [
       "<matplotlib.figure.Figure at 0xd5a0dd8>"
      ]
     },
     "metadata": {},
     "output_type": "display_data"
    }
   ],
   "source": [
    "import theano.tensor as T\n",
    "from theano import function\n",
    "import numpy as np\n",
    "import matplotlib.pyplot as plt\n",
    "x = T.dvector('x')\n",
    "s = 1 / (1 + T.exp(-x))\n",
    "sigmoid = function([x], s)\n",
    "print(sigmoid([0, 0.5, 1.0, 1.5]))\n",
    "interval = np.linspace(-10, 10, 1000)\n",
    "fig, ax = plt.subplots(1, 1)\n",
    "ax.plot(interval, sigmoid(interval), 'r-', lw=2)\n",
    "ax.set_xlabel('$x$', fontsize=14)\n",
    "ax.set_ylabel('$\\sigma(x)$', fontsize=14)\n",
    "plt.show()"
   ]
  },
  {
   "cell_type": "markdown",
   "metadata": {},
   "source": [
    "## 实现tanh函数\n",
    "双曲正切函数（tanh）也是比较常用的激活函数，它的数学表达式定以为：\n",
    "$$ tanh(x)=\\frac{\\exp(x)-\\exp(-x)}{exp(x)+exp(-x)}$$\n",
    "它与sigmoid函数的关系为\n",
    "$$ \\sigma(x)=\\frac{1+tanh(x/2)}{2}$$"
   ]
  },
  {
   "cell_type": "code",
   "execution_count": 10,
   "metadata": {
    "collapsed": false
   },
   "outputs": [
    {
     "data": {
      "image/png": "[encoded data removed]",
      "text/plain": [
       "<matplotlib.figure.Figure at 0x1b331438>"
      ]
     },
     "metadata": {},
     "output_type": "display_data"
    }
   ],
   "source": [
    "import theano.tensor as T\n",
    "from theano import function\n",
    "import numpy as np\n",
    "import matplotlib.pyplot as plt\n",
    "x = T.dvector('x')\n",
    "s = (T.exp(x) - T.exp(-x)) / (T.exp(x) + T.exp(-x))\n",
    "tanh = function([x], s)\n",
    "interval = np.linspace(-10, 10, 1000)\n",
    "fig, ax = plt.subplots(1, 1)\n",
    "ax.plot(interval, tanh(interval), 'r-', lw=2)\n",
    "ax.set_xlabel('$x$', fontsize=14)\n",
    "ax.set_ylabel('$tanh(x)$', fontsize=14)\n",
    "plt.show()"
   ]
  },
  {
   "cell_type": "markdown",
   "metadata": {},
   "source": [
    "## 实现relu函数\n",
    "relu函数定义为：\n",
    "$$ relu(x)=\\left\\{\\begin{aligned}x&\\quad \\mbox{if $x>0$}\\\\ 0 &\\quad\\mbox{if $x\\leq 0$}\\end{aligned}\\right.$$"
   ]
  },
  {
   "cell_type": "code",
   "execution_count": 11,
   "metadata": {
    "collapsed": false
   },
   "outputs": [
    {
     "data": {
      "image/png": "[encoded data removed]",
      "text/plain": [
       "<matplotlib.figure.Figure at 0x1b565588>"
      ]
     },
     "metadata": {},
     "output_type": "display_data"
    }
   ],
   "source": [
    "import theano.tensor as T\n",
    "from theano import function\n",
    "import numpy as np\n",
    "import matplotlib.pyplot as plt\n",
    "x = T.dvector('x')\n",
    "s = T.switch(T.gt(x, 0), x, 0)\n",
    "relu = function([x], s)\n",
    "interval = np.linspace(-10, 10, 1000)\n",
    "fig, ax = plt.subplots(1, 1)\n",
    "ax.plot(interval, relu(interval), 'r-', lw=2)\n",
    "ax.set_xlabel('$x$', fontsize=14)\n",
    "ax.set_ylabel('$relu(x)$', fontsize=14)\n",
    "plt.show()"
   ]
  }
 ],
 "metadata": {
  "kernelspec": {
   "display_name": "Python 2",
   "language": "python",
   "name": "python2"
  },
  "language_info": {
   "codemirror_mode": {
    "name": "ipython",
    "version": 2
   },
   "file_extension": ".py",
   "mimetype": "text/x-python",
   "name": "python",
   "nbconvert_exporter": "python",
   "pygments_lexer": "ipython2",
   "version": "2.7.12"
  }
 },
 "nbformat": 4,
 "nbformat_minor": 0
}
