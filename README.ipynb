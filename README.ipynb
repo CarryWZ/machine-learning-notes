{
 "cells": [
  {
   "cell_type": "markdown",
   "metadata": {},
   "source": [
    "# 简介\n",
    "\n",
    "> 作者：hschen\n",
    "\n",
    "> 邮箱：hschen0712@gmail.com\n",
    "\n",
    "此笔记主要总结自一些论文、书籍以及公开课，由于本人水平有限，笔记中难免会出现各种错误，欢迎指正。  \n",
    "由于Github渲染`.ipynb`文件较慢，可以用nbviewer加快渲染：[点此加速](http://nbviewer.jupyter.org/github/hschen0712/machine-learning-notes/blob/master/README.ipynb)\n",
    "\n",
    "\n",
    "## 目录\n",
    "\n",
    "1.[CS229课程笔记](CS229/)\n",
    "- [广义线性模型](CS229/GLM.ipynb)\n",
    "- [增强学习系列1](CS229/RL1.ipynb)\n",
    "- [增强学习系列2](CS229/RL2.ipynb)\n",
    "\n",
    "2.[PRML读书笔记](PRML/)\n",
    "- [第一章 简介](PRML/Chap1-Introduction)\n",
    "    - [1.1 多项式曲线拟合](PRML/Chap1-Introduction/1.1-polynomial-curve-fitting.ipynb)\n",
    "    - [1.2 概率论回顾](PRML/Chap1-Introduction/1.2-probability-theory.ipynb)\n",
    "    - [总结-曲线拟合的三种参数估计方法](PRML/Chap1-Introduction/Summary-three-curve-fitting-approaches.ipynb)\n",
    "- [第三章 线性回归模型](PRML/Chap3-Linear-Models-For-Regression)\n",
    "    - [总结-贝叶斯线性回归](PRML/Chap3-Linear-Models-For-Regression/summary-baysian-linear-regression.ipynb)\n",
    "\n",
    "3.[徐亦达机器学习笔记](YiDaXu ML/)\n",
    "- [采样算法系列1](YiDaXu ML/sampling-methods-part1.ipynb)\n",
    "- [EM算法](YiDaXu ML/EM-review.ipynb)\n",
    "- [变分推断](YiDaXu ML/variational-inference.ipynb)\n",
    "- [高斯分布的变分推断](YiDaXu ML/variational-inference-for-gaussian-distribution.ipynb)\n",
    "- [指数分布族](YiDaXu ML/exponential-family.ipynb)\n",
    "- [指数分布族的变分推断](YiDaXu ML/exponential-family-variational-inference.ipynb)\n",
    "\n",
    "4.[机器学习笔记](Machine Learning/)\n",
    "- [softmax分类器](Machine Learning/softmax-crossentropy-derivative.ipynb)\n",
    "- [用theano实现softmax分类器](Machine Learning/implement-softmax-in-theano.ipynb)\n",
    "- [用SVD实现岭回归](Machine Learning/svd-ridge-regression.ipynb)\n",
    "\n",
    "5.[深度学习笔记](Deep Learning/)\n",
    "- [theano笔记](Deep Learning/theano-notes)\n",
    "  - [2. theano简单计算](Deep Learning/theano-notes/part2-simple-computations.ipynb)\n",
    "  - [3. theano共享变量](Deep Learning/theano-notes/part3-shared-variable.ipynb)\n",
    "  - [4. theano随机数](Deep Learning/theano-notes/part4-random-number.ipynb)\n",
    "  - [6. theano的scan函数](Deep Learning/theano-notes/part6-scan-function.ipynb)\n",
    "- [mxnet笔记](Deep Learning/mxnet-notes)\n",
    "  - [1. Win10下安装mxnet](Deep Learning/mxnet-notes/1-installation.ipynb)\n",
    "- [keras笔记](Deep Learning/keras-notes)\n",
    "  - [keras心得](Deep Learning/keras-notes/keras-tips.ipynb)\n",
    "\n",
    "- [windows下安装caffe](Deep Learning/install-caffe-in-windows.ipynb)\n",
    "- [BP算法矩阵形式推导](Deep Learning/back-propagation-in-matrix-form.ipynb)\n",
    "- [随时间反向传播算法数学推导过程](Deep Learning/back-propagation-through-time.ipynb)\n",
    "- [用numpy实现RNN](Deep Learning/rnn-numpy.ipynb)\n",
    "- [随机矩阵的奇异值分析](Deep Learning/singular-value-of-random-matrix.ipynb)\n"
   ]
  }
 ],
 "metadata": {
  "kernelspec": {
   "display_name": "Python 2",
   "language": "python",
   "name": "python2"
  },
  "language_info": {
   "codemirror_mode": {
    "name": "ipython",
    "version": 2
   },
   "file_extension": ".py",
   "mimetype": "text/x-python",
   "name": "python",
   "nbconvert_exporter": "python",
   "pygments_lexer": "ipython2",
   "version": "2.7.12"
  }
 },
 "nbformat": 4,
 "nbformat_minor": 0
}
