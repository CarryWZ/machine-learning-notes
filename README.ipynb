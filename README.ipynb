{
 "cells": [
  {
   "cell_type": "markdown",
   "metadata": {},
   "source": [
    "# 简介\n",
    "\n",
    "> 作者：hschen\n",
    "\n",
    "> 邮箱：hschen0712@gmail.com\n",
    "\n",
    "此笔记主要总结自一些论文、书籍以及公开课，由于本人才疏学浅，笔记中难免会出现各种错误，欢迎指正。  \n",
    "由于Github加载`.ipynb`文件较慢，可以用nbviewer浏览：[点击浏览](http://nbviewer.jupyter.org/github/hschen0712/machine_learning_notes/blob/master/README.ipynb)\n",
    "\n",
    "\n",
    "## 目录\n",
    "\n",
    "1.[CS229课程笔记](CS229/)\n",
    "- [广义线性模型](CS229/GLM.ipynb)\n",
    "- [增强学习系列1](CS229/RL1.ipynb)\n",
    "- [增强学习系列2](CS229/RL2.ipynb)\n",
    "\n",
    "2.[PRML读书笔记](PRML/)\n",
    "- [第一章 简介](PRML/Chap1-Introduction)\n",
    "    - [曲线拟合的三种参数估计方法](PRML/Chap1-Introduction/three-curve-fitting-approaches.ipynb)\n",
    "- [第三章 线性回归模型](PRML/Chap3-Linear-Models-For-Regression)\n",
    "    - [贝叶斯线性回归](PRML/Chap3-Linear-Models-For-Regression/Baysian Linear Regression.ipynb)\n",
    "\n",
    "3.[徐亦达机器学习笔记](YiDaXu ML/)\n",
    "- [EM算法](YiDaXu ML/EM-review.ipynb)\n",
    "- [变分推断](YiDaXu ML/variational-inference.ipynb)\n",
    "- [高斯分布的变分推断](YiDaXu ML/variational-inference-for-gaussian-distribution.ipynb)\n",
    "- [指数分布族](YiDaXu ML/exponential-family.ipynb)\n",
    "- [指数分布族的变分推断](YiDaXu ML/exponential-family-variational-inference.ipynb)\n",
    "\n",
    "4.[机器学习笔记](Machine Learning/)\n",
    "- [softmax分类器](Machine Learning/softmax-crossentropy-derivative.ipynb)\n",
    "\n",
    "5.[深度学习笔记](Deep Learning/)\n",
    "- [随时间反向传播算法数学推导过程](Deep Learning/BackPropagation Through Time.ipynb)\n"
   ]
  }
 ],
 "metadata": {
  "kernelspec": {
   "display_name": "Python 2",
   "language": "python",
   "name": "python2"
  },
  "language_info": {
   "codemirror_mode": {
    "name": "ipython",
    "version": 2
   },
   "file_extension": ".py",
   "mimetype": "text/x-python",
   "name": "python",
   "nbconvert_exporter": "python",
   "pygments_lexer": "ipython2",
   "version": "2.7.12"
  }
 },
 "nbformat": 4,
 "nbformat_minor": 0
}
